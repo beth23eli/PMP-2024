{
 "nbformat": 4,
 "nbformat_minor": 0,
 "metadata": {
  "colab": {
   "provenance": []
  },
  "kernelspec": {
   "name": "python3",
   "display_name": "Python 3 (ipykernel)",
   "language": "python"
  },
  "language_info": {
   "name": "python"
  },
  "widgets": {
   "application/vnd.jupyter.widget-state+json": {
    "3acf2ceb17fb4309832f6b3bc0b27eae": {
     "model_module": "@jupyter-widgets/output",
     "model_name": "OutputModel",
     "model_module_version": "1.0.0",
     "state": {
      "_dom_classes": [],
      "_model_module": "@jupyter-widgets/output",
      "_model_module_version": "1.0.0",
      "_model_name": "OutputModel",
      "_view_count": null,
      "_view_module": "@jupyter-widgets/output",
      "_view_module_version": "1.0.0",
      "_view_name": "OutputView",
      "layout": "IPY_MODEL_70ed6b4aaf71410b80f0488551c08150",
      "msg_id": "",
      "outputs": [
       {
        "output_type": "display_data",
        "data": {
         "text/plain": "Sampling chain 0, 0 divergences \u001B[32m━━━━━━━━━━━━━━━━━━━━━━━━━━━━━━━━━━━━━━━━\u001B[0m \u001B[35m100%\u001B[0m \u001B[36m0:00:00\u001B[0m / \u001B[33m0:00:02\u001B[0m\n",
         "text/html": "<pre style=\"white-space:pre;overflow-x:auto;line-height:normal;font-family:Menlo,'DejaVu Sans Mono',consolas,'Courier New',monospace\">Sampling chain 0, 0 divergences <span style=\"color: #008000; text-decoration-color: #008000\">━━━━━━━━━━━━━━━━━━━━━━━━━━━━━━━━━━━━━━━━</span> <span style=\"color: #800080; text-decoration-color: #800080\">100%</span> <span style=\"color: #008080; text-decoration-color: #008080\">0:00:00</span> / <span style=\"color: #808000; text-decoration-color: #808000\">0:00:02</span>\n</pre>\n"
        },
        "metadata": {}
       }
      ]
     }
    },
    "70ed6b4aaf71410b80f0488551c08150": {
     "model_module": "@jupyter-widgets/base",
     "model_name": "LayoutModel",
     "model_module_version": "1.2.0",
     "state": {
      "_model_module": "@jupyter-widgets/base",
      "_model_module_version": "1.2.0",
      "_model_name": "LayoutModel",
      "_view_count": null,
      "_view_module": "@jupyter-widgets/base",
      "_view_module_version": "1.2.0",
      "_view_name": "LayoutView",
      "align_content": null,
      "align_items": null,
      "align_self": null,
      "border": null,
      "bottom": null,
      "display": null,
      "flex": null,
      "flex_flow": null,
      "grid_area": null,
      "grid_auto_columns": null,
      "grid_auto_flow": null,
      "grid_auto_rows": null,
      "grid_column": null,
      "grid_gap": null,
      "grid_row": null,
      "grid_template_areas": null,
      "grid_template_columns": null,
      "grid_template_rows": null,
      "height": null,
      "justify_content": null,
      "justify_items": null,
      "left": null,
      "margin": null,
      "max_height": null,
      "max_width": null,
      "min_height": null,
      "min_width": null,
      "object_fit": null,
      "object_position": null,
      "order": null,
      "overflow": null,
      "overflow_x": null,
      "overflow_y": null,
      "padding": null,
      "right": null,
      "top": null,
      "visibility": null,
      "width": null
     }
    },
    "b532dba48a794024a6ccdb165675534a": {
     "model_module": "@jupyter-widgets/output",
     "model_name": "OutputModel",
     "model_module_version": "1.0.0",
     "state": {
      "_dom_classes": [],
      "_model_module": "@jupyter-widgets/output",
      "_model_module_version": "1.0.0",
      "_model_name": "OutputModel",
      "_view_count": null,
      "_view_module": "@jupyter-widgets/output",
      "_view_module_version": "1.0.0",
      "_view_name": "OutputView",
      "layout": "IPY_MODEL_b167fc8b4ca9481da8e7a36a244f7344",
      "msg_id": "",
      "outputs": [
       {
        "output_type": "display_data",
        "data": {
         "text/plain": "Sampling chain 1, 0 divergences \u001B[32m━━━━━━━━━━━━━━━━━━━━━━━━━━━━━━━━━━━━━━━━\u001B[0m \u001B[35m100%\u001B[0m \u001B[36m0:00:00\u001B[0m / \u001B[33m0:00:03\u001B[0m\n",
         "text/html": "<pre style=\"white-space:pre;overflow-x:auto;line-height:normal;font-family:Menlo,'DejaVu Sans Mono',consolas,'Courier New',monospace\">Sampling chain 1, 0 divergences <span style=\"color: #008000; text-decoration-color: #008000\">━━━━━━━━━━━━━━━━━━━━━━━━━━━━━━━━━━━━━━━━</span> <span style=\"color: #800080; text-decoration-color: #800080\">100%</span> <span style=\"color: #008080; text-decoration-color: #008080\">0:00:00</span> / <span style=\"color: #808000; text-decoration-color: #808000\">0:00:03</span>\n</pre>\n"
        },
        "metadata": {}
       }
      ]
     }
    },
    "b167fc8b4ca9481da8e7a36a244f7344": {
     "model_module": "@jupyter-widgets/base",
     "model_name": "LayoutModel",
     "model_module_version": "1.2.0",
     "state": {
      "_model_module": "@jupyter-widgets/base",
      "_model_module_version": "1.2.0",
      "_model_name": "LayoutModel",
      "_view_count": null,
      "_view_module": "@jupyter-widgets/base",
      "_view_module_version": "1.2.0",
      "_view_name": "LayoutView",
      "align_content": null,
      "align_items": null,
      "align_self": null,
      "border": null,
      "bottom": null,
      "display": null,
      "flex": null,
      "flex_flow": null,
      "grid_area": null,
      "grid_auto_columns": null,
      "grid_auto_flow": null,
      "grid_auto_rows": null,
      "grid_column": null,
      "grid_gap": null,
      "grid_row": null,
      "grid_template_areas": null,
      "grid_template_columns": null,
      "grid_template_rows": null,
      "height": null,
      "justify_content": null,
      "justify_items": null,
      "left": null,
      "margin": null,
      "max_height": null,
      "max_width": null,
      "min_height": null,
      "min_width": null,
      "object_fit": null,
      "object_position": null,
      "order": null,
      "overflow": null,
      "overflow_x": null,
      "overflow_y": null,
      "padding": null,
      "right": null,
      "top": null,
      "visibility": null,
      "width": null
     }
    }
   }
  }
 },
 "cells": [
  {
   "cell_type": "code",
   "metadata": {
    "colab": {
     "base_uri": "https://localhost:8080/",
     "height": 559,
     "referenced_widgets": [
      "3acf2ceb17fb4309832f6b3bc0b27eae",
      "70ed6b4aaf71410b80f0488551c08150",
      "b532dba48a794024a6ccdb165675534a",
      "b167fc8b4ca9481da8e7a36a244f7344"
     ]
    },
    "id": "0OaFr5U0jqhm",
    "outputId": "4d45744c-2ed1-43bb-d175-25529f2ad8c1"
   },
   "source": [
    "import pymc as pm\n",
    "import numpy as np\n",
    "import arviz as az\n",
    "import matplotlib.pyplot as plt\n",
    "#folosind inferenta bayesiana estimez parametrii μ (media nivelului de zgomot) și σ (deviația standard a nivelului de zgomot)\n",
    "\n",
    "#datele observate\n",
    "observed_noise = np.array([56, 60, 58, 55, 57, 59, 61, 56, 58, 60])\n",
    "\n",
    "#definesc modelul bayesian\n",
    "with pm.Model() as model:\n",
    "    #media initiala modelata ca o variabila aleatoare normala\n",
    "    mu = pm.Normal(\"mu\", mu=58, sigma=100)\n",
    "    #deviatia st. modelata cu o distributie de tip HalfNormal\n",
    "    sigma = pm.HalfNormal(\"sigma\", sigma=10)\n",
    "\n",
    "    #modelez observatiile cu o distributie normala\n",
    "    noises = pm.Normal(\"noises\", mu=mu, sigma=sigma, observed=observed_noise)\n",
    "    \n",
    "    #generez mostre din distributie\n",
    "    trace = pm.sample(1000, tune=1000, return_inferencedata=True)\n",
    "\n",
    "#intervalul hdi pt mu si sigma\n",
    "mu_hdi = pm.hdi(trace, hdi_prob=0.95)[\"mu\"]\n",
    "sigma_hdi = pm.hdi(trace, hdi_prob=0.95)[\"sigma\"]\n",
    "\n",
    "#intervalele de incredere pt mu si sigma\n",
    "print(f\"Intervalul HDI 95% pentru mu: {mu_hdi[0]:.2f} - {mu_hdi[1]:.2f}\")\n",
    "print(f\"Intervalul HDI 95% pentru sigma: {sigma_hdi[0]:.2f} - {sigma_hdi[1]:.2f}\")\n",
    "\n",
    "#afisez distributiile pt mu si sigma\n",
    "fig, axes = plt.subplots(1, 2, figsize=(12, 5))\n",
    "az.plot_posterior(trace, var_names=[\"mu\", \"sigma\"], hdi_prob=0.95, ax=axes)\n",
    "\n",
    "axes[0].set_title(\"μ media nivelului de zgomot\")\n",
    "axes[0].set_xlabel(\"Valori posibile\")\n",
    "axes[1].set_title(\"σ deviația standard a nivelului de zgomot\")\n",
    "axes[1].set_xlabel(\"Valori posibile\")\n",
    "plt.show()"
   ],
   "outputs": [],
   "execution_count": null
  },
  {
   "metadata": {},
   "cell_type": "code",
   "source": "",
   "outputs": [],
   "execution_count": null
  }
 ]
}
