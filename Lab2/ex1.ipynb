{
 "nbformat": 4,
 "nbformat_minor": 0,
 "metadata": {
  "colab": {
   "provenance": []
  },
  "kernelspec": {
   "name": "python3",
   "display_name": "Python 3 (ipykernel)",
   "language": "python"
  },
  "language_info": {
   "name": "python"
  }
 },
 "cells": [
  {
   "metadata": {},
   "cell_type": "markdown",
   "source": [
    "Considerăm o urnă în care avem 3 bile roşii, 4 albastre şi 2 negre. Aruncăm un zar; dacă obţinem un număr prim, adăugăm o bilă neagră în urnă, dacă obţinem 6, adăugăm o bilă roşie, iar în celelalte cazuri adăugăm o bilă albastră.\n",
    "Apoi extragem o bilă din urnă.\n",
    "a) Simulaţi în Python experimentul de mai sus.\n",
    "b) Folosind modelarea făcută, estimaţi probabilitatea de a obţine o bilă roşie.\n",
    "Bonus. Calculaţi probabilitatea teoretică a evenimentului de mai sus şi comparaţi-o cu cea obţinută."
   ]
  },
  {
   "cell_type": "code",
   "metadata": {
    "colab": {
     "base_uri": "https://localhost:8080/"
    },
    "id": "NrWTD_akSmtG",
    "outputId": "1eb5adb8-5029-485b-a8dc-3c9b07bbae5e",
    "ExecuteTime": {
     "end_time": "2024-11-20T18:32:36.790156Z",
     "start_time": "2024-11-20T18:32:36.765270Z"
    }
   },
   "source": [
    "import random\n",
    "\n",
    "def simulare_experiment():\n",
    "\n",
    "  urna_bile = 3*['rosie'] + 4*['albastra'] + 2*['neagra']\n",
    "\n",
    "  aruncare = random.randint(1, 6)\n",
    "  if aruncare in [2, 3, 5]:\n",
    "    urna_bile.append('neagra')\n",
    "  elif aruncare == 6:\n",
    "    urna_bile.append('rosie')\n",
    "  else:\n",
    "    urna_bile.append('albastra')\n",
    "\n",
    "  extragere = random.choice(urna_bile)\n",
    "\n",
    "  return extragere\n",
    "\n",
    "def estimare_prob(num):\n",
    "  bile_rosii_count = 0\n",
    "\n",
    "  for _ in range(num):\n",
    "        extragere = simulare_experiment()\n",
    "        if extragere == 'rosie':\n",
    "            bile_rosii_count += 1\n",
    "\n",
    "  prob_rosii = bile_rosii_count / num\n",
    "\n",
    "  return prob_rosii\n",
    "\n",
    "\n",
    "num_exp = 10000\n",
    "print(estimare_prob(num_exp))\n",
    ""
   ],
   "outputs": [
    {
     "name": "stdout",
     "output_type": "stream",
     "text": [
      "0.3163\n"
     ]
    }
   ],
   "execution_count": 1
  },
  {
   "cell_type": "markdown",
   "source": [
    "Urna initiala: 3rosii, 4 albastre, 2 negre\n",
    "* daca obtinem nr prim (2, 3, 5) adaugam o bila neagra -> p = 3/6\n",
    "\n",
    "  urna contine [3rosii, 4albastre, 3negre]\n",
    "\n",
    "  p(rosie) = 3/10\n",
    "\n",
    "* daca obtinem 6, adaugam o bila rosie -> p = 1/6\n",
    "\n",
    "  urna contine [4rosii, 4albastre, 2negre]\n",
    "  \n",
    "  p(rosie) = 4/10\n",
    "\n",
    "* altfel, adica obtinem 1 sau 4, adaugam una albastra\n",
    "\n",
    "  urna contine p = 2/6 -> [3rosii, 5albastre, 2negre]\n",
    "  \n",
    "  p(rosie) = 3/10\n",
    "\n",
    "\n",
    "P = (3/6 * 3/10) + (1/6 * 4/10) + (2/6 * 3/10) = 9/60 + 4/60 + 6/60 = 19/60 = 0.31666"
   ],
   "metadata": {
    "id": "dmjtbn5yac8U"
   }
  }
 ]
}
