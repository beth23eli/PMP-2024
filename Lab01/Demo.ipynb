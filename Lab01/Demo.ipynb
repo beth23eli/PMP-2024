{
 "cells": [
  {
   "cell_type": "markdown",
   "metadata": {
    "colab_type": "text",
    "id": "view-in-github"
   },
   "source": [
    "<a href=\"https://colab.research.google.com/github/Tensor-Reloaded/PMP-2024/blob/main/Lab01/Demo.ipynb\" target=\"_parent\"><img src=\"https://colab.research.google.com/assets/colab-badge.svg\" alt=\"Open In Colab\"/></a>"
   ]
  },
  {
   "cell_type": "markdown",
   "metadata": {
    "id": "a2h_GWp9Hjqh"
   },
   "source": [
    "# Estimarea Înălțimii Medii a Studenților\n",
    "Să presupunem că suntem interesați să estimăm înălțimea medie a studenților dintr-o universitate. Nu avem acces la datele întregii populații, dar putem măsura înălțimea unui eșantion aleatoriu de studenți. De asemenea, știm că înălțimile umane urmează aproximativ o distribuție normală.\n",
    "\n",
    "Obiectivul nostru: Să estimăm înălțimea medie (mu) și variația în înălțimi (deviația standard sigma) a tuturor studenților, pe baza unui eșantion."
   ]
  },
  {
   "cell_type": "code",
   "execution_count": 1,
   "metadata": {},
   "outputs": [
    {
     "name": "stdout",
     "output_type": "stream",
     "text": [
      "Python 3.12.6\n"
     ]
    }
   ],
   "source": [
    "!python --version"
   ]
  },
  {
   "cell_type": "markdown",
   "metadata": {
    "id": "0fLA8SEtMPAn"
   },
   "source": [
    "## Pasul 1: Simularea Datelor Observate\n",
    "Pentru a simplifica, vom simula datele noastre observate. Să presupunem că:\n",
    "- Înălțimea medie reală (true_mu): 170 cm\n",
    "- Deviația standard reală (true_sigma): 10 cm\n",
    "\n",
    "Vom genera un eșantion de 100 de studenți ale căror înălțimi le vom utiliza în model."
   ]
  },
  {
   "cell_type": "code",
   "execution_count": 2,
   "metadata": {
    "id": "mb3Ae_tkHiGr"
   },
   "outputs": [
    {
     "name": "stderr",
     "output_type": "stream",
     "text": [
      "WARNING (pytensor.tensor.blas): Using NumPy C-API based implementation for BLAS functions.\n"
     ]
    }
   ],
   "source": [
    "import pymc as pm\n",
    "import numpy as np\n",
    "import matplotlib.pyplot as plt\n",
    "import arviz as az\n",
    "\n",
    "# Seed pentru reproducibilitate\n",
    "np.random.seed(12)\n",
    "\n",
    "# Parametrii reali\n",
    "true_mu = 170       # Înălțimea medie reală în cm\n",
    "true_sigma = 10     # Deviația standard reală în cm\n",
    "\n",
    "# Generăm datele observate (înălțimile studenților)\n",
    "observed_heights = np.random.normal(true_mu, true_sigma, size=100)"
   ]
  },
  {
   "cell_type": "markdown",
   "metadata": {
    "id": "NnHpHW84MJ0L"
   },
   "source": [
    "## Pasul 2: Vizualizarea Datelor\n",
    "Înainte de a construi modelul, este util să vizualizăm datele."
   ]
  },
  {
   "cell_type": "code",
   "execution_count": 3,
   "metadata": {
    "colab": {
     "base_uri": "https://localhost:8080/",
     "height": 477
    },
    "id": "2X_dh69eMfv8",
    "outputId": "fe2c55f4-4442-4812-c513-b28e40a15fa5"
   },
   "outputs": [
    {
     "data": {
      "image/png": "[encoded data removed]",
      "text/plain": [
       "<Figure size 640x480 with 1 Axes>"
      ]
     },
     "metadata": {},
     "output_type": "display_data"
    }
   ],
   "source": [
    "# Afișăm un histogram al înălțimilor observate\n",
    "plt.hist(observed_heights, bins=15, alpha=0.7, color='lightgreen', edgecolor='black')\n",
    "plt.title('Distribuția Înălțimilor Observate ale Studenților')\n",
    "plt.xlabel('Înălțime (cm)')\n",
    "plt.ylabel('Număr de Studenți')\n",
    "plt.show()"
   ]
  },
  {
   "cell_type": "markdown",
   "metadata": {
    "id": "Qn-oz_XOMwmJ"
   },
   "source": [
    "## Pasul 3: Definirea Modelului Probabilistic\n",
    "Utilizăm PyMC pentru a defini un model probabilistic care să ne permită să estimăm mu și sigma pe baza datelor observate."
   ]
  },
  {
   "cell_type": "code",
   "execution_count": 4,
   "metadata": {
    "colab": {
     "base_uri": "https://localhost:8080/",
     "height": 116,
     "referenced_widgets": [
      "2b060d5b92fa473992a4df51d48834d8",
      "ba899ab2bb6345c3b62ab0c190b3b81f",
      "02233561a9254bed8bd211349af7bd95",
      "28536392bbcf4d0abd2e56efdcdfcdc7"
     ]
    },
    "id": "LM5KKOLkMzik",
    "outputId": "9c941123-97fc-46da-f49f-d5680ddb8aae"
   },
   "outputs": [
    {
     "name": "stdout",
     "output_type": "stream",
     "text": [
      "Începem eșantionarea MCMC...\n"
     ]
    },
    {
     "name": "stderr",
     "output_type": "stream",
     "text": [
      "ERROR (pytensor.graph.rewriting.basic): Rewrite failure due to: constant_folding\n",
      "ERROR (pytensor.graph.rewriting.basic): node: Cast{float64}(160)\n",
      "ERROR (pytensor.graph.rewriting.basic): TRACEBACK:\n",
      "ERROR (pytensor.graph.rewriting.basic): Traceback (most recent call last):\n",
      "  File \"c:\\Users\\Eliza\\AppData\\Local\\Programs\\Python\\Python312\\Lib\\site-packages\\pytensor\\graph\\rewriting\\basic.py\", line 1909, in process_node\n",
      "    replacements = node_rewriter.transform(fgraph, node)\n",
      "                   ^^^^^^^^^^^^^^^^^^^^^^^^^^^^^^^^^^^^^\n",
      "  File \"c:\\Users\\Eliza\\AppData\\Local\\Programs\\Python\\Python312\\Lib\\site-packages\\pytensor\\graph\\rewriting\\basic.py\", line 1081, in transform\n",
      "    return self.fn(fgraph, node)\n",
      "           ^^^^^^^^^^^^^^^^^^^^^\n",
      "  File \"c:\\Users\\Eliza\\AppData\\Local\\Programs\\Python\\Python312\\Lib\\site-packages\\pytensor\\tensor\\rewriting\\basic.py\", line 1122, in constant_folding\n",
      "    thunk = node.op.make_thunk(node, storage_map, compute_map, no_recycling=[])\n",
      "            ^^^^^^^^^^^^^^^^^^^^^^^^^^^^^^^^^^^^^^^^^^^^^^^^^^^^^^^^^^^^^^^^^^^\n",
      "  File \"c:\\Users\\Eliza\\AppData\\Local\\Programs\\Python\\Python312\\Lib\\site-packages\\pytensor\\link\\c\\op.py\", line 119, in make_thunk\n",
      "    return self.make_c_thunk(node, storage_map, compute_map, no_recycling)\n",
      "           ^^^^^^^^^^^^^^^^^^^^^^^^^^^^^^^^^^^^^^^^^^^^^^^^^^^^^^^^^^^^^^^\n",
      "  File \"c:\\Users\\Eliza\\AppData\\Local\\Programs\\Python\\Python312\\Lib\\site-packages\\pytensor\\link\\c\\op.py\", line 84, in make_c_thunk\n",
      "    outputs = cl.make_thunk(\n",
      "              ^^^^^^^^^^^^^^\n",
      "  File \"c:\\Users\\Eliza\\AppData\\Local\\Programs\\Python\\Python312\\Lib\\site-packages\\pytensor\\link\\c\\basic.py\", line 1182, in make_thunk\n",
      "    cthunk, module, in_storage, out_storage, error_storage = self.__compile__(\n",
      "                                                             ^^^^^^^^^^^^^^^^^\n",
      "  File \"c:\\Users\\Eliza\\AppData\\Local\\Programs\\Python\\Python312\\Lib\\site-packages\\pytensor\\link\\c\\basic.py\", line 1103, in __compile__\n",
      "    thunk, module = self.cthunk_factory(\n",
      "                    ^^^^^^^^^^^^^^^^^^^^\n",
      "  File \"c:\\Users\\Eliza\\AppData\\Local\\Programs\\Python\\Python312\\Lib\\site-packages\\pytensor\\link\\c\\basic.py\", line 1627, in cthunk_factory\n",
      "    module = cache.module_from_key(key=key, lnk=self)\n",
      "             ^^^^^^^^^^^^^^^^^^^^^^^^^^^^^^^^^^^^^^^^\n",
      "  File \"c:\\Users\\Eliza\\AppData\\Local\\Programs\\Python\\Python312\\Lib\\site-packages\\pytensor\\link\\c\\cmodule.py\", line 1255, in module_from_key\n",
      "    module = lnk.compile_cmodule(location)\n",
      "             ^^^^^^^^^^^^^^^^^^^^^^^^^^^^^\n",
      "  File \"c:\\Users\\Eliza\\AppData\\Local\\Programs\\Python\\Python312\\Lib\\site-packages\\pytensor\\link\\c\\basic.py\", line 1528, in compile_cmodule\n",
      "    module = c_compiler.compile_str(\n",
      "             ^^^^^^^^^^^^^^^^^^^^^^^\n",
      "  File \"c:\\Users\\Eliza\\AppData\\Local\\Programs\\Python\\Python312\\Lib\\site-packages\\pytensor\\link\\c\\cmodule.py\", line 2654, in compile_str\n",
      "    raise CompileError(\n",
      "pytensor.link.c.exceptions.CompileError: Compilation failed (return status=1):\n",
      "\"C:\\MinGW\\bin\\g++.exe\" -shared -g -O3 -fno-math-errno -Wno-unused-label -Wno-unused-variable -Wno-write-strings -Wno-c++11-narrowing -fno-exceptions -fno-unwind-tables -fno-asynchronous-unwind-tables -DNPY_NO_DEPRECATED_API=NPY_1_7_API_VERSION -m64 -DMS_WIN64 -I\"c:\\Users\\Eliza\\AppData\\Local\\Programs\\Python\\Python312\\Lib\\site-packages\\numpy\\core\\include\" -I\"c:\\Users\\Eliza\\AppData\\Local\\Programs\\Python\\Python312\\include\" -I\"c:\\Users\\Eliza\\AppData\\Local\\Programs\\Python\\Python312\\Lib\\site-packages\\pytensor\\link\\c\\c_code\" -L\"c:\\Users\\Eliza\\AppData\\Local\\Programs\\Python\\Python312\\libs\" -L\"c:\\Users\\Eliza\\AppData\\Local\\Programs\\Python\\Python312\" -o \"C:\\Users\\Eliza\\AppData\\Local\\PyTensor\\compiledir_Windows-11-10.0.22631-SP0-Intel64_Family_6_Model_140_Stepping_1_GenuineIntel-3.12.6-64\\tmp30e_zy0h\\m093e93675bb1e57133c29c1d65d67d2da28f6c29d21720f440436dfbbe70c6a7.pyd\" \"C:\\Users\\Eliza\\AppData\\Local\\PyTensor\\compiledir_Windows-11-10.0.22631-SP0-Intel64_Family_6_Model_140_Stepping_1_GenuineIntel-3.12.6-64\\tmp30e_zy0h\\mod.cpp\" \"c:\\Users\\Eliza\\AppData\\Local\\Programs\\Python\\Python312\\python312.dll\"\n",
      "C:\\Users\\Eliza\\AppData\\Local\\PyTensor\\compiledir_Windows-11-10.0.22631-SP0-Intel64_Family_6_Model_140_Stepping_1_GenuineIntel-3.12.6-64\\tmp30e_zy0h\\mod.cpp:1:0: sorry, unimplemented: 64-bit mode not compiled in\n",
      " #include <Python.h>\n",
      " \n",
      "\n",
      "\n"
     ]
    },
    {
     "name": "stdout",
     "output_type": "stream",
     "text": [
      "\n",
      "You can find the C code in this temporary file: C:\\Users\\Eliza\\AppData\\Local\\Temp\\pytensor_compilation_error_19e7dp4z\n"
     ]
    },
    {
     "name": "stderr",
     "output_type": "stream",
     "text": [
      "ERROR (pytensor.graph.rewriting.basic): Rewrite failure due to: constant_folding\n",
      "ERROR (pytensor.graph.rewriting.basic): node: Cast{float32}(10)\n",
      "ERROR (pytensor.graph.rewriting.basic): TRACEBACK:\n",
      "ERROR (pytensor.graph.rewriting.basic): Traceback (most recent call last):\n",
      "  File \"c:\\Users\\Eliza\\AppData\\Local\\Programs\\Python\\Python312\\Lib\\site-packages\\pytensor\\graph\\rewriting\\basic.py\", line 1909, in process_node\n",
      "    replacements = node_rewriter.transform(fgraph, node)\n",
      "                   ^^^^^^^^^^^^^^^^^^^^^^^^^^^^^^^^^^^^^\n",
      "  File \"c:\\Users\\Eliza\\AppData\\Local\\Programs\\Python\\Python312\\Lib\\site-packages\\pytensor\\graph\\rewriting\\basic.py\", line 1081, in transform\n",
      "    return self.fn(fgraph, node)\n",
      "           ^^^^^^^^^^^^^^^^^^^^^\n",
      "  File \"c:\\Users\\Eliza\\AppData\\Local\\Programs\\Python\\Python312\\Lib\\site-packages\\pytensor\\tensor\\rewriting\\basic.py\", line 1122, in constant_folding\n",
      "    thunk = node.op.make_thunk(node, storage_map, compute_map, no_recycling=[])\n",
      "            ^^^^^^^^^^^^^^^^^^^^^^^^^^^^^^^^^^^^^^^^^^^^^^^^^^^^^^^^^^^^^^^^^^^\n",
      "  File \"c:\\Users\\Eliza\\AppData\\Local\\Programs\\Python\\Python312\\Lib\\site-packages\\pytensor\\link\\c\\op.py\", line 119, in make_thunk\n",
      "    return self.make_c_thunk(node, storage_map, compute_map, no_recycling)\n",
      "           ^^^^^^^^^^^^^^^^^^^^^^^^^^^^^^^^^^^^^^^^^^^^^^^^^^^^^^^^^^^^^^^\n",
      "  File \"c:\\Users\\Eliza\\AppData\\Local\\Programs\\Python\\Python312\\Lib\\site-packages\\pytensor\\link\\c\\op.py\", line 84, in make_c_thunk\n",
      "    outputs = cl.make_thunk(\n",
      "              ^^^^^^^^^^^^^^\n",
      "  File \"c:\\Users\\Eliza\\AppData\\Local\\Programs\\Python\\Python312\\Lib\\site-packages\\pytensor\\link\\c\\basic.py\", line 1182, in make_thunk\n",
      "    cthunk, module, in_storage, out_storage, error_storage = self.__compile__(\n",
      "                                                             ^^^^^^^^^^^^^^^^^\n",
      "  File \"c:\\Users\\Eliza\\AppData\\Local\\Programs\\Python\\Python312\\Lib\\site-packages\\pytensor\\link\\c\\basic.py\", line 1103, in __compile__\n",
      "    thunk, module = self.cthunk_factory(\n",
      "                    ^^^^^^^^^^^^^^^^^^^^\n",
      "  File \"c:\\Users\\Eliza\\AppData\\Local\\Programs\\Python\\Python312\\Lib\\site-packages\\pytensor\\link\\c\\basic.py\", line 1627, in cthunk_factory\n",
      "    module = cache.module_from_key(key=key, lnk=self)\n",
      "             ^^^^^^^^^^^^^^^^^^^^^^^^^^^^^^^^^^^^^^^^\n",
      "  File \"c:\\Users\\Eliza\\AppData\\Local\\Programs\\Python\\Python312\\Lib\\site-packages\\pytensor\\link\\c\\cmodule.py\", line 1255, in module_from_key\n",
      "    module = lnk.compile_cmodule(location)\n",
      "             ^^^^^^^^^^^^^^^^^^^^^^^^^^^^^\n",
      "  File \"c:\\Users\\Eliza\\AppData\\Local\\Programs\\Python\\Python312\\Lib\\site-packages\\pytensor\\link\\c\\basic.py\", line 1528, in compile_cmodule\n",
      "    module = c_compiler.compile_str(\n",
      "             ^^^^^^^^^^^^^^^^^^^^^^^\n",
      "  File \"c:\\Users\\Eliza\\AppData\\Local\\Programs\\Python\\Python312\\Lib\\site-packages\\pytensor\\link\\c\\cmodule.py\", line 2654, in compile_str\n",
      "    raise CompileError(\n",
      "pytensor.link.c.exceptions.CompileError: Compilation failed (return status=1):\n",
      "\"C:\\MinGW\\bin\\g++.exe\" -shared -g -O3 -fno-math-errno -Wno-unused-label -Wno-unused-variable -Wno-write-strings -Wno-c++11-narrowing -fno-exceptions -fno-unwind-tables -fno-asynchronous-unwind-tables -DNPY_NO_DEPRECATED_API=NPY_1_7_API_VERSION -m64 -DMS_WIN64 -I\"c:\\Users\\Eliza\\AppData\\Local\\Programs\\Python\\Python312\\Lib\\site-packages\\numpy\\core\\include\" -I\"c:\\Users\\Eliza\\AppData\\Local\\Programs\\Python\\Python312\\include\" -I\"c:\\Users\\Eliza\\AppData\\Local\\Programs\\Python\\Python312\\Lib\\site-packages\\pytensor\\link\\c\\c_code\" -L\"c:\\Users\\Eliza\\AppData\\Local\\Programs\\Python\\Python312\\libs\" -L\"c:\\Users\\Eliza\\AppData\\Local\\Programs\\Python\\Python312\" -o \"C:\\Users\\Eliza\\AppData\\Local\\PyTensor\\compiledir_Windows-11-10.0.22631-SP0-Intel64_Family_6_Model_140_Stepping_1_GenuineIntel-3.12.6-64\\tmphcw0ks2f\\m2850061281cbdf7b13a4e29eff6f67bd9a68a438fa5856abeb446b286e2853da.pyd\" \"C:\\Users\\Eliza\\AppData\\Local\\PyTensor\\compiledir_Windows-11-10.0.22631-SP0-Intel64_Family_6_Model_140_Stepping_1_GenuineIntel-3.12.6-64\\tmphcw0ks2f\\mod.cpp\" \"c:\\Users\\Eliza\\AppData\\Local\\Programs\\Python\\Python312\\python312.dll\"\n",
      "C:\\Users\\Eliza\\AppData\\Local\\PyTensor\\compiledir_Windows-11-10.0.22631-SP0-Intel64_Family_6_Model_140_Stepping_1_GenuineIntel-3.12.6-64\\tmphcw0ks2f\\mod.cpp:1:0: sorry, unimplemented: 64-bit mode not compiled in\n",
      " #include <Python.h>\n",
      " \n",
      "\n",
      "\n"
     ]
    },
    {
     "name": "stdout",
     "output_type": "stream",
     "text": [
      "\n",
      "You can find the C code in this temporary file: C:\\Users\\Eliza\\AppData\\Local\\Temp\\pytensor_compilation_error_gtzy_t6m\n"
     ]
    },
    {
     "name": "stderr",
     "output_type": "stream",
     "text": [
      "ERROR (pytensor.graph.rewriting.basic): Rewrite failure due to: constant_folding\n",
      "ERROR (pytensor.graph.rewriting.basic): node: Cast{float64}(160)\n",
      "ERROR (pytensor.graph.rewriting.basic): TRACEBACK:\n",
      "ERROR (pytensor.graph.rewriting.basic): Traceback (most recent call last):\n",
      "  File \"c:\\Users\\Eliza\\AppData\\Local\\Programs\\Python\\Python312\\Lib\\site-packages\\pytensor\\graph\\rewriting\\basic.py\", line 1909, in process_node\n",
      "    replacements = node_rewriter.transform(fgraph, node)\n",
      "                   ^^^^^^^^^^^^^^^^^^^^^^^^^^^^^^^^^^^^^\n",
      "  File \"c:\\Users\\Eliza\\AppData\\Local\\Programs\\Python\\Python312\\Lib\\site-packages\\pytensor\\graph\\rewriting\\basic.py\", line 1081, in transform\n",
      "    return self.fn(fgraph, node)\n",
      "           ^^^^^^^^^^^^^^^^^^^^^\n",
      "  File \"c:\\Users\\Eliza\\AppData\\Local\\Programs\\Python\\Python312\\Lib\\site-packages\\pytensor\\tensor\\rewriting\\basic.py\", line 1122, in constant_folding\n",
      "    thunk = node.op.make_thunk(node, storage_map, compute_map, no_recycling=[])\n",
      "            ^^^^^^^^^^^^^^^^^^^^^^^^^^^^^^^^^^^^^^^^^^^^^^^^^^^^^^^^^^^^^^^^^^^\n",
      "  File \"c:\\Users\\Eliza\\AppData\\Local\\Programs\\Python\\Python312\\Lib\\site-packages\\pytensor\\link\\c\\op.py\", line 119, in make_thunk\n",
      "    return self.make_c_thunk(node, storage_map, compute_map, no_recycling)\n",
      "           ^^^^^^^^^^^^^^^^^^^^^^^^^^^^^^^^^^^^^^^^^^^^^^^^^^^^^^^^^^^^^^^\n",
      "  File \"c:\\Users\\Eliza\\AppData\\Local\\Programs\\Python\\Python312\\Lib\\site-packages\\pytensor\\link\\c\\op.py\", line 84, in make_c_thunk\n",
      "    outputs = cl.make_thunk(\n",
      "              ^^^^^^^^^^^^^^\n",
      "  File \"c:\\Users\\Eliza\\AppData\\Local\\Programs\\Python\\Python312\\Lib\\site-packages\\pytensor\\link\\c\\basic.py\", line 1182, in make_thunk\n",
      "    cthunk, module, in_storage, out_storage, error_storage = self.__compile__(\n",
      "                                                             ^^^^^^^^^^^^^^^^^\n",
      "  File \"c:\\Users\\Eliza\\AppData\\Local\\Programs\\Python\\Python312\\Lib\\site-packages\\pytensor\\link\\c\\basic.py\", line 1103, in __compile__\n",
      "    thunk, module = self.cthunk_factory(\n",
      "                    ^^^^^^^^^^^^^^^^^^^^\n",
      "  File \"c:\\Users\\Eliza\\AppData\\Local\\Programs\\Python\\Python312\\Lib\\site-packages\\pytensor\\link\\c\\basic.py\", line 1627, in cthunk_factory\n",
      "    module = cache.module_from_key(key=key, lnk=self)\n",
      "             ^^^^^^^^^^^^^^^^^^^^^^^^^^^^^^^^^^^^^^^^\n",
      "  File \"c:\\Users\\Eliza\\AppData\\Local\\Programs\\Python\\Python312\\Lib\\site-packages\\pytensor\\link\\c\\cmodule.py\", line 1255, in module_from_key\n",
      "    module = lnk.compile_cmodule(location)\n",
      "             ^^^^^^^^^^^^^^^^^^^^^^^^^^^^^\n",
      "  File \"c:\\Users\\Eliza\\AppData\\Local\\Programs\\Python\\Python312\\Lib\\site-packages\\pytensor\\link\\c\\basic.py\", line 1528, in compile_cmodule\n",
      "    module = c_compiler.compile_str(\n",
      "             ^^^^^^^^^^^^^^^^^^^^^^^\n",
      "  File \"c:\\Users\\Eliza\\AppData\\Local\\Programs\\Python\\Python312\\Lib\\site-packages\\pytensor\\link\\c\\cmodule.py\", line 2654, in compile_str\n",
      "    raise CompileError(\n",
      "pytensor.link.c.exceptions.CompileError: Compilation failed (return status=1):\n",
      "\"C:\\MinGW\\bin\\g++.exe\" -shared -g -O3 -fno-math-errno -Wno-unused-label -Wno-unused-variable -Wno-write-strings -Wno-c++11-narrowing -fno-exceptions -fno-unwind-tables -fno-asynchronous-unwind-tables -DNPY_NO_DEPRECATED_API=NPY_1_7_API_VERSION -m64 -DMS_WIN64 -I\"c:\\Users\\Eliza\\AppData\\Local\\Programs\\Python\\Python312\\Lib\\site-packages\\numpy\\core\\include\" -I\"c:\\Users\\Eliza\\AppData\\Local\\Programs\\Python\\Python312\\include\" -I\"c:\\Users\\Eliza\\AppData\\Local\\Programs\\Python\\Python312\\Lib\\site-packages\\pytensor\\link\\c\\c_code\" -L\"c:\\Users\\Eliza\\AppData\\Local\\Programs\\Python\\Python312\\libs\" -L\"c:\\Users\\Eliza\\AppData\\Local\\Programs\\Python\\Python312\" -o \"C:\\Users\\Eliza\\AppData\\Local\\PyTensor\\compiledir_Windows-11-10.0.22631-SP0-Intel64_Family_6_Model_140_Stepping_1_GenuineIntel-3.12.6-64\\tmp7fke2kpp\\m093e93675bb1e57133c29c1d65d67d2da28f6c29d21720f440436dfbbe70c6a7.pyd\" \"C:\\Users\\Eliza\\AppData\\Local\\PyTensor\\compiledir_Windows-11-10.0.22631-SP0-Intel64_Family_6_Model_140_Stepping_1_GenuineIntel-3.12.6-64\\tmp7fke2kpp\\mod.cpp\" \"c:\\Users\\Eliza\\AppData\\Local\\Programs\\Python\\Python312\\python312.dll\"\n",
      "C:\\Users\\Eliza\\AppData\\Local\\PyTensor\\compiledir_Windows-11-10.0.22631-SP0-Intel64_Family_6_Model_140_Stepping_1_GenuineIntel-3.12.6-64\\tmp7fke2kpp\\mod.cpp:1:0: sorry, unimplemented: 64-bit mode not compiled in\n",
      " #include <Python.h>\n",
      " \n",
      "\n",
      "\n"
     ]
    },
    {
     "name": "stdout",
     "output_type": "stream",
     "text": [
      "\n",
      "You can find the C code in this temporary file: C:\\Users\\Eliza\\AppData\\Local\\Temp\\pytensor_compilation_error_zsdbriy6\n"
     ]
    },
    {
     "name": "stderr",
     "output_type": "stream",
     "text": [
      "ERROR (pytensor.graph.rewriting.basic): Rewrite failure due to: constant_folding\n",
      "ERROR (pytensor.graph.rewriting.basic): node: Cast{float64}(10)\n",
      "ERROR (pytensor.graph.rewriting.basic): TRACEBACK:\n",
      "ERROR (pytensor.graph.rewriting.basic): Traceback (most recent call last):\n",
      "  File \"c:\\Users\\Eliza\\AppData\\Local\\Programs\\Python\\Python312\\Lib\\site-packages\\pytensor\\graph\\rewriting\\basic.py\", line 1909, in process_node\n",
      "    replacements = node_rewriter.transform(fgraph, node)\n",
      "                   ^^^^^^^^^^^^^^^^^^^^^^^^^^^^^^^^^^^^^\n",
      "  File \"c:\\Users\\Eliza\\AppData\\Local\\Programs\\Python\\Python312\\Lib\\site-packages\\pytensor\\graph\\rewriting\\basic.py\", line 1081, in transform\n",
      "    return self.fn(fgraph, node)\n",
      "           ^^^^^^^^^^^^^^^^^^^^^\n",
      "  File \"c:\\Users\\Eliza\\AppData\\Local\\Programs\\Python\\Python312\\Lib\\site-packages\\pytensor\\tensor\\rewriting\\basic.py\", line 1122, in constant_folding\n",
      "    thunk = node.op.make_thunk(node, storage_map, compute_map, no_recycling=[])\n",
      "            ^^^^^^^^^^^^^^^^^^^^^^^^^^^^^^^^^^^^^^^^^^^^^^^^^^^^^^^^^^^^^^^^^^^\n",
      "  File \"c:\\Users\\Eliza\\AppData\\Local\\Programs\\Python\\Python312\\Lib\\site-packages\\pytensor\\link\\c\\op.py\", line 119, in make_thunk\n",
      "    return self.make_c_thunk(node, storage_map, compute_map, no_recycling)\n",
      "           ^^^^^^^^^^^^^^^^^^^^^^^^^^^^^^^^^^^^^^^^^^^^^^^^^^^^^^^^^^^^^^^\n",
      "  File \"c:\\Users\\Eliza\\AppData\\Local\\Programs\\Python\\Python312\\Lib\\site-packages\\pytensor\\link\\c\\op.py\", line 84, in make_c_thunk\n",
      "    outputs = cl.make_thunk(\n",
      "              ^^^^^^^^^^^^^^\n",
      "  File \"c:\\Users\\Eliza\\AppData\\Local\\Programs\\Python\\Python312\\Lib\\site-packages\\pytensor\\link\\c\\basic.py\", line 1182, in make_thunk\n",
      "    cthunk, module, in_storage, out_storage, error_storage = self.__compile__(\n",
      "                                                             ^^^^^^^^^^^^^^^^^\n",
      "  File \"c:\\Users\\Eliza\\AppData\\Local\\Programs\\Python\\Python312\\Lib\\site-packages\\pytensor\\link\\c\\basic.py\", line 1103, in __compile__\n",
      "    thunk, module = self.cthunk_factory(\n",
      "                    ^^^^^^^^^^^^^^^^^^^^\n",
      "  File \"c:\\Users\\Eliza\\AppData\\Local\\Programs\\Python\\Python312\\Lib\\site-packages\\pytensor\\link\\c\\basic.py\", line 1627, in cthunk_factory\n",
      "    module = cache.module_from_key(key=key, lnk=self)\n",
      "             ^^^^^^^^^^^^^^^^^^^^^^^^^^^^^^^^^^^^^^^^\n",
      "  File \"c:\\Users\\Eliza\\AppData\\Local\\Programs\\Python\\Python312\\Lib\\site-packages\\pytensor\\link\\c\\cmodule.py\", line 1255, in module_from_key\n",
      "    module = lnk.compile_cmodule(location)\n",
      "             ^^^^^^^^^^^^^^^^^^^^^^^^^^^^^\n",
      "  File \"c:\\Users\\Eliza\\AppData\\Local\\Programs\\Python\\Python312\\Lib\\site-packages\\pytensor\\link\\c\\basic.py\", line 1528, in compile_cmodule\n",
      "    module = c_compiler.compile_str(\n",
      "             ^^^^^^^^^^^^^^^^^^^^^^^\n",
      "  File \"c:\\Users\\Eliza\\AppData\\Local\\Programs\\Python\\Python312\\Lib\\site-packages\\pytensor\\link\\c\\cmodule.py\", line 2654, in compile_str\n",
      "    raise CompileError(\n",
      "pytensor.link.c.exceptions.CompileError: Compilation failed (return status=1):\n",
      "\"C:\\MinGW\\bin\\g++.exe\" -shared -g -O3 -fno-math-errno -Wno-unused-label -Wno-unused-variable -Wno-write-strings -Wno-c++11-narrowing -fno-exceptions -fno-unwind-tables -fno-asynchronous-unwind-tables -DNPY_NO_DEPRECATED_API=NPY_1_7_API_VERSION -m64 -DMS_WIN64 -I\"c:\\Users\\Eliza\\AppData\\Local\\Programs\\Python\\Python312\\Lib\\site-packages\\numpy\\core\\include\" -I\"c:\\Users\\Eliza\\AppData\\Local\\Programs\\Python\\Python312\\include\" -I\"c:\\Users\\Eliza\\AppData\\Local\\Programs\\Python\\Python312\\Lib\\site-packages\\pytensor\\link\\c\\c_code\" -L\"c:\\Users\\Eliza\\AppData\\Local\\Programs\\Python\\Python312\\libs\" -L\"c:\\Users\\Eliza\\AppData\\Local\\Programs\\Python\\Python312\" -o \"C:\\Users\\Eliza\\AppData\\Local\\PyTensor\\compiledir_Windows-11-10.0.22631-SP0-Intel64_Family_6_Model_140_Stepping_1_GenuineIntel-3.12.6-64\\tmpt7756te9\\m0de214ec04e404e0b98e77bebd2d95875e2e4b7b75c150c7f6478c42e61da0fa.pyd\" \"C:\\Users\\Eliza\\AppData\\Local\\PyTensor\\compiledir_Windows-11-10.0.22631-SP0-Intel64_Family_6_Model_140_Stepping_1_GenuineIntel-3.12.6-64\\tmpt7756te9\\mod.cpp\" \"c:\\Users\\Eliza\\AppData\\Local\\Programs\\Python\\Python312\\python312.dll\"\n",
      "C:\\Users\\Eliza\\AppData\\Local\\PyTensor\\compiledir_Windows-11-10.0.22631-SP0-Intel64_Family_6_Model_140_Stepping_1_GenuineIntel-3.12.6-64\\tmpt7756te9\\mod.cpp:1:0: sorry, unimplemented: 64-bit mode not compiled in\n",
      " #include <Python.h>\n",
      " \n",
      "\n",
      "\n"
     ]
    },
    {
     "name": "stdout",
     "output_type": "stream",
     "text": [
      "\n",
      "You can find the C code in this temporary file: C:\\Users\\Eliza\\AppData\\Local\\Temp\\pytensor_compilation_error_32svjek8\n"
     ]
    },
    {
     "name": "stderr",
     "output_type": "stream",
     "text": [
      "ERROR (pytensor.graph.rewriting.basic): Rewrite failure due to: constant_folding\n",
      "ERROR (pytensor.graph.rewriting.basic): node: Cast{float64}(160)\n",
      "ERROR (pytensor.graph.rewriting.basic): TRACEBACK:\n",
      "ERROR (pytensor.graph.rewriting.basic): Traceback (most recent call last):\n",
      "  File \"c:\\Users\\Eliza\\AppData\\Local\\Programs\\Python\\Python312\\Lib\\site-packages\\pytensor\\graph\\rewriting\\basic.py\", line 1909, in process_node\n",
      "    replacements = node_rewriter.transform(fgraph, node)\n",
      "                   ^^^^^^^^^^^^^^^^^^^^^^^^^^^^^^^^^^^^^\n",
      "  File \"c:\\Users\\Eliza\\AppData\\Local\\Programs\\Python\\Python312\\Lib\\site-packages\\pytensor\\graph\\rewriting\\basic.py\", line 1081, in transform\n",
      "    return self.fn(fgraph, node)\n",
      "           ^^^^^^^^^^^^^^^^^^^^^\n",
      "  File \"c:\\Users\\Eliza\\AppData\\Local\\Programs\\Python\\Python312\\Lib\\site-packages\\pytensor\\tensor\\rewriting\\basic.py\", line 1122, in constant_folding\n",
      "    thunk = node.op.make_thunk(node, storage_map, compute_map, no_recycling=[])\n",
      "            ^^^^^^^^^^^^^^^^^^^^^^^^^^^^^^^^^^^^^^^^^^^^^^^^^^^^^^^^^^^^^^^^^^^\n",
      "  File \"c:\\Users\\Eliza\\AppData\\Local\\Programs\\Python\\Python312\\Lib\\site-packages\\pytensor\\link\\c\\op.py\", line 119, in make_thunk\n",
      "    return self.make_c_thunk(node, storage_map, compute_map, no_recycling)\n",
      "           ^^^^^^^^^^^^^^^^^^^^^^^^^^^^^^^^^^^^^^^^^^^^^^^^^^^^^^^^^^^^^^^\n",
      "  File \"c:\\Users\\Eliza\\AppData\\Local\\Programs\\Python\\Python312\\Lib\\site-packages\\pytensor\\link\\c\\op.py\", line 84, in make_c_thunk\n",
      "    outputs = cl.make_thunk(\n",
      "              ^^^^^^^^^^^^^^\n",
      "  File \"c:\\Users\\Eliza\\AppData\\Local\\Programs\\Python\\Python312\\Lib\\site-packages\\pytensor\\link\\c\\basic.py\", line 1182, in make_thunk\n",
      "    cthunk, module, in_storage, out_storage, error_storage = self.__compile__(\n",
      "                                                             ^^^^^^^^^^^^^^^^^\n",
      "  File \"c:\\Users\\Eliza\\AppData\\Local\\Programs\\Python\\Python312\\Lib\\site-packages\\pytensor\\link\\c\\basic.py\", line 1103, in __compile__\n",
      "    thunk, module = self.cthunk_factory(\n",
      "                    ^^^^^^^^^^^^^^^^^^^^\n",
      "  File \"c:\\Users\\Eliza\\AppData\\Local\\Programs\\Python\\Python312\\Lib\\site-packages\\pytensor\\link\\c\\basic.py\", line 1627, in cthunk_factory\n",
      "    module = cache.module_from_key(key=key, lnk=self)\n",
      "             ^^^^^^^^^^^^^^^^^^^^^^^^^^^^^^^^^^^^^^^^\n",
      "  File \"c:\\Users\\Eliza\\AppData\\Local\\Programs\\Python\\Python312\\Lib\\site-packages\\pytensor\\link\\c\\cmodule.py\", line 1255, in module_from_key\n",
      "    module = lnk.compile_cmodule(location)\n",
      "             ^^^^^^^^^^^^^^^^^^^^^^^^^^^^^\n",
      "  File \"c:\\Users\\Eliza\\AppData\\Local\\Programs\\Python\\Python312\\Lib\\site-packages\\pytensor\\link\\c\\basic.py\", line 1528, in compile_cmodule\n",
      "    module = c_compiler.compile_str(\n",
      "             ^^^^^^^^^^^^^^^^^^^^^^^\n",
      "  File \"c:\\Users\\Eliza\\AppData\\Local\\Programs\\Python\\Python312\\Lib\\site-packages\\pytensor\\link\\c\\cmodule.py\", line 2654, in compile_str\n",
      "    raise CompileError(\n",
      "pytensor.link.c.exceptions.CompileError: Compilation failed (return status=1):\n",
      "\"C:\\MinGW\\bin\\g++.exe\" -shared -g -O3 -fno-math-errno -Wno-unused-label -Wno-unused-variable -Wno-write-strings -Wno-c++11-narrowing -fno-exceptions -fno-unwind-tables -fno-asynchronous-unwind-tables -DNPY_NO_DEPRECATED_API=NPY_1_7_API_VERSION -m64 -DMS_WIN64 -I\"c:\\Users\\Eliza\\AppData\\Local\\Programs\\Python\\Python312\\Lib\\site-packages\\numpy\\core\\include\" -I\"c:\\Users\\Eliza\\AppData\\Local\\Programs\\Python\\Python312\\include\" -I\"c:\\Users\\Eliza\\AppData\\Local\\Programs\\Python\\Python312\\Lib\\site-packages\\pytensor\\link\\c\\c_code\" -L\"c:\\Users\\Eliza\\AppData\\Local\\Programs\\Python\\Python312\\libs\" -L\"c:\\Users\\Eliza\\AppData\\Local\\Programs\\Python\\Python312\" -o \"C:\\Users\\Eliza\\AppData\\Local\\PyTensor\\compiledir_Windows-11-10.0.22631-SP0-Intel64_Family_6_Model_140_Stepping_1_GenuineIntel-3.12.6-64\\tmp44c2dikl\\m093e93675bb1e57133c29c1d65d67d2da28f6c29d21720f440436dfbbe70c6a7.pyd\" \"C:\\Users\\Eliza\\AppData\\Local\\PyTensor\\compiledir_Windows-11-10.0.22631-SP0-Intel64_Family_6_Model_140_Stepping_1_GenuineIntel-3.12.6-64\\tmp44c2dikl\\mod.cpp\" \"c:\\Users\\Eliza\\AppData\\Local\\Programs\\Python\\Python312\\python312.dll\"\n",
      "C:\\Users\\Eliza\\AppData\\Local\\PyTensor\\compiledir_Windows-11-10.0.22631-SP0-Intel64_Family_6_Model_140_Stepping_1_GenuineIntel-3.12.6-64\\tmp44c2dikl\\mod.cpp:1:0: sorry, unimplemented: 64-bit mode not compiled in\n",
      " #include <Python.h>\n",
      " \n",
      "\n",
      "\n"
     ]
    },
    {
     "name": "stdout",
     "output_type": "stream",
     "text": [
      "\n",
      "You can find the C code in this temporary file: C:\\Users\\Eliza\\AppData\\Local\\Temp\\pytensor_compilation_error_ky4r4ipa\n"
     ]
    },
    {
     "name": "stderr",
     "output_type": "stream",
     "text": [
      "ERROR (pytensor.graph.rewriting.basic): Rewrite failure due to: constant_folding\n",
      "ERROR (pytensor.graph.rewriting.basic): node: Cast{float64}(10)\n",
      "ERROR (pytensor.graph.rewriting.basic): TRACEBACK:\n",
      "ERROR (pytensor.graph.rewriting.basic): Traceback (most recent call last):\n",
      "  File \"c:\\Users\\Eliza\\AppData\\Local\\Programs\\Python\\Python312\\Lib\\site-packages\\pytensor\\graph\\rewriting\\basic.py\", line 1909, in process_node\n",
      "    replacements = node_rewriter.transform(fgraph, node)\n",
      "                   ^^^^^^^^^^^^^^^^^^^^^^^^^^^^^^^^^^^^^\n",
      "  File \"c:\\Users\\Eliza\\AppData\\Local\\Programs\\Python\\Python312\\Lib\\site-packages\\pytensor\\graph\\rewriting\\basic.py\", line 1081, in transform\n",
      "    return self.fn(fgraph, node)\n",
      "           ^^^^^^^^^^^^^^^^^^^^^\n",
      "  File \"c:\\Users\\Eliza\\AppData\\Local\\Programs\\Python\\Python312\\Lib\\site-packages\\pytensor\\tensor\\rewriting\\basic.py\", line 1122, in constant_folding\n",
      "    thunk = node.op.make_thunk(node, storage_map, compute_map, no_recycling=[])\n",
      "            ^^^^^^^^^^^^^^^^^^^^^^^^^^^^^^^^^^^^^^^^^^^^^^^^^^^^^^^^^^^^^^^^^^^\n",
      "  File \"c:\\Users\\Eliza\\AppData\\Local\\Programs\\Python\\Python312\\Lib\\site-packages\\pytensor\\link\\c\\op.py\", line 119, in make_thunk\n",
      "    return self.make_c_thunk(node, storage_map, compute_map, no_recycling)\n",
      "           ^^^^^^^^^^^^^^^^^^^^^^^^^^^^^^^^^^^^^^^^^^^^^^^^^^^^^^^^^^^^^^^\n",
      "  File \"c:\\Users\\Eliza\\AppData\\Local\\Programs\\Python\\Python312\\Lib\\site-packages\\pytensor\\link\\c\\op.py\", line 84, in make_c_thunk\n",
      "    outputs = cl.make_thunk(\n",
      "              ^^^^^^^^^^^^^^\n",
      "  File \"c:\\Users\\Eliza\\AppData\\Local\\Programs\\Python\\Python312\\Lib\\site-packages\\pytensor\\link\\c\\basic.py\", line 1182, in make_thunk\n",
      "    cthunk, module, in_storage, out_storage, error_storage = self.__compile__(\n",
      "                                                             ^^^^^^^^^^^^^^^^^\n",
      "  File \"c:\\Users\\Eliza\\AppData\\Local\\Programs\\Python\\Python312\\Lib\\site-packages\\pytensor\\link\\c\\basic.py\", line 1103, in __compile__\n",
      "    thunk, module = self.cthunk_factory(\n",
      "                    ^^^^^^^^^^^^^^^^^^^^\n",
      "  File \"c:\\Users\\Eliza\\AppData\\Local\\Programs\\Python\\Python312\\Lib\\site-packages\\pytensor\\link\\c\\basic.py\", line 1627, in cthunk_factory\n",
      "    module = cache.module_from_key(key=key, lnk=self)\n",
      "             ^^^^^^^^^^^^^^^^^^^^^^^^^^^^^^^^^^^^^^^^\n",
      "  File \"c:\\Users\\Eliza\\AppData\\Local\\Programs\\Python\\Python312\\Lib\\site-packages\\pytensor\\link\\c\\cmodule.py\", line 1255, in module_from_key\n",
      "    module = lnk.compile_cmodule(location)\n",
      "             ^^^^^^^^^^^^^^^^^^^^^^^^^^^^^\n",
      "  File \"c:\\Users\\Eliza\\AppData\\Local\\Programs\\Python\\Python312\\Lib\\site-packages\\pytensor\\link\\c\\basic.py\", line 1528, in compile_cmodule\n",
      "    module = c_compiler.compile_str(\n",
      "             ^^^^^^^^^^^^^^^^^^^^^^^\n",
      "  File \"c:\\Users\\Eliza\\AppData\\Local\\Programs\\Python\\Python312\\Lib\\site-packages\\pytensor\\link\\c\\cmodule.py\", line 2654, in compile_str\n",
      "    raise CompileError(\n",
      "pytensor.link.c.exceptions.CompileError: Compilation failed (return status=1):\n",
      "\"C:\\MinGW\\bin\\g++.exe\" -shared -g -O3 -fno-math-errno -Wno-unused-label -Wno-unused-variable -Wno-write-strings -Wno-c++11-narrowing -fno-exceptions -fno-unwind-tables -fno-asynchronous-unwind-tables -DNPY_NO_DEPRECATED_API=NPY_1_7_API_VERSION -m64 -DMS_WIN64 -I\"c:\\Users\\Eliza\\AppData\\Local\\Programs\\Python\\Python312\\Lib\\site-packages\\numpy\\core\\include\" -I\"c:\\Users\\Eliza\\AppData\\Local\\Programs\\Python\\Python312\\include\" -I\"c:\\Users\\Eliza\\AppData\\Local\\Programs\\Python\\Python312\\Lib\\site-packages\\pytensor\\link\\c\\c_code\" -L\"c:\\Users\\Eliza\\AppData\\Local\\Programs\\Python\\Python312\\libs\" -L\"c:\\Users\\Eliza\\AppData\\Local\\Programs\\Python\\Python312\" -o \"C:\\Users\\Eliza\\AppData\\Local\\PyTensor\\compiledir_Windows-11-10.0.22631-SP0-Intel64_Family_6_Model_140_Stepping_1_GenuineIntel-3.12.6-64\\tmpeash4qh3\\m0de214ec04e404e0b98e77bebd2d95875e2e4b7b75c150c7f6478c42e61da0fa.pyd\" \"C:\\Users\\Eliza\\AppData\\Local\\PyTensor\\compiledir_Windows-11-10.0.22631-SP0-Intel64_Family_6_Model_140_Stepping_1_GenuineIntel-3.12.6-64\\tmpeash4qh3\\mod.cpp\" \"c:\\Users\\Eliza\\AppData\\Local\\Programs\\Python\\Python312\\python312.dll\"\n",
      "C:\\Users\\Eliza\\AppData\\Local\\PyTensor\\compiledir_Windows-11-10.0.22631-SP0-Intel64_Family_6_Model_140_Stepping_1_GenuineIntel-3.12.6-64\\tmpeash4qh3\\mod.cpp:1:0: sorry, unimplemented: 64-bit mode not compiled in\n",
      " #include <Python.h>\n",
      " \n",
      "\n",
      "\n"
     ]
    },
    {
     "name": "stdout",
     "output_type": "stream",
     "text": [
      "\n",
      "You can find the C code in this temporary file: C:\\Users\\Eliza\\AppData\\Local\\Temp\\pytensor_compilation_error_egkl5buh\n"
     ]
    },
    {
     "name": "stderr",
     "output_type": "stream",
     "text": [
      "ERROR (pytensor.graph.rewriting.basic): Rewrite failure due to: constant_folding\n",
      "ERROR (pytensor.graph.rewriting.basic): node: Cast{float64}(160)\n",
      "ERROR (pytensor.graph.rewriting.basic): TRACEBACK:\n",
      "ERROR (pytensor.graph.rewriting.basic): Traceback (most recent call last):\n",
      "  File \"c:\\Users\\Eliza\\AppData\\Local\\Programs\\Python\\Python312\\Lib\\site-packages\\pytensor\\graph\\rewriting\\basic.py\", line 1909, in process_node\n",
      "    replacements = node_rewriter.transform(fgraph, node)\n",
      "                   ^^^^^^^^^^^^^^^^^^^^^^^^^^^^^^^^^^^^^\n",
      "  File \"c:\\Users\\Eliza\\AppData\\Local\\Programs\\Python\\Python312\\Lib\\site-packages\\pytensor\\graph\\rewriting\\basic.py\", line 1081, in transform\n",
      "    return self.fn(fgraph, node)\n",
      "           ^^^^^^^^^^^^^^^^^^^^^\n",
      "  File \"c:\\Users\\Eliza\\AppData\\Local\\Programs\\Python\\Python312\\Lib\\site-packages\\pytensor\\tensor\\rewriting\\basic.py\", line 1122, in constant_folding\n",
      "    thunk = node.op.make_thunk(node, storage_map, compute_map, no_recycling=[])\n",
      "            ^^^^^^^^^^^^^^^^^^^^^^^^^^^^^^^^^^^^^^^^^^^^^^^^^^^^^^^^^^^^^^^^^^^\n",
      "  File \"c:\\Users\\Eliza\\AppData\\Local\\Programs\\Python\\Python312\\Lib\\site-packages\\pytensor\\link\\c\\op.py\", line 119, in make_thunk\n",
      "    return self.make_c_thunk(node, storage_map, compute_map, no_recycling)\n",
      "           ^^^^^^^^^^^^^^^^^^^^^^^^^^^^^^^^^^^^^^^^^^^^^^^^^^^^^^^^^^^^^^^\n",
      "  File \"c:\\Users\\Eliza\\AppData\\Local\\Programs\\Python\\Python312\\Lib\\site-packages\\pytensor\\link\\c\\op.py\", line 84, in make_c_thunk\n",
      "    outputs = cl.make_thunk(\n",
      "              ^^^^^^^^^^^^^^\n",
      "  File \"c:\\Users\\Eliza\\AppData\\Local\\Programs\\Python\\Python312\\Lib\\site-packages\\pytensor\\link\\c\\basic.py\", line 1182, in make_thunk\n",
      "    cthunk, module, in_storage, out_storage, error_storage = self.__compile__(\n",
      "                                                             ^^^^^^^^^^^^^^^^^\n",
      "  File \"c:\\Users\\Eliza\\AppData\\Local\\Programs\\Python\\Python312\\Lib\\site-packages\\pytensor\\link\\c\\basic.py\", line 1103, in __compile__\n",
      "    thunk, module = self.cthunk_factory(\n",
      "                    ^^^^^^^^^^^^^^^^^^^^\n",
      "  File \"c:\\Users\\Eliza\\AppData\\Local\\Programs\\Python\\Python312\\Lib\\site-packages\\pytensor\\link\\c\\basic.py\", line 1627, in cthunk_factory\n",
      "    module = cache.module_from_key(key=key, lnk=self)\n",
      "             ^^^^^^^^^^^^^^^^^^^^^^^^^^^^^^^^^^^^^^^^\n",
      "  File \"c:\\Users\\Eliza\\AppData\\Local\\Programs\\Python\\Python312\\Lib\\site-packages\\pytensor\\link\\c\\cmodule.py\", line 1255, in module_from_key\n",
      "    module = lnk.compile_cmodule(location)\n",
      "             ^^^^^^^^^^^^^^^^^^^^^^^^^^^^^\n",
      "  File \"c:\\Users\\Eliza\\AppData\\Local\\Programs\\Python\\Python312\\Lib\\site-packages\\pytensor\\link\\c\\basic.py\", line 1528, in compile_cmodule\n",
      "    module = c_compiler.compile_str(\n",
      "             ^^^^^^^^^^^^^^^^^^^^^^^\n",
      "  File \"c:\\Users\\Eliza\\AppData\\Local\\Programs\\Python\\Python312\\Lib\\site-packages\\pytensor\\link\\c\\cmodule.py\", line 2654, in compile_str\n",
      "    raise CompileError(\n",
      "pytensor.link.c.exceptions.CompileError: Compilation failed (return status=1):\n",
      "\"C:\\MinGW\\bin\\g++.exe\" -shared -g -O3 -fno-math-errno -Wno-unused-label -Wno-unused-variable -Wno-write-strings -Wno-c++11-narrowing -fno-exceptions -fno-unwind-tables -fno-asynchronous-unwind-tables -DNPY_NO_DEPRECATED_API=NPY_1_7_API_VERSION -m64 -DMS_WIN64 -I\"c:\\Users\\Eliza\\AppData\\Local\\Programs\\Python\\Python312\\Lib\\site-packages\\numpy\\core\\include\" -I\"c:\\Users\\Eliza\\AppData\\Local\\Programs\\Python\\Python312\\include\" -I\"c:\\Users\\Eliza\\AppData\\Local\\Programs\\Python\\Python312\\Lib\\site-packages\\pytensor\\link\\c\\c_code\" -L\"c:\\Users\\Eliza\\AppData\\Local\\Programs\\Python\\Python312\\libs\" -L\"c:\\Users\\Eliza\\AppData\\Local\\Programs\\Python\\Python312\" -o \"C:\\Users\\Eliza\\AppData\\Local\\PyTensor\\compiledir_Windows-11-10.0.22631-SP0-Intel64_Family_6_Model_140_Stepping_1_GenuineIntel-3.12.6-64\\tmp932otl61\\m093e93675bb1e57133c29c1d65d67d2da28f6c29d21720f440436dfbbe70c6a7.pyd\" \"C:\\Users\\Eliza\\AppData\\Local\\PyTensor\\compiledir_Windows-11-10.0.22631-SP0-Intel64_Family_6_Model_140_Stepping_1_GenuineIntel-3.12.6-64\\tmp932otl61\\mod.cpp\" \"c:\\Users\\Eliza\\AppData\\Local\\Programs\\Python\\Python312\\python312.dll\"\n",
      "C:\\Users\\Eliza\\AppData\\Local\\PyTensor\\compiledir_Windows-11-10.0.22631-SP0-Intel64_Family_6_Model_140_Stepping_1_GenuineIntel-3.12.6-64\\tmp932otl61\\mod.cpp:1:0: sorry, unimplemented: 64-bit mode not compiled in\n",
      " #include <Python.h>\n",
      " \n",
      "\n",
      "\n"
     ]
    },
    {
     "name": "stdout",
     "output_type": "stream",
     "text": [
      "\n",
      "You can find the C code in this temporary file: C:\\Users\\Eliza\\AppData\\Local\\Temp\\pytensor_compilation_error_91ttm33u\n"
     ]
    },
    {
     "name": "stderr",
     "output_type": "stream",
     "text": [
      "ERROR (pytensor.graph.rewriting.basic): Rewrite failure due to: constant_folding\n",
      "ERROR (pytensor.graph.rewriting.basic): node: Cast{float64}(10)\n",
      "ERROR (pytensor.graph.rewriting.basic): TRACEBACK:\n",
      "ERROR (pytensor.graph.rewriting.basic): Traceback (most recent call last):\n",
      "  File \"c:\\Users\\Eliza\\AppData\\Local\\Programs\\Python\\Python312\\Lib\\site-packages\\pytensor\\graph\\rewriting\\basic.py\", line 1909, in process_node\n",
      "    replacements = node_rewriter.transform(fgraph, node)\n",
      "                   ^^^^^^^^^^^^^^^^^^^^^^^^^^^^^^^^^^^^^\n",
      "  File \"c:\\Users\\Eliza\\AppData\\Local\\Programs\\Python\\Python312\\Lib\\site-packages\\pytensor\\graph\\rewriting\\basic.py\", line 1081, in transform\n",
      "    return self.fn(fgraph, node)\n",
      "           ^^^^^^^^^^^^^^^^^^^^^\n",
      "  File \"c:\\Users\\Eliza\\AppData\\Local\\Programs\\Python\\Python312\\Lib\\site-packages\\pytensor\\tensor\\rewriting\\basic.py\", line 1122, in constant_folding\n",
      "    thunk = node.op.make_thunk(node, storage_map, compute_map, no_recycling=[])\n",
      "            ^^^^^^^^^^^^^^^^^^^^^^^^^^^^^^^^^^^^^^^^^^^^^^^^^^^^^^^^^^^^^^^^^^^\n",
      "  File \"c:\\Users\\Eliza\\AppData\\Local\\Programs\\Python\\Python312\\Lib\\site-packages\\pytensor\\link\\c\\op.py\", line 119, in make_thunk\n",
      "    return self.make_c_thunk(node, storage_map, compute_map, no_recycling)\n",
      "           ^^^^^^^^^^^^^^^^^^^^^^^^^^^^^^^^^^^^^^^^^^^^^^^^^^^^^^^^^^^^^^^\n",
      "  File \"c:\\Users\\Eliza\\AppData\\Local\\Programs\\Python\\Python312\\Lib\\site-packages\\pytensor\\link\\c\\op.py\", line 84, in make_c_thunk\n",
      "    outputs = cl.make_thunk(\n",
      "              ^^^^^^^^^^^^^^\n",
      "  File \"c:\\Users\\Eliza\\AppData\\Local\\Programs\\Python\\Python312\\Lib\\site-packages\\pytensor\\link\\c\\basic.py\", line 1182, in make_thunk\n",
      "    cthunk, module, in_storage, out_storage, error_storage = self.__compile__(\n",
      "                                                             ^^^^^^^^^^^^^^^^^\n",
      "  File \"c:\\Users\\Eliza\\AppData\\Local\\Programs\\Python\\Python312\\Lib\\site-packages\\pytensor\\link\\c\\basic.py\", line 1103, in __compile__\n",
      "    thunk, module = self.cthunk_factory(\n",
      "                    ^^^^^^^^^^^^^^^^^^^^\n",
      "  File \"c:\\Users\\Eliza\\AppData\\Local\\Programs\\Python\\Python312\\Lib\\site-packages\\pytensor\\link\\c\\basic.py\", line 1627, in cthunk_factory\n",
      "    module = cache.module_from_key(key=key, lnk=self)\n",
      "             ^^^^^^^^^^^^^^^^^^^^^^^^^^^^^^^^^^^^^^^^\n",
      "  File \"c:\\Users\\Eliza\\AppData\\Local\\Programs\\Python\\Python312\\Lib\\site-packages\\pytensor\\link\\c\\cmodule.py\", line 1255, in module_from_key\n",
      "    module = lnk.compile_cmodule(location)\n",
      "             ^^^^^^^^^^^^^^^^^^^^^^^^^^^^^\n",
      "  File \"c:\\Users\\Eliza\\AppData\\Local\\Programs\\Python\\Python312\\Lib\\site-packages\\pytensor\\link\\c\\basic.py\", line 1528, in compile_cmodule\n",
      "    module = c_compiler.compile_str(\n",
      "             ^^^^^^^^^^^^^^^^^^^^^^^\n",
      "  File \"c:\\Users\\Eliza\\AppData\\Local\\Programs\\Python\\Python312\\Lib\\site-packages\\pytensor\\link\\c\\cmodule.py\", line 2654, in compile_str\n",
      "    raise CompileError(\n",
      "pytensor.link.c.exceptions.CompileError: Compilation failed (return status=1):\n",
      "\"C:\\MinGW\\bin\\g++.exe\" -shared -g -O3 -fno-math-errno -Wno-unused-label -Wno-unused-variable -Wno-write-strings -Wno-c++11-narrowing -fno-exceptions -fno-unwind-tables -fno-asynchronous-unwind-tables -DNPY_NO_DEPRECATED_API=NPY_1_7_API_VERSION -m64 -DMS_WIN64 -I\"c:\\Users\\Eliza\\AppData\\Local\\Programs\\Python\\Python312\\Lib\\site-packages\\numpy\\core\\include\" -I\"c:\\Users\\Eliza\\AppData\\Local\\Programs\\Python\\Python312\\include\" -I\"c:\\Users\\Eliza\\AppData\\Local\\Programs\\Python\\Python312\\Lib\\site-packages\\pytensor\\link\\c\\c_code\" -L\"c:\\Users\\Eliza\\AppData\\Local\\Programs\\Python\\Python312\\libs\" -L\"c:\\Users\\Eliza\\AppData\\Local\\Programs\\Python\\Python312\" -o \"C:\\Users\\Eliza\\AppData\\Local\\PyTensor\\compiledir_Windows-11-10.0.22631-SP0-Intel64_Family_6_Model_140_Stepping_1_GenuineIntel-3.12.6-64\\tmpekypsz_p\\m0de214ec04e404e0b98e77bebd2d95875e2e4b7b75c150c7f6478c42e61da0fa.pyd\" \"C:\\Users\\Eliza\\AppData\\Local\\PyTensor\\compiledir_Windows-11-10.0.22631-SP0-Intel64_Family_6_Model_140_Stepping_1_GenuineIntel-3.12.6-64\\tmpekypsz_p\\mod.cpp\" \"c:\\Users\\Eliza\\AppData\\Local\\Programs\\Python\\Python312\\python312.dll\"\n",
      "C:\\Users\\Eliza\\AppData\\Local\\PyTensor\\compiledir_Windows-11-10.0.22631-SP0-Intel64_Family_6_Model_140_Stepping_1_GenuineIntel-3.12.6-64\\tmpekypsz_p\\mod.cpp:1:0: sorry, unimplemented: 64-bit mode not compiled in\n",
      " #include <Python.h>\n",
      " \n",
      "\n",
      "\n"
     ]
    },
    {
     "name": "stdout",
     "output_type": "stream",
     "text": [
      "\n",
      "You can find the C code in this temporary file: C:\\Users\\Eliza\\AppData\\Local\\Temp\\pytensor_compilation_error_6kn94g_1\n",
      "\n",
      "You can find the C code in this temporary file: C:\\Users\\Eliza\\AppData\\Local\\Temp\\pytensor_compilation_error_47nmi2hx\n"
     ]
    },
    {
     "ename": "CompileError",
     "evalue": "Compilation failed (return status=1):\n\"C:\\MinGW\\bin\\g++.exe\" -shared -g -Wno-c++11-narrowing -fno-exceptions -fno-unwind-tables -fno-asynchronous-unwind-tables -DNPY_NO_DEPRECATED_API=NPY_1_7_API_VERSION -m64 -DMS_WIN64 -I\"c:\\Users\\Eliza\\AppData\\Local\\Programs\\Python\\Python312\\Lib\\site-packages\\numpy\\core\\include\" -I\"c:\\Users\\Eliza\\AppData\\Local\\Programs\\Python\\Python312\\include\" -I\"c:\\Users\\Eliza\\AppData\\Local\\Programs\\Python\\Python312\\Lib\\site-packages\\pytensor\\link\\c\\c_code\" -L\"c:\\Users\\Eliza\\AppData\\Local\\Programs\\Python\\Python312\\libs\" -L\"c:\\Users\\Eliza\\AppData\\Local\\Programs\\Python\\Python312\" -o \"C:\\Users\\Eliza\\AppData\\Local\\PyTensor\\compiledir_Windows-11-10.0.22631-SP0-Intel64_Family_6_Model_140_Stepping_1_GenuineIntel-3.12.6-64\\lazylinker_ext\\lazylinker_ext.pyd\" \"C:\\Users\\Eliza\\AppData\\Local\\PyTensor\\compiledir_Windows-11-10.0.22631-SP0-Intel64_Family_6_Model_140_Stepping_1_GenuineIntel-3.12.6-64\\lazylinker_ext\\mod.cpp\" \"c:\\Users\\Eliza\\AppData\\Local\\Programs\\Python\\Python312\\python312.dll\"\nC:\\Users\\Eliza\\AppData\\Local\\PyTensor\\compiledir_Windows-11-10.0.22631-SP0-Intel64_Family_6_Model_140_Stepping_1_GenuineIntel-3.12.6-64\\lazylinker_ext\\mod.cpp:1:0: sorry, unimplemented: 64-bit mode not compiled in\r\n #include \"pytensor_mod_helper.h\"\r\n \r\n",
     "output_type": "error",
     "traceback": [
      "\u001b[1;31m---------------------------------------------------------------------------\u001b[0m",
      "\u001b[1;31mImportError\u001b[0m                               Traceback (most recent call last)",
      "File \u001b[1;32mc:\\Users\\Eliza\\AppData\\Local\\Programs\\Python\\Python312\\Lib\\site-packages\\pytensor\\link\\c\\lazylinker_c.py:66\u001b[0m\n\u001b[0;32m     65\u001b[0m         \u001b[38;5;28;01mif\u001b[39;00m version \u001b[38;5;241m!=\u001b[39m actual_version:\n\u001b[1;32m---> 66\u001b[0m             \u001b[38;5;28;01mraise\u001b[39;00m \u001b[38;5;167;01mImportError\u001b[39;00m(\n\u001b[0;32m     67\u001b[0m                 \u001b[38;5;124m\"\u001b[39m\u001b[38;5;124mVersion check of the existing lazylinker compiled file.\u001b[39m\u001b[38;5;124m\"\u001b[39m\n\u001b[0;32m     68\u001b[0m                 \u001b[38;5;124mf\u001b[39m\u001b[38;5;124m\"\u001b[39m\u001b[38;5;124m Looking for version \u001b[39m\u001b[38;5;132;01m{\u001b[39;00mversion\u001b[38;5;132;01m}\u001b[39;00m\u001b[38;5;124m, but found \u001b[39m\u001b[38;5;132;01m{\u001b[39;00mactual_version\u001b[38;5;132;01m}\u001b[39;00m\u001b[38;5;124m. \u001b[39m\u001b[38;5;124m\"\u001b[39m\n\u001b[0;32m     69\u001b[0m                 \u001b[38;5;124mf\u001b[39m\u001b[38;5;124m\"\u001b[39m\u001b[38;5;124mExtra debug information: force_compile=\u001b[39m\u001b[38;5;132;01m{\u001b[39;00mforce_compile\u001b[38;5;132;01m}\u001b[39;00m\u001b[38;5;124m, _need_reload=\u001b[39m\u001b[38;5;132;01m{\u001b[39;00m_need_reload\u001b[38;5;132;01m}\u001b[39;00m\u001b[38;5;124m\"\u001b[39m\n\u001b[0;32m     70\u001b[0m             )\n\u001b[0;32m     71\u001b[0m \u001b[38;5;28;01mexcept\u001b[39;00m \u001b[38;5;167;01mImportError\u001b[39;00m:\n",
      "\u001b[1;31mImportError\u001b[0m: Version check of the existing lazylinker compiled file. Looking for version 0.212, but found None. Extra debug information: force_compile=False, _need_reload=True",
      "\nDuring handling of the above exception, another exception occurred:\n",
      "\u001b[1;31mImportError\u001b[0m                               Traceback (most recent call last)",
      "File \u001b[1;32mc:\\Users\\Eliza\\AppData\\Local\\Programs\\Python\\Python312\\Lib\\site-packages\\pytensor\\link\\c\\lazylinker_c.py:87\u001b[0m\n\u001b[0;32m     86\u001b[0m     \u001b[38;5;28;01mif\u001b[39;00m version \u001b[38;5;241m!=\u001b[39m actual_version:\n\u001b[1;32m---> 87\u001b[0m         \u001b[38;5;28;01mraise\u001b[39;00m \u001b[38;5;167;01mImportError\u001b[39;00m(\n\u001b[0;32m     88\u001b[0m             \u001b[38;5;124m\"\u001b[39m\u001b[38;5;124mVersion check of the existing lazylinker compiled file.\u001b[39m\u001b[38;5;124m\"\u001b[39m\n\u001b[0;32m     89\u001b[0m             \u001b[38;5;124mf\u001b[39m\u001b[38;5;124m\"\u001b[39m\u001b[38;5;124m Looking for version \u001b[39m\u001b[38;5;132;01m{\u001b[39;00mversion\u001b[38;5;132;01m}\u001b[39;00m\u001b[38;5;124m, but found \u001b[39m\u001b[38;5;132;01m{\u001b[39;00mactual_version\u001b[38;5;132;01m}\u001b[39;00m\u001b[38;5;124m. \u001b[39m\u001b[38;5;124m\"\u001b[39m\n\u001b[0;32m     90\u001b[0m             \u001b[38;5;124mf\u001b[39m\u001b[38;5;124m\"\u001b[39m\u001b[38;5;124mExtra debug information: force_compile=\u001b[39m\u001b[38;5;132;01m{\u001b[39;00mforce_compile\u001b[38;5;132;01m}\u001b[39;00m\u001b[38;5;124m, _need_reload=\u001b[39m\u001b[38;5;132;01m{\u001b[39;00m_need_reload\u001b[38;5;132;01m}\u001b[39;00m\u001b[38;5;124m\"\u001b[39m\n\u001b[0;32m     91\u001b[0m         )\n\u001b[0;32m     92\u001b[0m \u001b[38;5;28;01mexcept\u001b[39;00m \u001b[38;5;167;01mImportError\u001b[39;00m:\n\u001b[0;32m     93\u001b[0m     \u001b[38;5;66;03m# It is useless to try to compile if there isn't any\u001b[39;00m\n\u001b[0;32m     94\u001b[0m     \u001b[38;5;66;03m# compiler!  But we still want to try to load it, in case\u001b[39;00m\n\u001b[0;32m     95\u001b[0m     \u001b[38;5;66;03m# the cache was copied from another computer.\u001b[39;00m\n",
      "\u001b[1;31mImportError\u001b[0m: Version check of the existing lazylinker compiled file. Looking for version 0.212, but found None. Extra debug information: force_compile=False, _need_reload=True",
      "\nDuring handling of the above exception, another exception occurred:\n",
      "\u001b[1;31mCompileError\u001b[0m                              Traceback (most recent call last)",
      "Cell \u001b[1;32mIn[4], line 14\u001b[0m\n\u001b[0;32m     12\u001b[0m \u001b[38;5;66;03m# Efectuăm eșantionarea MCMC\u001b[39;00m\n\u001b[0;32m     13\u001b[0m \u001b[38;5;28mprint\u001b[39m(\u001b[38;5;124m\"\u001b[39m\u001b[38;5;124mÎncepem eșantionarea MCMC...\u001b[39m\u001b[38;5;124m\"\u001b[39m)\n\u001b[1;32m---> 14\u001b[0m trace \u001b[38;5;241m=\u001b[39m \u001b[43mpm\u001b[49m\u001b[38;5;241;43m.\u001b[39;49m\u001b[43msample\u001b[49m\u001b[43m(\u001b[49m\u001b[38;5;241;43m1000\u001b[39;49m\u001b[43m,\u001b[49m\u001b[43m \u001b[49m\u001b[43mtune\u001b[49m\u001b[38;5;241;43m=\u001b[39;49m\u001b[38;5;241;43m1000\u001b[39;49m\u001b[43m,\u001b[49m\u001b[43m \u001b[49m\u001b[43mreturn_inferencedata\u001b[49m\u001b[38;5;241;43m=\u001b[39;49m\u001b[38;5;28;43;01mTrue\u001b[39;49;00m\u001b[43m)\u001b[49m\n\u001b[0;32m     15\u001b[0m \u001b[38;5;28mprint\u001b[39m(\u001b[38;5;124m\"\u001b[39m\u001b[38;5;124mEșantionarea MCMC s-a încheiat.\u001b[39m\u001b[38;5;124m\"\u001b[39m)\n",
      "File \u001b[1;32mc:\\Users\\Eliza\\AppData\\Local\\Programs\\Python\\Python312\\Lib\\site-packages\\pymc\\sampling\\mcmc.py:716\u001b[0m, in \u001b[0;36msample\u001b[1;34m(draws, tune, chains, cores, random_seed, progressbar, progressbar_theme, step, var_names, nuts_sampler, initvals, init, jitter_max_retries, n_init, trace, discard_tuned_samples, compute_convergence_checks, keep_warning_stat, return_inferencedata, idata_kwargs, nuts_sampler_kwargs, callback, mp_ctx, blas_cores, model, **kwargs)\u001b[0m\n\u001b[0;32m    713\u001b[0m         auto_nuts_init \u001b[38;5;241m=\u001b[39m \u001b[38;5;28;01mFalse\u001b[39;00m\n\u001b[0;32m    715\u001b[0m initial_points \u001b[38;5;241m=\u001b[39m \u001b[38;5;28;01mNone\u001b[39;00m\n\u001b[1;32m--> 716\u001b[0m step \u001b[38;5;241m=\u001b[39m \u001b[43massign_step_methods\u001b[49m\u001b[43m(\u001b[49m\u001b[43mmodel\u001b[49m\u001b[43m,\u001b[49m\u001b[43m \u001b[49m\u001b[43mstep\u001b[49m\u001b[43m,\u001b[49m\u001b[43m \u001b[49m\u001b[43mmethods\u001b[49m\u001b[38;5;241;43m=\u001b[39;49m\u001b[43mpm\u001b[49m\u001b[38;5;241;43m.\u001b[39;49m\u001b[43mSTEP_METHODS\u001b[49m\u001b[43m,\u001b[49m\u001b[43m \u001b[49m\u001b[43mstep_kwargs\u001b[49m\u001b[38;5;241;43m=\u001b[39;49m\u001b[43mkwargs\u001b[49m\u001b[43m)\u001b[49m\n\u001b[0;32m    718\u001b[0m \u001b[38;5;28;01mif\u001b[39;00m nuts_sampler \u001b[38;5;241m!=\u001b[39m \u001b[38;5;124m\"\u001b[39m\u001b[38;5;124mpymc\u001b[39m\u001b[38;5;124m\"\u001b[39m:\n\u001b[0;32m    719\u001b[0m     \u001b[38;5;28;01mif\u001b[39;00m \u001b[38;5;129;01mnot\u001b[39;00m \u001b[38;5;28misinstance\u001b[39m(step, NUTS):\n",
      "File \u001b[1;32mc:\\Users\\Eliza\\AppData\\Local\\Programs\\Python\\Python312\\Lib\\site-packages\\pymc\\sampling\\mcmc.py:237\u001b[0m, in \u001b[0;36massign_step_methods\u001b[1;34m(model, step, methods, step_kwargs)\u001b[0m\n\u001b[0;32m    229\u001b[0m         selected \u001b[38;5;241m=\u001b[39m \u001b[38;5;28mmax\u001b[39m(\n\u001b[0;32m    230\u001b[0m             methods_list,\n\u001b[0;32m    231\u001b[0m             key\u001b[38;5;241m=\u001b[39m\u001b[38;5;28;01mlambda\u001b[39;00m method, var\u001b[38;5;241m=\u001b[39mrv_var, has_gradient\u001b[38;5;241m=\u001b[39mhas_gradient: method\u001b[38;5;241m.\u001b[39m_competence(  \u001b[38;5;66;03m# type: ignore\u001b[39;00m\n\u001b[0;32m    232\u001b[0m                 var, has_gradient\n\u001b[0;32m    233\u001b[0m             ),\n\u001b[0;32m    234\u001b[0m         )\n\u001b[0;32m    235\u001b[0m         selected_steps\u001b[38;5;241m.\u001b[39msetdefault(selected, [])\u001b[38;5;241m.\u001b[39mappend(var)\n\u001b[1;32m--> 237\u001b[0m \u001b[38;5;28;01mreturn\u001b[39;00m \u001b[43minstantiate_steppers\u001b[49m\u001b[43m(\u001b[49m\u001b[43mmodel\u001b[49m\u001b[43m,\u001b[49m\u001b[43m \u001b[49m\u001b[43msteps\u001b[49m\u001b[43m,\u001b[49m\u001b[43m \u001b[49m\u001b[43mselected_steps\u001b[49m\u001b[43m,\u001b[49m\u001b[43m \u001b[49m\u001b[43mstep_kwargs\u001b[49m\u001b[43m)\u001b[49m\n",
      "File \u001b[1;32mc:\\Users\\Eliza\\AppData\\Local\\Programs\\Python\\Python312\\Lib\\site-packages\\pymc\\sampling\\mcmc.py:138\u001b[0m, in \u001b[0;36minstantiate_steppers\u001b[1;34m(model, steps, selected_steps, step_kwargs)\u001b[0m\n\u001b[0;32m    136\u001b[0m         args \u001b[38;5;241m=\u001b[39m step_kwargs\u001b[38;5;241m.\u001b[39mget(name, {})\n\u001b[0;32m    137\u001b[0m         used_keys\u001b[38;5;241m.\u001b[39madd(name)\n\u001b[1;32m--> 138\u001b[0m         step \u001b[38;5;241m=\u001b[39m \u001b[43mstep_class\u001b[49m\u001b[43m(\u001b[49m\u001b[38;5;28;43mvars\u001b[39;49m\u001b[38;5;241;43m=\u001b[39;49m\u001b[38;5;28;43mvars\u001b[39;49m\u001b[43m,\u001b[49m\u001b[43m \u001b[49m\u001b[43mmodel\u001b[49m\u001b[38;5;241;43m=\u001b[39;49m\u001b[43mmodel\u001b[49m\u001b[43m,\u001b[49m\u001b[43m \u001b[49m\u001b[38;5;241;43m*\u001b[39;49m\u001b[38;5;241;43m*\u001b[39;49m\u001b[43margs\u001b[49m\u001b[43m)\u001b[49m\n\u001b[0;32m    139\u001b[0m         steps\u001b[38;5;241m.\u001b[39mappend(step)\n\u001b[0;32m    141\u001b[0m unused_args \u001b[38;5;241m=\u001b[39m \u001b[38;5;28mset\u001b[39m(step_kwargs)\u001b[38;5;241m.\u001b[39mdifference(used_keys)\n",
      "File \u001b[1;32mc:\\Users\\Eliza\\AppData\\Local\\Programs\\Python\\Python312\\Lib\\site-packages\\pymc\\step_methods\\hmc\\nuts.py:180\u001b[0m, in \u001b[0;36mNUTS.__init__\u001b[1;34m(self, vars, max_treedepth, early_max_treedepth, **kwargs)\u001b[0m\n\u001b[0;32m    122\u001b[0m \u001b[38;5;28;01mdef\u001b[39;00m \u001b[38;5;21m__init__\u001b[39m(\u001b[38;5;28mself\u001b[39m, \u001b[38;5;28mvars\u001b[39m\u001b[38;5;241m=\u001b[39m\u001b[38;5;28;01mNone\u001b[39;00m, max_treedepth\u001b[38;5;241m=\u001b[39m\u001b[38;5;241m10\u001b[39m, early_max_treedepth\u001b[38;5;241m=\u001b[39m\u001b[38;5;241m8\u001b[39m, \u001b[38;5;241m*\u001b[39m\u001b[38;5;241m*\u001b[39mkwargs):\n\u001b[0;32m    123\u001b[0m \u001b[38;5;250m    \u001b[39m\u001b[38;5;124mr\u001b[39m\u001b[38;5;124;03m\"\"\"Set up the No-U-Turn sampler.\u001b[39;00m\n\u001b[0;32m    124\u001b[0m \n\u001b[0;32m    125\u001b[0m \u001b[38;5;124;03m    Parameters\u001b[39;00m\n\u001b[1;32m   (...)\u001b[0m\n\u001b[0;32m    178\u001b[0m \u001b[38;5;124;03m    `pm.sample` to the desired number of tuning steps.\u001b[39;00m\n\u001b[0;32m    179\u001b[0m \u001b[38;5;124;03m    \"\"\"\u001b[39;00m\n\u001b[1;32m--> 180\u001b[0m     \u001b[38;5;28;43msuper\u001b[39;49m\u001b[43m(\u001b[49m\u001b[43m)\u001b[49m\u001b[38;5;241;43m.\u001b[39;49m\u001b[38;5;21;43m__init__\u001b[39;49m\u001b[43m(\u001b[49m\u001b[38;5;28;43mvars\u001b[39;49m\u001b[43m,\u001b[49m\u001b[43m \u001b[49m\u001b[38;5;241;43m*\u001b[39;49m\u001b[38;5;241;43m*\u001b[39;49m\u001b[43mkwargs\u001b[49m\u001b[43m)\u001b[49m\n\u001b[0;32m    182\u001b[0m     \u001b[38;5;28mself\u001b[39m\u001b[38;5;241m.\u001b[39mmax_treedepth \u001b[38;5;241m=\u001b[39m max_treedepth\n\u001b[0;32m    183\u001b[0m     \u001b[38;5;28mself\u001b[39m\u001b[38;5;241m.\u001b[39mearly_max_treedepth \u001b[38;5;241m=\u001b[39m early_max_treedepth\n",
      "File \u001b[1;32mc:\\Users\\Eliza\\AppData\\Local\\Programs\\Python\\Python312\\Lib\\site-packages\\pymc\\step_methods\\hmc\\base_hmc.py:109\u001b[0m, in \u001b[0;36mBaseHMC.__init__\u001b[1;34m(self, vars, scaling, step_scale, is_cov, model, blocked, potential, dtype, Emax, target_accept, gamma, k, t0, adapt_step_size, step_rand, **pytensor_kwargs)\u001b[0m\n\u001b[0;32m    107\u001b[0m \u001b[38;5;28;01melse\u001b[39;00m:\n\u001b[0;32m    108\u001b[0m     \u001b[38;5;28mvars\u001b[39m \u001b[38;5;241m=\u001b[39m get_value_vars_from_user_vars(\u001b[38;5;28mvars\u001b[39m, \u001b[38;5;28mself\u001b[39m\u001b[38;5;241m.\u001b[39m_model)\n\u001b[1;32m--> 109\u001b[0m \u001b[38;5;28;43msuper\u001b[39;49m\u001b[43m(\u001b[49m\u001b[43m)\u001b[49m\u001b[38;5;241;43m.\u001b[39;49m\u001b[38;5;21;43m__init__\u001b[39;49m\u001b[43m(\u001b[49m\u001b[38;5;28;43mvars\u001b[39;49m\u001b[43m,\u001b[49m\u001b[43m \u001b[49m\u001b[43mblocked\u001b[49m\u001b[38;5;241;43m=\u001b[39;49m\u001b[43mblocked\u001b[49m\u001b[43m,\u001b[49m\u001b[43m \u001b[49m\u001b[43mmodel\u001b[49m\u001b[38;5;241;43m=\u001b[39;49m\u001b[38;5;28;43mself\u001b[39;49m\u001b[38;5;241;43m.\u001b[39;49m\u001b[43m_model\u001b[49m\u001b[43m,\u001b[49m\u001b[43m \u001b[49m\u001b[43mdtype\u001b[49m\u001b[38;5;241;43m=\u001b[39;49m\u001b[43mdtype\u001b[49m\u001b[43m,\u001b[49m\u001b[43m \u001b[49m\u001b[38;5;241;43m*\u001b[39;49m\u001b[38;5;241;43m*\u001b[39;49m\u001b[43mpytensor_kwargs\u001b[49m\u001b[43m)\u001b[49m\n\u001b[0;32m    111\u001b[0m \u001b[38;5;28mself\u001b[39m\u001b[38;5;241m.\u001b[39madapt_step_size \u001b[38;5;241m=\u001b[39m adapt_step_size\n\u001b[0;32m    112\u001b[0m \u001b[38;5;28mself\u001b[39m\u001b[38;5;241m.\u001b[39mEmax \u001b[38;5;241m=\u001b[39m Emax\n",
      "File \u001b[1;32mc:\\Users\\Eliza\\AppData\\Local\\Programs\\Python\\Python312\\Lib\\site-packages\\pymc\\step_methods\\arraystep.py:163\u001b[0m, in \u001b[0;36mGradientSharedStep.__init__\u001b[1;34m(self, vars, model, blocked, dtype, logp_dlogp_func, **pytensor_kwargs)\u001b[0m\n\u001b[0;32m    160\u001b[0m model \u001b[38;5;241m=\u001b[39m modelcontext(model)\n\u001b[0;32m    162\u001b[0m \u001b[38;5;28;01mif\u001b[39;00m logp_dlogp_func \u001b[38;5;129;01mis\u001b[39;00m \u001b[38;5;28;01mNone\u001b[39;00m:\n\u001b[1;32m--> 163\u001b[0m     func \u001b[38;5;241m=\u001b[39m \u001b[43mmodel\u001b[49m\u001b[38;5;241;43m.\u001b[39;49m\u001b[43mlogp_dlogp_function\u001b[49m\u001b[43m(\u001b[49m\u001b[38;5;28;43mvars\u001b[39;49m\u001b[43m,\u001b[49m\u001b[43m \u001b[49m\u001b[43mdtype\u001b[49m\u001b[38;5;241;43m=\u001b[39;49m\u001b[43mdtype\u001b[49m\u001b[43m,\u001b[49m\u001b[43m \u001b[49m\u001b[38;5;241;43m*\u001b[39;49m\u001b[38;5;241;43m*\u001b[39;49m\u001b[43mpytensor_kwargs\u001b[49m\u001b[43m)\u001b[49m\n\u001b[0;32m    164\u001b[0m \u001b[38;5;28;01melse\u001b[39;00m:\n\u001b[0;32m    165\u001b[0m     func \u001b[38;5;241m=\u001b[39m logp_dlogp_func\n",
      "File \u001b[1;32mc:\\Users\\Eliza\\AppData\\Local\\Programs\\Python\\Python312\\Lib\\site-packages\\pymc\\model\\core.py:620\u001b[0m, in \u001b[0;36mModel.logp_dlogp_function\u001b[1;34m(self, grad_vars, tempered, **kwargs)\u001b[0m\n\u001b[0;32m    617\u001b[0m     costs \u001b[38;5;241m=\u001b[39m [\u001b[38;5;28mself\u001b[39m\u001b[38;5;241m.\u001b[39mlogp()]\n\u001b[0;32m    619\u001b[0m input_vars \u001b[38;5;241m=\u001b[39m {i \u001b[38;5;28;01mfor\u001b[39;00m i \u001b[38;5;129;01min\u001b[39;00m graph_inputs(costs) \u001b[38;5;28;01mif\u001b[39;00m \u001b[38;5;129;01mnot\u001b[39;00m \u001b[38;5;28misinstance\u001b[39m(i, Constant)}\n\u001b[1;32m--> 620\u001b[0m ip \u001b[38;5;241m=\u001b[39m \u001b[38;5;28;43mself\u001b[39;49m\u001b[38;5;241;43m.\u001b[39;49m\u001b[43minitial_point\u001b[49m\u001b[43m(\u001b[49m\u001b[38;5;241;43m0\u001b[39;49m\u001b[43m)\u001b[49m\n\u001b[0;32m    621\u001b[0m extra_vars_and_values \u001b[38;5;241m=\u001b[39m {\n\u001b[0;32m    622\u001b[0m     var: ip[var\u001b[38;5;241m.\u001b[39mname]\n\u001b[0;32m    623\u001b[0m     \u001b[38;5;28;01mfor\u001b[39;00m var \u001b[38;5;129;01min\u001b[39;00m \u001b[38;5;28mself\u001b[39m\u001b[38;5;241m.\u001b[39mvalue_vars\n\u001b[0;32m    624\u001b[0m     \u001b[38;5;28;01mif\u001b[39;00m var \u001b[38;5;129;01min\u001b[39;00m input_vars \u001b[38;5;129;01mand\u001b[39;00m var \u001b[38;5;129;01mnot\u001b[39;00m \u001b[38;5;129;01min\u001b[39;00m grad_vars\n\u001b[0;32m    625\u001b[0m }\n\u001b[0;32m    626\u001b[0m \u001b[38;5;28;01mreturn\u001b[39;00m ValueGradFunction(costs, grad_vars, extra_vars_and_values, \u001b[38;5;241m*\u001b[39m\u001b[38;5;241m*\u001b[39mkwargs)\n",
      "File \u001b[1;32mc:\\Users\\Eliza\\AppData\\Local\\Programs\\Python\\Python312\\Lib\\site-packages\\pymc\\model\\core.py:1094\u001b[0m, in \u001b[0;36mModel.initial_point\u001b[1;34m(self, random_seed)\u001b[0m\n\u001b[0;32m   1081\u001b[0m \u001b[38;5;28;01mdef\u001b[39;00m \u001b[38;5;21minitial_point\u001b[39m(\u001b[38;5;28mself\u001b[39m, random_seed: SeedSequenceSeed \u001b[38;5;241m=\u001b[39m \u001b[38;5;28;01mNone\u001b[39;00m) \u001b[38;5;241m-\u001b[39m\u001b[38;5;241m>\u001b[39m \u001b[38;5;28mdict\u001b[39m[\u001b[38;5;28mstr\u001b[39m, np\u001b[38;5;241m.\u001b[39mndarray]:\n\u001b[0;32m   1082\u001b[0m \u001b[38;5;250m    \u001b[39m\u001b[38;5;124;03m\"\"\"Computes the initial point of the model.\u001b[39;00m\n\u001b[0;32m   1083\u001b[0m \n\u001b[0;32m   1084\u001b[0m \u001b[38;5;124;03m    Parameters\u001b[39;00m\n\u001b[1;32m   (...)\u001b[0m\n\u001b[0;32m   1092\u001b[0m \u001b[38;5;124;03m        Maps names of transformed variables to numeric initial values in the transformed space.\u001b[39;00m\n\u001b[0;32m   1093\u001b[0m \u001b[38;5;124;03m    \"\"\"\u001b[39;00m\n\u001b[1;32m-> 1094\u001b[0m     fn \u001b[38;5;241m=\u001b[39m \u001b[43mmake_initial_point_fn\u001b[49m\u001b[43m(\u001b[49m\u001b[43mmodel\u001b[49m\u001b[38;5;241;43m=\u001b[39;49m\u001b[38;5;28;43mself\u001b[39;49m\u001b[43m,\u001b[49m\u001b[43m \u001b[49m\u001b[43mreturn_transformed\u001b[49m\u001b[38;5;241;43m=\u001b[39;49m\u001b[38;5;28;43;01mTrue\u001b[39;49;00m\u001b[43m)\u001b[49m\n\u001b[0;32m   1095\u001b[0m     \u001b[38;5;28;01mreturn\u001b[39;00m Point(fn(random_seed), model\u001b[38;5;241m=\u001b[39m\u001b[38;5;28mself\u001b[39m)\n",
      "File \u001b[1;32mc:\\Users\\Eliza\\AppData\\Local\\Programs\\Python\\Python312\\Lib\\site-packages\\pymc\\initial_point.py:152\u001b[0m, in \u001b[0;36mmake_initial_point_fn\u001b[1;34m(model, overrides, jitter_rvs, default_strategy, return_transformed)\u001b[0m\n\u001b[0;32m    149\u001b[0m \u001b[38;5;66;03m# Replace original rng shared variables so that we don't mess with them\u001b[39;00m\n\u001b[0;32m    150\u001b[0m \u001b[38;5;66;03m# when calling the final seeded function\u001b[39;00m\n\u001b[0;32m    151\u001b[0m initial_values \u001b[38;5;241m=\u001b[39m replace_rng_nodes(initial_values)\n\u001b[1;32m--> 152\u001b[0m func \u001b[38;5;241m=\u001b[39m \u001b[43mcompile_pymc\u001b[49m\u001b[43m(\u001b[49m\u001b[43minputs\u001b[49m\u001b[38;5;241;43m=\u001b[39;49m\u001b[43m[\u001b[49m\u001b[43m]\u001b[49m\u001b[43m,\u001b[49m\u001b[43m \u001b[49m\u001b[43moutputs\u001b[49m\u001b[38;5;241;43m=\u001b[39;49m\u001b[43minitial_values\u001b[49m\u001b[43m,\u001b[49m\u001b[43m \u001b[49m\u001b[43mmode\u001b[49m\u001b[38;5;241;43m=\u001b[39;49m\u001b[43mpytensor\u001b[49m\u001b[38;5;241;43m.\u001b[39;49m\u001b[43mcompile\u001b[49m\u001b[38;5;241;43m.\u001b[39;49m\u001b[43mmode\u001b[49m\u001b[38;5;241;43m.\u001b[39;49m\u001b[43mFAST_COMPILE\u001b[49m\u001b[43m)\u001b[49m\n\u001b[0;32m    154\u001b[0m varnames \u001b[38;5;241m=\u001b[39m []\n\u001b[0;32m    155\u001b[0m \u001b[38;5;28;01mfor\u001b[39;00m var \u001b[38;5;129;01min\u001b[39;00m model\u001b[38;5;241m.\u001b[39mfree_RVs:\n",
      "File \u001b[1;32mc:\\Users\\Eliza\\AppData\\Local\\Programs\\Python\\Python312\\Lib\\site-packages\\pymc\\pytensorf.py:1039\u001b[0m, in \u001b[0;36mcompile_pymc\u001b[1;34m(inputs, outputs, random_seed, mode, **kwargs)\u001b[0m\n\u001b[0;32m   1037\u001b[0m opt_qry \u001b[38;5;241m=\u001b[39m mode\u001b[38;5;241m.\u001b[39mprovided_optimizer\u001b[38;5;241m.\u001b[39mincluding(\u001b[38;5;124m\"\u001b[39m\u001b[38;5;124mrandom_make_inplace\u001b[39m\u001b[38;5;124m\"\u001b[39m, check_parameter_opt)\n\u001b[0;32m   1038\u001b[0m mode \u001b[38;5;241m=\u001b[39m Mode(linker\u001b[38;5;241m=\u001b[39mmode\u001b[38;5;241m.\u001b[39mlinker, optimizer\u001b[38;5;241m=\u001b[39mopt_qry)\n\u001b[1;32m-> 1039\u001b[0m pytensor_function \u001b[38;5;241m=\u001b[39m \u001b[43mpytensor\u001b[49m\u001b[38;5;241;43m.\u001b[39;49m\u001b[43mfunction\u001b[49m\u001b[43m(\u001b[49m\n\u001b[0;32m   1040\u001b[0m \u001b[43m    \u001b[49m\u001b[43minputs\u001b[49m\u001b[43m,\u001b[49m\n\u001b[0;32m   1041\u001b[0m \u001b[43m    \u001b[49m\u001b[43moutputs\u001b[49m\u001b[43m,\u001b[49m\n\u001b[0;32m   1042\u001b[0m \u001b[43m    \u001b[49m\u001b[43mupdates\u001b[49m\u001b[38;5;241;43m=\u001b[39;49m\u001b[43m{\u001b[49m\u001b[38;5;241;43m*\u001b[39;49m\u001b[38;5;241;43m*\u001b[39;49m\u001b[43mrng_updates\u001b[49m\u001b[43m,\u001b[49m\u001b[43m \u001b[49m\u001b[38;5;241;43m*\u001b[39;49m\u001b[38;5;241;43m*\u001b[39;49m\u001b[43mkwargs\u001b[49m\u001b[38;5;241;43m.\u001b[39;49m\u001b[43mpop\u001b[49m\u001b[43m(\u001b[49m\u001b[38;5;124;43m\"\u001b[39;49m\u001b[38;5;124;43mupdates\u001b[39;49m\u001b[38;5;124;43m\"\u001b[39;49m\u001b[43m,\u001b[49m\u001b[43m \u001b[49m\u001b[43m{\u001b[49m\u001b[43m}\u001b[49m\u001b[43m)\u001b[49m\u001b[43m}\u001b[49m\u001b[43m,\u001b[49m\n\u001b[0;32m   1043\u001b[0m \u001b[43m    \u001b[49m\u001b[43mmode\u001b[49m\u001b[38;5;241;43m=\u001b[39;49m\u001b[43mmode\u001b[49m\u001b[43m,\u001b[49m\n\u001b[0;32m   1044\u001b[0m \u001b[43m    \u001b[49m\u001b[38;5;241;43m*\u001b[39;49m\u001b[38;5;241;43m*\u001b[39;49m\u001b[43mkwargs\u001b[49m\u001b[43m,\u001b[49m\n\u001b[0;32m   1045\u001b[0m \u001b[43m\u001b[49m\u001b[43m)\u001b[49m\n\u001b[0;32m   1046\u001b[0m \u001b[38;5;28;01mreturn\u001b[39;00m pytensor_function\n",
      "File \u001b[1;32mc:\\Users\\Eliza\\AppData\\Local\\Programs\\Python\\Python312\\Lib\\site-packages\\pytensor\\compile\\function\\__init__.py:318\u001b[0m, in \u001b[0;36mfunction\u001b[1;34m(inputs, outputs, mode, updates, givens, no_default_updates, accept_inplace, name, rebuild_strict, allow_input_downcast, profile, on_unused_input)\u001b[0m\n\u001b[0;32m    312\u001b[0m     fn \u001b[38;5;241m=\u001b[39m orig_function(\n\u001b[0;32m    313\u001b[0m         inputs, outputs, mode\u001b[38;5;241m=\u001b[39mmode, accept_inplace\u001b[38;5;241m=\u001b[39maccept_inplace, name\u001b[38;5;241m=\u001b[39mname\n\u001b[0;32m    314\u001b[0m     )\n\u001b[0;32m    315\u001b[0m \u001b[38;5;28;01melse\u001b[39;00m:\n\u001b[0;32m    316\u001b[0m     \u001b[38;5;66;03m# note: pfunc will also call orig_function -- orig_function is\u001b[39;00m\n\u001b[0;32m    317\u001b[0m     \u001b[38;5;66;03m#      a choke point that all compilation must pass through\u001b[39;00m\n\u001b[1;32m--> 318\u001b[0m     fn \u001b[38;5;241m=\u001b[39m \u001b[43mpfunc\u001b[49m\u001b[43m(\u001b[49m\n\u001b[0;32m    319\u001b[0m \u001b[43m        \u001b[49m\u001b[43mparams\u001b[49m\u001b[38;5;241;43m=\u001b[39;49m\u001b[43minputs\u001b[49m\u001b[43m,\u001b[49m\n\u001b[0;32m    320\u001b[0m \u001b[43m        \u001b[49m\u001b[43moutputs\u001b[49m\u001b[38;5;241;43m=\u001b[39;49m\u001b[43moutputs\u001b[49m\u001b[43m,\u001b[49m\n\u001b[0;32m    321\u001b[0m \u001b[43m        \u001b[49m\u001b[43mmode\u001b[49m\u001b[38;5;241;43m=\u001b[39;49m\u001b[43mmode\u001b[49m\u001b[43m,\u001b[49m\n\u001b[0;32m    322\u001b[0m \u001b[43m        \u001b[49m\u001b[43mupdates\u001b[49m\u001b[38;5;241;43m=\u001b[39;49m\u001b[43mupdates\u001b[49m\u001b[43m,\u001b[49m\n\u001b[0;32m    323\u001b[0m \u001b[43m        \u001b[49m\u001b[43mgivens\u001b[49m\u001b[38;5;241;43m=\u001b[39;49m\u001b[43mgivens\u001b[49m\u001b[43m,\u001b[49m\n\u001b[0;32m    324\u001b[0m \u001b[43m        \u001b[49m\u001b[43mno_default_updates\u001b[49m\u001b[38;5;241;43m=\u001b[39;49m\u001b[43mno_default_updates\u001b[49m\u001b[43m,\u001b[49m\n\u001b[0;32m    325\u001b[0m \u001b[43m        \u001b[49m\u001b[43maccept_inplace\u001b[49m\u001b[38;5;241;43m=\u001b[39;49m\u001b[43maccept_inplace\u001b[49m\u001b[43m,\u001b[49m\n\u001b[0;32m    326\u001b[0m \u001b[43m        \u001b[49m\u001b[43mname\u001b[49m\u001b[38;5;241;43m=\u001b[39;49m\u001b[43mname\u001b[49m\u001b[43m,\u001b[49m\n\u001b[0;32m    327\u001b[0m \u001b[43m        \u001b[49m\u001b[43mrebuild_strict\u001b[49m\u001b[38;5;241;43m=\u001b[39;49m\u001b[43mrebuild_strict\u001b[49m\u001b[43m,\u001b[49m\n\u001b[0;32m    328\u001b[0m \u001b[43m        \u001b[49m\u001b[43mallow_input_downcast\u001b[49m\u001b[38;5;241;43m=\u001b[39;49m\u001b[43mallow_input_downcast\u001b[49m\u001b[43m,\u001b[49m\n\u001b[0;32m    329\u001b[0m \u001b[43m        \u001b[49m\u001b[43mon_unused_input\u001b[49m\u001b[38;5;241;43m=\u001b[39;49m\u001b[43mon_unused_input\u001b[49m\u001b[43m,\u001b[49m\n\u001b[0;32m    330\u001b[0m \u001b[43m        \u001b[49m\u001b[43mprofile\u001b[49m\u001b[38;5;241;43m=\u001b[39;49m\u001b[43mprofile\u001b[49m\u001b[43m,\u001b[49m\n\u001b[0;32m    331\u001b[0m \u001b[43m        \u001b[49m\u001b[43moutput_keys\u001b[49m\u001b[38;5;241;43m=\u001b[39;49m\u001b[43moutput_keys\u001b[49m\u001b[43m,\u001b[49m\n\u001b[0;32m    332\u001b[0m \u001b[43m    \u001b[49m\u001b[43m)\u001b[49m\n\u001b[0;32m    333\u001b[0m \u001b[38;5;28;01mreturn\u001b[39;00m fn\n",
      "File \u001b[1;32mc:\\Users\\Eliza\\AppData\\Local\\Programs\\Python\\Python312\\Lib\\site-packages\\pytensor\\compile\\function\\pfunc.py:465\u001b[0m, in \u001b[0;36mpfunc\u001b[1;34m(params, outputs, mode, updates, givens, no_default_updates, accept_inplace, name, rebuild_strict, allow_input_downcast, profile, on_unused_input, output_keys, fgraph)\u001b[0m\n\u001b[0;32m    451\u001b[0m     profile \u001b[38;5;241m=\u001b[39m ProfileStats(message\u001b[38;5;241m=\u001b[39mprofile)\n\u001b[0;32m    453\u001b[0m inputs, cloned_outputs \u001b[38;5;241m=\u001b[39m construct_pfunc_ins_and_outs(\n\u001b[0;32m    454\u001b[0m     params,\n\u001b[0;32m    455\u001b[0m     outputs,\n\u001b[1;32m   (...)\u001b[0m\n\u001b[0;32m    462\u001b[0m     fgraph\u001b[38;5;241m=\u001b[39mfgraph,\n\u001b[0;32m    463\u001b[0m )\n\u001b[1;32m--> 465\u001b[0m \u001b[38;5;28;01mreturn\u001b[39;00m \u001b[43morig_function\u001b[49m\u001b[43m(\u001b[49m\n\u001b[0;32m    466\u001b[0m \u001b[43m    \u001b[49m\u001b[43minputs\u001b[49m\u001b[43m,\u001b[49m\n\u001b[0;32m    467\u001b[0m \u001b[43m    \u001b[49m\u001b[43mcloned_outputs\u001b[49m\u001b[43m,\u001b[49m\n\u001b[0;32m    468\u001b[0m \u001b[43m    \u001b[49m\u001b[43mmode\u001b[49m\u001b[43m,\u001b[49m\n\u001b[0;32m    469\u001b[0m \u001b[43m    \u001b[49m\u001b[43maccept_inplace\u001b[49m\u001b[38;5;241;43m=\u001b[39;49m\u001b[43maccept_inplace\u001b[49m\u001b[43m,\u001b[49m\n\u001b[0;32m    470\u001b[0m \u001b[43m    \u001b[49m\u001b[43mname\u001b[49m\u001b[38;5;241;43m=\u001b[39;49m\u001b[43mname\u001b[49m\u001b[43m,\u001b[49m\n\u001b[0;32m    471\u001b[0m \u001b[43m    \u001b[49m\u001b[43mprofile\u001b[49m\u001b[38;5;241;43m=\u001b[39;49m\u001b[43mprofile\u001b[49m\u001b[43m,\u001b[49m\n\u001b[0;32m    472\u001b[0m \u001b[43m    \u001b[49m\u001b[43mon_unused_input\u001b[49m\u001b[38;5;241;43m=\u001b[39;49m\u001b[43mon_unused_input\u001b[49m\u001b[43m,\u001b[49m\n\u001b[0;32m    473\u001b[0m \u001b[43m    \u001b[49m\u001b[43moutput_keys\u001b[49m\u001b[38;5;241;43m=\u001b[39;49m\u001b[43moutput_keys\u001b[49m\u001b[43m,\u001b[49m\n\u001b[0;32m    474\u001b[0m \u001b[43m    \u001b[49m\u001b[43mfgraph\u001b[49m\u001b[38;5;241;43m=\u001b[39;49m\u001b[43mfgraph\u001b[49m\u001b[43m,\u001b[49m\n\u001b[0;32m    475\u001b[0m \u001b[43m\u001b[49m\u001b[43m)\u001b[49m\n",
      "File \u001b[1;32mc:\\Users\\Eliza\\AppData\\Local\\Programs\\Python\\Python312\\Lib\\site-packages\\pytensor\\compile\\function\\types.py:1762\u001b[0m, in \u001b[0;36morig_function\u001b[1;34m(inputs, outputs, mode, accept_inplace, name, profile, on_unused_input, output_keys, fgraph)\u001b[0m\n\u001b[0;32m   1750\u001b[0m     m \u001b[38;5;241m=\u001b[39m Maker(\n\u001b[0;32m   1751\u001b[0m         inputs,\n\u001b[0;32m   1752\u001b[0m         outputs,\n\u001b[1;32m   (...)\u001b[0m\n\u001b[0;32m   1759\u001b[0m         fgraph\u001b[38;5;241m=\u001b[39mfgraph,\n\u001b[0;32m   1760\u001b[0m     )\n\u001b[0;32m   1761\u001b[0m     \u001b[38;5;28;01mwith\u001b[39;00m config\u001b[38;5;241m.\u001b[39mchange_flags(compute_test_value\u001b[38;5;241m=\u001b[39m\u001b[38;5;124m\"\u001b[39m\u001b[38;5;124moff\u001b[39m\u001b[38;5;124m\"\u001b[39m):\n\u001b[1;32m-> 1762\u001b[0m         fn \u001b[38;5;241m=\u001b[39m \u001b[43mm\u001b[49m\u001b[38;5;241;43m.\u001b[39;49m\u001b[43mcreate\u001b[49m\u001b[43m(\u001b[49m\u001b[43mdefaults\u001b[49m\u001b[43m)\u001b[49m\n\u001b[0;32m   1763\u001b[0m \u001b[38;5;28;01mfinally\u001b[39;00m:\n\u001b[0;32m   1764\u001b[0m     \u001b[38;5;28;01mif\u001b[39;00m profile \u001b[38;5;129;01mand\u001b[39;00m fn:\n",
      "File \u001b[1;32mc:\\Users\\Eliza\\AppData\\Local\\Programs\\Python\\Python312\\Lib\\site-packages\\pytensor\\compile\\function\\types.py:1654\u001b[0m, in \u001b[0;36mFunctionMaker.create\u001b[1;34m(self, input_storage, storage_map)\u001b[0m\n\u001b[0;32m   1651\u001b[0m start_import_time \u001b[38;5;241m=\u001b[39m pytensor\u001b[38;5;241m.\u001b[39mlink\u001b[38;5;241m.\u001b[39mc\u001b[38;5;241m.\u001b[39mcmodule\u001b[38;5;241m.\u001b[39mimport_time\n\u001b[0;32m   1653\u001b[0m \u001b[38;5;28;01mwith\u001b[39;00m config\u001b[38;5;241m.\u001b[39mchange_flags(traceback__limit\u001b[38;5;241m=\u001b[39mconfig\u001b[38;5;241m.\u001b[39mtraceback__compile_limit):\n\u001b[1;32m-> 1654\u001b[0m     _fn, _i, _o \u001b[38;5;241m=\u001b[39m \u001b[38;5;28;43mself\u001b[39;49m\u001b[38;5;241;43m.\u001b[39;49m\u001b[43mlinker\u001b[49m\u001b[38;5;241;43m.\u001b[39;49m\u001b[43mmake_thunk\u001b[49m\u001b[43m(\u001b[49m\n\u001b[0;32m   1655\u001b[0m \u001b[43m        \u001b[49m\u001b[43minput_storage\u001b[49m\u001b[38;5;241;43m=\u001b[39;49m\u001b[43minput_storage_lists\u001b[49m\u001b[43m,\u001b[49m\u001b[43m \u001b[49m\u001b[43mstorage_map\u001b[49m\u001b[38;5;241;43m=\u001b[39;49m\u001b[43mstorage_map\u001b[49m\n\u001b[0;32m   1656\u001b[0m \u001b[43m    \u001b[49m\u001b[43m)\u001b[49m\n\u001b[0;32m   1658\u001b[0m end_linker \u001b[38;5;241m=\u001b[39m time\u001b[38;5;241m.\u001b[39mperf_counter()\n\u001b[0;32m   1660\u001b[0m linker_time \u001b[38;5;241m=\u001b[39m end_linker \u001b[38;5;241m-\u001b[39m start_linker\n",
      "File \u001b[1;32mc:\\Users\\Eliza\\AppData\\Local\\Programs\\Python\\Python312\\Lib\\site-packages\\pytensor\\link\\basic.py:245\u001b[0m, in \u001b[0;36mLocalLinker.make_thunk\u001b[1;34m(self, input_storage, output_storage, storage_map, **kwargs)\u001b[0m\n\u001b[0;32m    238\u001b[0m \u001b[38;5;28;01mdef\u001b[39;00m \u001b[38;5;21mmake_thunk\u001b[39m(\n\u001b[0;32m    239\u001b[0m     \u001b[38;5;28mself\u001b[39m,\n\u001b[0;32m    240\u001b[0m     input_storage: Optional[\u001b[38;5;124m\"\u001b[39m\u001b[38;5;124mInputStorageType\u001b[39m\u001b[38;5;124m\"\u001b[39m] \u001b[38;5;241m=\u001b[39m \u001b[38;5;28;01mNone\u001b[39;00m,\n\u001b[1;32m   (...)\u001b[0m\n\u001b[0;32m    243\u001b[0m     \u001b[38;5;241m*\u001b[39m\u001b[38;5;241m*\u001b[39mkwargs,\n\u001b[0;32m    244\u001b[0m ) \u001b[38;5;241m-\u001b[39m\u001b[38;5;241m>\u001b[39m \u001b[38;5;28mtuple\u001b[39m[\u001b[38;5;124m\"\u001b[39m\u001b[38;5;124mBasicThunkType\u001b[39m\u001b[38;5;124m\"\u001b[39m, \u001b[38;5;124m\"\u001b[39m\u001b[38;5;124mInputStorageType\u001b[39m\u001b[38;5;124m\"\u001b[39m, \u001b[38;5;124m\"\u001b[39m\u001b[38;5;124mOutputStorageType\u001b[39m\u001b[38;5;124m\"\u001b[39m]:\n\u001b[1;32m--> 245\u001b[0m     \u001b[38;5;28;01mreturn\u001b[39;00m \u001b[38;5;28;43mself\u001b[39;49m\u001b[38;5;241;43m.\u001b[39;49m\u001b[43mmake_all\u001b[49m\u001b[43m(\u001b[49m\n\u001b[0;32m    246\u001b[0m \u001b[43m        \u001b[49m\u001b[43minput_storage\u001b[49m\u001b[38;5;241;43m=\u001b[39;49m\u001b[43minput_storage\u001b[49m\u001b[43m,\u001b[49m\n\u001b[0;32m    247\u001b[0m \u001b[43m        \u001b[49m\u001b[43moutput_storage\u001b[49m\u001b[38;5;241;43m=\u001b[39;49m\u001b[43moutput_storage\u001b[49m\u001b[43m,\u001b[49m\n\u001b[0;32m    248\u001b[0m \u001b[43m        \u001b[49m\u001b[43mstorage_map\u001b[49m\u001b[38;5;241;43m=\u001b[39;49m\u001b[43mstorage_map\u001b[49m\u001b[43m,\u001b[49m\n\u001b[0;32m    249\u001b[0m \u001b[43m    \u001b[49m\u001b[43m)\u001b[49m[:\u001b[38;5;241m3\u001b[39m]\n",
      "File \u001b[1;32mc:\\Users\\Eliza\\AppData\\Local\\Programs\\Python\\Python312\\Lib\\site-packages\\pytensor\\link\\vm.py:1282\u001b[0m, in \u001b[0;36mVMLinker.make_all\u001b[1;34m(self, profiler, input_storage, output_storage, storage_map)\u001b[0m\n\u001b[0;32m   1279\u001b[0m \u001b[38;5;28;01melse\u001b[39;00m:\n\u001b[0;32m   1280\u001b[0m     post_thunk_clear \u001b[38;5;241m=\u001b[39m \u001b[38;5;28;01mNone\u001b[39;00m\n\u001b[1;32m-> 1282\u001b[0m vm \u001b[38;5;241m=\u001b[39m \u001b[38;5;28;43mself\u001b[39;49m\u001b[38;5;241;43m.\u001b[39;49m\u001b[43mmake_vm\u001b[49m\u001b[43m(\u001b[49m\n\u001b[0;32m   1283\u001b[0m \u001b[43m    \u001b[49m\u001b[43morder\u001b[49m\u001b[43m,\u001b[49m\n\u001b[0;32m   1284\u001b[0m \u001b[43m    \u001b[49m\u001b[43mthunks\u001b[49m\u001b[43m,\u001b[49m\n\u001b[0;32m   1285\u001b[0m \u001b[43m    \u001b[49m\u001b[43minput_storage\u001b[49m\u001b[43m,\u001b[49m\n\u001b[0;32m   1286\u001b[0m \u001b[43m    \u001b[49m\u001b[43moutput_storage\u001b[49m\u001b[43m,\u001b[49m\n\u001b[0;32m   1287\u001b[0m \u001b[43m    \u001b[49m\u001b[43mstorage_map\u001b[49m\u001b[43m,\u001b[49m\n\u001b[0;32m   1288\u001b[0m \u001b[43m    \u001b[49m\u001b[43mpost_thunk_clear\u001b[49m\u001b[43m,\u001b[49m\n\u001b[0;32m   1289\u001b[0m \u001b[43m    \u001b[49m\u001b[43mcomputed\u001b[49m\u001b[43m,\u001b[49m\n\u001b[0;32m   1290\u001b[0m \u001b[43m    \u001b[49m\u001b[43mcompute_map\u001b[49m\u001b[43m,\u001b[49m\n\u001b[0;32m   1291\u001b[0m \u001b[43m    \u001b[49m\u001b[38;5;28;43mself\u001b[39;49m\u001b[38;5;241;43m.\u001b[39;49m\u001b[43mupdated_vars\u001b[49m\u001b[43m,\u001b[49m\n\u001b[0;32m   1292\u001b[0m \u001b[43m\u001b[49m\u001b[43m)\u001b[49m\n\u001b[0;32m   1294\u001b[0m vm\u001b[38;5;241m.\u001b[39mstorage_map \u001b[38;5;241m=\u001b[39m storage_map\n\u001b[0;32m   1295\u001b[0m vm\u001b[38;5;241m.\u001b[39mcompute_map \u001b[38;5;241m=\u001b[39m compute_map\n",
      "File \u001b[1;32mc:\\Users\\Eliza\\AppData\\Local\\Programs\\Python\\Python312\\Lib\\site-packages\\pytensor\\link\\vm.py:1010\u001b[0m, in \u001b[0;36mVMLinker.make_vm\u001b[1;34m(self, nodes, thunks, input_storage, output_storage, storage_map, post_thunk_clear, computed, compute_map, updated_vars)\u001b[0m\n\u001b[0;32m   1007\u001b[0m pre_call_clear \u001b[38;5;241m=\u001b[39m [storage_map[v] \u001b[38;5;28;01mfor\u001b[39;00m v \u001b[38;5;129;01min\u001b[39;00m \u001b[38;5;28mself\u001b[39m\u001b[38;5;241m.\u001b[39mno_recycling]\n\u001b[0;32m   1009\u001b[0m \u001b[38;5;28;01mtry\u001b[39;00m:\n\u001b[1;32m-> 1010\u001b[0m     \u001b[38;5;28;01mfrom\u001b[39;00m \u001b[38;5;21;01mpytensor\u001b[39;00m\u001b[38;5;21;01m.\u001b[39;00m\u001b[38;5;21;01mlink\u001b[39;00m\u001b[38;5;21;01m.\u001b[39;00m\u001b[38;5;21;01mc\u001b[39;00m\u001b[38;5;21;01m.\u001b[39;00m\u001b[38;5;21;01mcvm\u001b[39;00m \u001b[38;5;28;01mimport\u001b[39;00m CVM\n\u001b[0;32m   1011\u001b[0m \u001b[38;5;28;01mexcept\u001b[39;00m (MissingGXX, \u001b[38;5;167;01mImportError\u001b[39;00m):\n\u001b[0;32m   1012\u001b[0m     CVM \u001b[38;5;241m=\u001b[39m \u001b[38;5;28;01mNone\u001b[39;00m\n",
      "File \u001b[1;32mc:\\Users\\Eliza\\AppData\\Local\\Programs\\Python\\Python312\\Lib\\site-packages\\pytensor\\link\\c\\cvm.py:13\u001b[0m\n\u001b[0;32m      9\u001b[0m \u001b[38;5;28;01mif\u001b[39;00m \u001b[38;5;129;01mnot\u001b[39;00m config\u001b[38;5;241m.\u001b[39mcxx:\n\u001b[0;32m     10\u001b[0m     \u001b[38;5;28;01mraise\u001b[39;00m MissingGXX(\n\u001b[0;32m     11\u001b[0m         \u001b[38;5;124m\"\u001b[39m\u001b[38;5;124mlazylinker will not be imported if pytensor.config.cxx is not set.\u001b[39m\u001b[38;5;124m\"\u001b[39m\n\u001b[0;32m     12\u001b[0m     )\n\u001b[1;32m---> 13\u001b[0m \u001b[38;5;28;01mfrom\u001b[39;00m \u001b[38;5;21;01mpytensor\u001b[39;00m\u001b[38;5;21;01m.\u001b[39;00m\u001b[38;5;21;01mlink\u001b[39;00m\u001b[38;5;21;01m.\u001b[39;00m\u001b[38;5;21;01mc\u001b[39;00m\u001b[38;5;21;01m.\u001b[39;00m\u001b[38;5;21;01mlazylinker_c\u001b[39;00m \u001b[38;5;28;01mimport\u001b[39;00m CLazyLinker\n\u001b[0;32m     15\u001b[0m \u001b[38;5;28;01mclass\u001b[39;00m \u001b[38;5;21;01mCVM\u001b[39;00m(CLazyLinker, VM):\n\u001b[0;32m     16\u001b[0m     \u001b[38;5;28;01mdef\u001b[39;00m \u001b[38;5;21m__init__\u001b[39m(\u001b[38;5;28mself\u001b[39m, fgraph, \u001b[38;5;241m*\u001b[39margs, \u001b[38;5;241m*\u001b[39m\u001b[38;5;241m*\u001b[39mkwargs):\n",
      "File \u001b[1;32mc:\\Users\\Eliza\\AppData\\Local\\Programs\\Python\\Python312\\Lib\\site-packages\\pytensor\\link\\c\\lazylinker_c.py:122\u001b[0m\n\u001b[0;32m    119\u001b[0m loc\u001b[38;5;241m.\u001b[39mmkdir(exist_ok\u001b[38;5;241m=\u001b[39m\u001b[38;5;28;01mTrue\u001b[39;00m)\n\u001b[0;32m    121\u001b[0m args \u001b[38;5;241m=\u001b[39m GCC_compiler\u001b[38;5;241m.\u001b[39mcompile_args()\n\u001b[1;32m--> 122\u001b[0m \u001b[43mGCC_compiler\u001b[49m\u001b[38;5;241;43m.\u001b[39;49m\u001b[43mcompile_str\u001b[49m\u001b[43m(\u001b[49m\u001b[43mdirname\u001b[49m\u001b[43m,\u001b[49m\u001b[43m \u001b[49m\u001b[43mcode\u001b[49m\u001b[43m,\u001b[49m\u001b[43m \u001b[49m\u001b[43mlocation\u001b[49m\u001b[38;5;241;43m=\u001b[39;49m\u001b[43mloc\u001b[49m\u001b[43m,\u001b[49m\u001b[43m \u001b[49m\u001b[43mpreargs\u001b[49m\u001b[38;5;241;43m=\u001b[39;49m\u001b[43margs\u001b[49m\u001b[43m)\u001b[49m\n\u001b[0;32m    123\u001b[0m \u001b[38;5;66;03m# Save version into the __init__.py file.\u001b[39;00m\n\u001b[0;32m    124\u001b[0m init_py \u001b[38;5;241m=\u001b[39m loc \u001b[38;5;241m/\u001b[39m \u001b[38;5;124m\"\u001b[39m\u001b[38;5;124m__init__.py\u001b[39m\u001b[38;5;124m\"\u001b[39m\n",
      "File \u001b[1;32mc:\\Users\\Eliza\\AppData\\Local\\Programs\\Python\\Python312\\Lib\\site-packages\\pytensor\\link\\c\\cmodule.py:2654\u001b[0m, in \u001b[0;36mGCC_compiler.compile_str\u001b[1;34m(module_name, src_code, location, include_dirs, lib_dirs, libs, preargs, py_module, hide_symbols)\u001b[0m\n\u001b[0;32m   2646\u001b[0m                 \u001b[38;5;28mprint\u001b[39m(\n\u001b[0;32m   2647\u001b[0m                     \u001b[38;5;124m\"\u001b[39m\u001b[38;5;124mCheck if package python-dev or python-devel is installed.\u001b[39m\u001b[38;5;124m\"\u001b[39m\n\u001b[0;32m   2648\u001b[0m                 )\n\u001b[0;32m   2650\u001b[0m     \u001b[38;5;66;03m# We replace '\\n' by '. ' in the error message because when Python\u001b[39;00m\n\u001b[0;32m   2651\u001b[0m     \u001b[38;5;66;03m# prints the exception, having '\\n' in the text makes it more\u001b[39;00m\n\u001b[0;32m   2652\u001b[0m     \u001b[38;5;66;03m# difficult to read.\u001b[39;00m\n\u001b[0;32m   2653\u001b[0m     \u001b[38;5;66;03m# compile_stderr = compile_stderr.replace(\"\\n\", \". \")\u001b[39;00m\n\u001b[1;32m-> 2654\u001b[0m     \u001b[38;5;28;01mraise\u001b[39;00m CompileError(\n\u001b[0;32m   2655\u001b[0m         \u001b[38;5;124mf\u001b[39m\u001b[38;5;124m\"\u001b[39m\u001b[38;5;124mCompilation failed (return status=\u001b[39m\u001b[38;5;132;01m{\u001b[39;00mstatus\u001b[38;5;132;01m}\u001b[39;00m\u001b[38;5;124m):\u001b[39m\u001b[38;5;130;01m\\n\u001b[39;00m\u001b[38;5;132;01m{\u001b[39;00m\u001b[38;5;124m'\u001b[39m\u001b[38;5;124m \u001b[39m\u001b[38;5;124m'\u001b[39m\u001b[38;5;241m.\u001b[39mjoin(cmd)\u001b[38;5;132;01m}\u001b[39;00m\u001b[38;5;130;01m\\n\u001b[39;00m\u001b[38;5;132;01m{\u001b[39;00mcompile_stderr\u001b[38;5;132;01m}\u001b[39;00m\u001b[38;5;124m\"\u001b[39m\n\u001b[0;32m   2656\u001b[0m     )\n\u001b[0;32m   2657\u001b[0m \u001b[38;5;28;01melif\u001b[39;00m config\u001b[38;5;241m.\u001b[39mcmodule__compilation_warning \u001b[38;5;129;01mand\u001b[39;00m compile_stderr:\n\u001b[0;32m   2658\u001b[0m     \u001b[38;5;66;03m# Print errors just below the command line.\u001b[39;00m\n\u001b[0;32m   2659\u001b[0m     \u001b[38;5;28mprint\u001b[39m(compile_stderr)\n",
      "\u001b[1;31mCompileError\u001b[0m: Compilation failed (return status=1):\n\"C:\\MinGW\\bin\\g++.exe\" -shared -g -Wno-c++11-narrowing -fno-exceptions -fno-unwind-tables -fno-asynchronous-unwind-tables -DNPY_NO_DEPRECATED_API=NPY_1_7_API_VERSION -m64 -DMS_WIN64 -I\"c:\\Users\\Eliza\\AppData\\Local\\Programs\\Python\\Python312\\Lib\\site-packages\\numpy\\core\\include\" -I\"c:\\Users\\Eliza\\AppData\\Local\\Programs\\Python\\Python312\\include\" -I\"c:\\Users\\Eliza\\AppData\\Local\\Programs\\Python\\Python312\\Lib\\site-packages\\pytensor\\link\\c\\c_code\" -L\"c:\\Users\\Eliza\\AppData\\Local\\Programs\\Python\\Python312\\libs\" -L\"c:\\Users\\Eliza\\AppData\\Local\\Programs\\Python\\Python312\" -o \"C:\\Users\\Eliza\\AppData\\Local\\PyTensor\\compiledir_Windows-11-10.0.22631-SP0-Intel64_Family_6_Model_140_Stepping_1_GenuineIntel-3.12.6-64\\lazylinker_ext\\lazylinker_ext.pyd\" \"C:\\Users\\Eliza\\AppData\\Local\\PyTensor\\compiledir_Windows-11-10.0.22631-SP0-Intel64_Family_6_Model_140_Stepping_1_GenuineIntel-3.12.6-64\\lazylinker_ext\\mod.cpp\" \"c:\\Users\\Eliza\\AppData\\Local\\Programs\\Python\\Python312\\python312.dll\"\nC:\\Users\\Eliza\\AppData\\Local\\PyTensor\\compiledir_Windows-11-10.0.22631-SP0-Intel64_Family_6_Model_140_Stepping_1_GenuineIntel-3.12.6-64\\lazylinker_ext\\mod.cpp:1:0: sorry, unimplemented: 64-bit mode not compiled in\r\n #include \"pytensor_mod_helper.h\"\r\n \r\n"
     ]
    }
   ],
   "source": [
    "# Definim modelul probabilistic\n",
    "with pm.Model() as model:\n",
    "    # Prior pentru înălțimea medie (mu)\n",
    "    mu = pm.Normal('mu', mu=160, sigma=15)  # Presupunem inițial că media ar putea fi în jur de 160 cm\n",
    "\n",
    "    # Prior pentru deviația standard (sigma)\n",
    "    sigma = pm.HalfNormal('sigma', sigma=10)  # Deviația standard trebuie să fie pozitivă\n",
    "\n",
    "    # Verosimilitatea datelor observate\n",
    "    heights = pm.Normal('heights', mu=mu, sigma=sigma, observed=observed_heights)\n",
    "\n",
    "    # Efectuăm eșantionarea MCMC\n",
    "    print(\"Începem eșantionarea MCMC...\")\n",
    "    trace = pm.sample(1000, tune=1000, return_inferencedata=True)\n",
    "    print(\"Eșantionarea MCMC s-a încheiat.\")\n"
   ]
  },
  {
   "cell_type": "markdown",
   "metadata": {
    "id": "iV2e-doEM8tL"
   },
   "source": [
    "### Explicații:\n",
    "Am creat un model pe baza urmatoarelor presupuneri:\n",
    "- Prior pentru mu: Presupunem inițial că înălțimea medie este în jur de 160 cm, cu o incertitudine de 15 cm.\n",
    "- Prior pentru sigma: Folosim o distribuție HalfNormal deoarece deviația standard nu poate fi negativă.\n",
    "- Verosimilitatea: Modelăm înălțimile observate ca provenind dintr-o distribuție normală cu parametrii necunoscuți mu și sigma."
   ]
  },
  {
   "cell_type": "markdown",
   "metadata": {
    "id": "e3hgISNUNTTP"
   },
   "source": [
    "## Pasul 4: Analiza Rezultatelor\n",
    "Rezumatul Posterior"
   ]
  },
  {
   "cell_type": "code",
   "execution_count": null,
   "metadata": {
    "colab": {
     "base_uri": "https://localhost:8080/"
    },
    "id": "ur85sk64NJEp",
    "outputId": "46cdb074-10f2-4fe8-e010-135dab77e38a"
   },
   "outputs": [],
   "source": [
    "# Rezumatul parametrilor posteriori\n",
    "print(\"\\nRezumatul estimărilor:\")\n",
    "summary = az.summary(trace, var_names=['mu', 'sigma'])\n",
    "print(summary)"
   ]
  },
  {
   "cell_type": "markdown",
   "metadata": {
    "id": "yStY0O6mNhCG"
   },
   "source": [
    "### Interpretare:\n",
    "\n",
    "- mu: Valoarea estimată pentru înălțimea medie a studenților.\n",
    "- sigma: Estimarea variației în înălțimi.\n"
   ]
  },
  {
   "cell_type": "markdown",
   "metadata": {
    "id": "o9iHlcfXNxcQ"
   },
   "source": [
    "## Distribuțiile Posterioare"
   ]
  },
  {
   "cell_type": "code",
   "execution_count": null,
   "metadata": {
    "colab": {
     "base_uri": "https://localhost:8080/",
     "height": 395
    },
    "id": "jqi8TBvGNy32",
    "outputId": "00d5144c-1e06-44ad-dea9-d164056ffb77"
   },
   "outputs": [],
   "source": [
    "# Afișăm distribuțiile posterioare\n",
    "print(\"\\nPlotăm distribuțiile posterioare pentru 'mu' și 'sigma'...\")\n",
    "az.plot_posterior(trace, var_names=['mu', 'sigma'], hdi_prob=0.95)\n",
    "plt.show()"
   ]
  },
  {
   "cell_type": "markdown",
   "metadata": {
    "id": "LuP56SjGN69E"
   },
   "source": [
    "### Interpretare:\n",
    "Graficul arată distribuțiile probabilistice actualizate ale parametrilor după ce am luat în considerare datele observate.\n",
    "- Pentru mu: Vedem unde este cel mai probabil să se afle înălțimea medie și cât de siguri suntem de această estimare.\n",
    "- Pentru sigma: Similar, vedem estimarea pentru deviația standard."
   ]
  },
  {
   "cell_type": "markdown",
   "metadata": {
    "id": "qwV0IiKwOFjX"
   },
   "source": [
    "## Traseele MCMC"
   ]
  },
  {
   "cell_type": "code",
   "execution_count": null,
   "metadata": {
    "colab": {
     "base_uri": "https://localhost:8080/",
     "height": 347
    },
    "id": "DaYlMlESOGlj",
    "outputId": "6dfe3dcb-ff97-4984-aed1-884b10352621"
   },
   "outputs": [],
   "source": [
    "# Plotăm traseele MCMC\n",
    "print(\"Plotăm traseele MCMC pentru 'mu' și 'sigma'...\")\n",
    "az.plot_trace(trace, var_names=['mu', 'sigma'])\n",
    "plt.show()"
   ]
  },
  {
   "cell_type": "markdown",
   "metadata": {
    "id": "GcKRwhsOOYBO"
   },
   "source": [
    "### Interpretare:\n",
    "\n",
    "Traseele arată cum valorile estimate pentru mu și sigma au evoluat pe parcursul eșantionării.\n",
    "Un traseu stabil și bine amestecat indică o eșantionare eficientă și convergența către distribuția posterioară corectă."
   ]
  },
  {
   "cell_type": "markdown",
   "metadata": {
    "id": "6M7JCuwGOfwc"
   },
   "source": [
    "## Compararea Valorilor Estimate cu Cele Reale"
   ]
  },
  {
   "cell_type": "code",
   "execution_count": null,
   "metadata": {
    "colab": {
     "base_uri": "https://localhost:8080/"
    },
    "id": "6aqek5UgOaaY",
    "outputId": "adaf6818-969f-4def-bca9-f82a472850e3"
   },
   "outputs": [],
   "source": [
    "# Comparam valorile estimate cu valorile reale\n",
    "estimated_mu = summary.loc['mu', 'mean']\n",
    "estimated_sigma = summary.loc['sigma', 'mean']\n",
    "print(f\"\\nValoarea reală a 'mu' (înălțimea medie reală): {true_mu} cm\")\n",
    "print(f\"Valoarea estimată a 'mu': {estimated_mu:.2f} cm\")\n",
    "print(f\"Valoarea reală a 'sigma' (deviația standard reală): {true_sigma} cm\")\n",
    "print(f\"Valoarea estimată a 'sigma': {estimated_sigma:.2f} cm\")"
   ]
  },
  {
   "cell_type": "markdown",
   "metadata": {
    "id": "Rv5xg_WUOkWv"
   },
   "source": [
    "### Interpretare:\n",
    "\n",
    "Observăm cât de aproape sunt estimările noastre de valorile reale folosite pentru a genera datele.\n",
    "Diferențe mici indică faptul că modelul nostru a funcționat bine."
   ]
  }
 ],
 "metadata": {
  "colab": {
   "authorship_tag": "ABX9TyOZ+Y09lBd3TsItkRgn13Yw",
   "include_colab_link": true,
   "provenance": []
  },
  "kernelspec": {
   "display_name": "Python 3 (ipykernel)",
   "language": "python",
   "name": "python3"
  },
  "language_info": {
   "codemirror_mode": {
    "name": "ipython",
    "version": 3
   },
   "file_extension": ".py",
   "mimetype": "text/x-python",
   "name": "python",
   "nbconvert_exporter": "python",
   "pygments_lexer": "ipython3",
   "version": "3.12.6"
  },
  "widgets": {
   "application/vnd.jupyter.widget-state+json": {
    "02233561a9254bed8bd211349af7bd95": {
     "model_module": "@jupyter-widgets/output",
     "model_module_version": "1.0.0",
     "model_name": "OutputModel",
     "state": {
      "_dom_classes": [],
      "_model_module": "@jupyter-widgets/output",
      "_model_module_version": "1.0.0",
      "_model_name": "OutputModel",
      "_view_count": null,
      "_view_module": "@jupyter-widgets/output",
      "_view_module_version": "1.0.0",
      "_view_name": "OutputView",
      "layout": "IPY_MODEL_28536392bbcf4d0abd2e56efdcdfcdc7",
      "msg_id": "",
      "outputs": [
       {
        "data": {
         "text/html": "<pre style=\"white-space:pre;overflow-x:auto;line-height:normal;font-family:Menlo,'DejaVu Sans Mono',consolas,'Courier New',monospace\">Sampling chain 1, 0 divergences <span style=\"color: #008000; text-decoration-color: #008000\">━━━━━━━━━━━━━━━━━━━━━━━━━━━━━━━━━━━━━━━━</span> <span style=\"color: #800080; text-decoration-color: #800080\">100%</span> <span style=\"color: #008080; text-decoration-color: #008080\">0:00:00</span> / <span style=\"color: #808000; text-decoration-color: #808000\">0:00:02</span>\n</pre>\n",
         "text/plain": "Sampling chain 1, 0 divergences \u001b[32m━━━━━━━━━━━━━━━━━━━━━━━━━━━━━━━━━━━━━━━━\u001b[0m \u001b[35m100%\u001b[0m \u001b[36m0:00:00\u001b[0m / \u001b[33m0:00:02\u001b[0m\n"
        },
        "metadata": {},
        "output_type": "display_data"
       }
      ]
     }
    },
    "28536392bbcf4d0abd2e56efdcdfcdc7": {
     "model_module": "@jupyter-widgets/base",
     "model_module_version": "1.2.0",
     "model_name": "LayoutModel",
     "state": {
      "_model_module": "@jupyter-widgets/base",
      "_model_module_version": "1.2.0",
      "_model_name": "LayoutModel",
      "_view_count": null,
      "_view_module": "@jupyter-widgets/base",
      "_view_module_version": "1.2.0",
      "_view_name": "LayoutView",
      "align_content": null,
      "align_items": null,
      "align_self": null,
      "border": null,
      "bottom": null,
      "display": null,
      "flex": null,
      "flex_flow": null,
      "grid_area": null,
      "grid_auto_columns": null,
      "grid_auto_flow": null,
      "grid_auto_rows": null,
      "grid_column": null,
      "grid_gap": null,
      "grid_row": null,
      "grid_template_areas": null,
      "grid_template_columns": null,
      "grid_template_rows": null,
      "height": null,
      "justify_content": null,
      "justify_items": null,
      "left": null,
      "margin": null,
      "max_height": null,
      "max_width": null,
      "min_height": null,
      "min_width": null,
      "object_fit": null,
      "object_position": null,
      "order": null,
      "overflow": null,
      "overflow_x": null,
      "overflow_y": null,
      "padding": null,
      "right": null,
      "top": null,
      "visibility": null,
      "width": null
     }
    },
    "2b060d5b92fa473992a4df51d48834d8": {
     "model_module": "@jupyter-widgets/output",
     "model_module_version": "1.0.0",
     "model_name": "OutputModel",
     "state": {
      "_dom_classes": [],
      "_model_module": "@jupyter-widgets/output",
      "_model_module_version": "1.0.0",
      "_model_name": "OutputModel",
      "_view_count": null,
      "_view_module": "@jupyter-widgets/output",
      "_view_module_version": "1.0.0",
      "_view_name": "OutputView",
      "layout": "IPY_MODEL_ba899ab2bb6345c3b62ab0c190b3b81f",
      "msg_id": "",
      "outputs": [
       {
        "data": {
         "text/html": "<pre style=\"white-space:pre;overflow-x:auto;line-height:normal;font-family:Menlo,'DejaVu Sans Mono',consolas,'Courier New',monospace\">Sampling chain 0, 0 divergences <span style=\"color: #008000; text-decoration-color: #008000\">━━━━━━━━━━━━━━━━━━━━━━━━━━━━━━━━━━━━━━━━</span> <span style=\"color: #800080; text-decoration-color: #800080\">100%</span> <span style=\"color: #008080; text-decoration-color: #008080\">0:00:00</span> / <span style=\"color: #808000; text-decoration-color: #808000\">0:00:02</span>\n</pre>\n",
         "text/plain": "Sampling chain 0, 0 divergences \u001b[32m━━━━━━━━━━━━━━━━━━━━━━━━━━━━━━━━━━━━━━━━\u001b[0m \u001b[35m100%\u001b[0m \u001b[36m0:00:00\u001b[0m / \u001b[33m0:00:02\u001b[0m\n"
        },
        "metadata": {},
        "output_type": "display_data"
       }
      ]
     }
    },
    "ba899ab2bb6345c3b62ab0c190b3b81f": {
     "model_module": "@jupyter-widgets/base",
     "model_module_version": "1.2.0",
     "model_name": "LayoutModel",
     "state": {
      "_model_module": "@jupyter-widgets/base",
      "_model_module_version": "1.2.0",
      "_model_name": "LayoutModel",
      "_view_count": null,
      "_view_module": "@jupyter-widgets/base",
      "_view_module_version": "1.2.0",
      "_view_name": "LayoutView",
      "align_content": null,
      "align_items": null,
      "align_self": null,
      "border": null,
      "bottom": null,
      "display": null,
      "flex": null,
      "flex_flow": null,
      "grid_area": null,
      "grid_auto_columns": null,
      "grid_auto_flow": null,
      "grid_auto_rows": null,
      "grid_column": null,
      "grid_gap": null,
      "grid_row": null,
      "grid_template_areas": null,
      "grid_template_columns": null,
      "grid_template_rows": null,
      "height": null,
      "justify_content": null,
      "justify_items": null,
      "left": null,
      "margin": null,
      "max_height": null,
      "max_width": null,
      "min_height": null,
      "min_width": null,
      "object_fit": null,
      "object_position": null,
      "order": null,
      "overflow": null,
      "overflow_x": null,
      "overflow_y": null,
      "padding": null,
      "right": null,
      "top": null,
      "visibility": null,
      "width": null
     }
    }
   }
  }
 },
 "nbformat": 4,
 "nbformat_minor": 4
}
