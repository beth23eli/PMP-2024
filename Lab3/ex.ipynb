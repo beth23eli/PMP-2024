{
 "nbformat": 4,
 "nbformat_minor": 0,
 "metadata": {
  "colab": {
   "provenance": []
  },
  "kernelspec": {
   "name": "python3",
   "display_name": "Python 3"
  },
  "language_info": {
   "name": "python"
  }
 },
 "cells": [
  {
   "cell_type": "code",
   "source": [
    "pip install pgmpy"
   ],
   "metadata": {
    "id": "8ZW42ir-bojI"
   },
   "execution_count": null,
   "outputs": []
  },
  {
   "cell_type": "code",
   "source": [
    "!apt install libgraphviz-dev\n",
    "!pip install pygraphviz\n",
    "!pip install networkx"
   ],
   "metadata": {
    "id": "tw2Aa553dwNI"
   },
   "execution_count": null,
   "outputs": []
  },
  {
   "cell_type": "markdown",
   "source": [
    "S este independent de M dat fiind L\n",
    "O si L sunt conditionat independente de S(daca stim ca un email e spam, deja nu mai influenteaza ca un link e prezent sau invers)"
   ],
   "metadata": {
    "id": "Uie0fU8mhbnz"
   }
  },
  {
   "cell_type": "code",
   "execution_count": 15,
   "metadata": {
    "colab": {
     "base_uri": "https://localhost:8080/"
    },
    "id": "IAKFGvFjbh_C",
    "outputId": "fee6adcd-7634-4719-fbd4-e3a27e002393"
   },
   "outputs": [
    {
     "output_type": "stream",
     "name": "stdout",
     "text": [
      "Probabilitatea ca e-mail-ul să fie spam: +------+----------+\n",
      "| S    |   phi(S) |\n",
      "+======+==========+\n",
      "| S(0) |   0.0508 |\n",
      "+------+----------+\n",
      "| S(1) |   0.9492 |\n",
      "+------+----------+\n"
     ]
    }
   ],
   "source": [
    "from pgmpy.models import BayesianNetwork\n",
    "from pgmpy.factors.discrete import TabularCPD\n",
    "from pgmpy.inference import VariableElimination\n",
    "import matplotlib.pyplot as plt\n",
    "import networkx as nx\n",
    "\n",
    "#creez modelul bayesian cu relatiile respective\n",
    "model = BayesianNetwork([(\"S\", \"O\"), (\"S\", \"L\"), (\"S\", \"M\"), (\"L\", \"M\")])\n",
    "\n",
    "#definesc distributiile conditionate de prob. pt S\n",
    "#P(S=0)=0.6\n",
    "cpd_s = TabularCPD(\"S\", 2, [[0.6], [0.4]])\n",
    "\n",
    "#distributia pt O|S\n",
    "#S=0: P(O=0)=0.9, P(O=1)=0.1\n",
    "cpd_o = TabularCPD(\n",
    "    \"O\",\n",
    "    2,\n",
    "    [\n",
    "        [0.9, 0.3] ,\n",
    "        [0.1, 0.7]\n",
    "    ],\n",
    "    evidence=[\"S\"],\n",
    "    evidence_card=[2]\n",
    ")\n",
    "\n",
    "#distributia pt L|S\n",
    "#S=0: P(L=0)=0.7, P(L=1)=0.3\n",
    "cpd_l = TabularCPD(\n",
    "    \"L\",\n",
    "    2,\n",
    "    [\n",
    "        [0.7, 0.2],\n",
    "        [0.3, 0.8]\n",
    "    ],\n",
    "    evidence=[\"S\"],\n",
    "    evidence_card=[2]\n",
    ")\n",
    "\n",
    "#distributia pt M|S,L\n",
    "#S=0,L=0: P(M=0)=0.8, P(M=1)=0.2\n",
    "#S=0,L=1: P(M=0)=0.4, P(M=1)=0.6\n",
    "cpd_m = TabularCPD(\n",
    "    \"M\",\n",
    "    2,\n",
    "    [\n",
    "        [0.8, 0.4, 0.5, 0.1],\n",
    "        [0.2, 0.6, 0.5, 0.9]\n",
    "    ],\n",
    "    evidence=[\"S\", \"L\"],\n",
    "    evidence_card=[2, 2]\n",
    ")\n",
    "\n",
    "#adaug prob.condit. in model\n",
    "model.add_cpds(cpd_s, cpd_o, cpd_l, cpd_m)\n",
    "#verific daca reteaua e valida\n",
    "assert model.check_model()\n",
    "#calculam probabilitati\n",
    "inference = VariableElimination(model)\n",
    "\n",
    "#calculez prob. ca S e spam cu dovezile date\n",
    "prob_spam = inference.query(variables=['S'], evidence={'O': 1, 'L': 1, 'M': 1})\n",
    "print(\"Probabilitatea ca e-mail-ul să fie spam:\", prob_spam)\n"
   ]
  },
  {
   "cell_type": "code",
   "source": [
    "infer = VariableElimination(model)\n",
    "result = infer.query(variables=['S'], evidence={'O': 1, 'L': 1, 'M': 1})\n",
    "print(result)\n",
    "\n",
    "#vizualizez reteaua bayesiana\n",
    "pos = nx.circular_layout(model)\n",
    "nx.draw(model, pos=pos, with_labels=True, node_size=4000, font_weight='bold', node_color='skyblue')\n",
    "plt.show()"
   ],
   "metadata": {
    "colab": {
     "base_uri": "https://localhost:8080/",
     "height": 631
    },
    "id": "KfDLim-yd6uI",
    "outputId": "81444111-40f0-4076-d645-b273ede16404"
   },
   "execution_count": 16,
   "outputs": [
    {
     "output_type": "stream",
     "name": "stdout",
     "text": [
      "+------+----------+\n",
      "| S    |   phi(S) |\n",
      "+======+==========+\n",
      "| S(0) |   0.0508 |\n",
      "+------+----------+\n",
      "| S(1) |   0.9492 |\n",
      "+------+----------+\n"
     ]
    },
    {
     "output_type": "display_data",
     "data": {
      "text/plain": [
       "<Figure size 640x480 with 1 Axes>"
      ],
      "image/png": "[encoded data removed]"
     },
     "metadata": {}
    }
   ]
  },
  {
   "metadata": {},
   "cell_type": "markdown",
   "source": ""
  }
 ]
}
