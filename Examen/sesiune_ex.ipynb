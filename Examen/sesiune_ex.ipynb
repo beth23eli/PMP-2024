{
  "nbformat": 4,
  "nbformat_minor": 0,
  "metadata": {
    "colab": {
      "provenance": []
    },
    "kernelspec": {
      "name": "python3",
      "display_name": "Python 3"
    },
    "language_info": {
      "name": "python"
    },
    "widgets": {
      "application/vnd.jupyter.widget-state+json": {
        "7ae938f991b34245ac5ea92e7583f5e4": {
          "model_module": "@jupyter-widgets/output",
          "model_name": "OutputModel",
          "model_module_version": "1.0.0",
          "state": {
            "_dom_classes": [],
            "_model_module": "@jupyter-widgets/output",
            "_model_module_version": "1.0.0",
            "_model_name": "OutputModel",
            "_view_count": null,
            "_view_module": "@jupyter-widgets/output",
            "_view_module_version": "1.0.0",
            "_view_name": "OutputView",
            "layout": "IPY_MODEL_4e1d2596ef3c4406bada62edae6990a9",
            "msg_id": "",
            "outputs": [
              {
                "output_type": "display_data",
                "data": {
                  "text/plain": "Sampling chain 0, 0 divergences \u001b[32m━━━━━━━━━━━━━━━━━━━━━━━━━━━━━━━━━━━━━━━━\u001b[0m \u001b[35m100%\u001b[0m \u001b[36m0:00:00\u001b[0m / \u001b[33m0:00:18\u001b[0m\n",
                  "text/html": "<pre style=\"white-space:pre;overflow-x:auto;line-height:normal;font-family:Menlo,'DejaVu Sans Mono',consolas,'Courier New',monospace\">Sampling chain 0, 0 divergences <span style=\"color: #008000; text-decoration-color: #008000\">━━━━━━━━━━━━━━━━━━━━━━━━━━━━━━━━━━━━━━━━</span> <span style=\"color: #800080; text-decoration-color: #800080\">100%</span> <span style=\"color: #008080; text-decoration-color: #008080\">0:00:00</span> / <span style=\"color: #808000; text-decoration-color: #808000\">0:00:18</span>\n</pre>\n"
                },
                "metadata": {}
              }
            ]
          }
        },
        "4e1d2596ef3c4406bada62edae6990a9": {
          "model_module": "@jupyter-widgets/base",
          "model_name": "LayoutModel",
          "model_module_version": "1.2.0",
          "state": {
            "_model_module": "@jupyter-widgets/base",
            "_model_module_version": "1.2.0",
            "_model_name": "LayoutModel",
            "_view_count": null,
            "_view_module": "@jupyter-widgets/base",
            "_view_module_version": "1.2.0",
            "_view_name": "LayoutView",
            "align_content": null,
            "align_items": null,
            "align_self": null,
            "border": null,
            "bottom": null,
            "display": null,
            "flex": null,
            "flex_flow": null,
            "grid_area": null,
            "grid_auto_columns": null,
            "grid_auto_flow": null,
            "grid_auto_rows": null,
            "grid_column": null,
            "grid_gap": null,
            "grid_row": null,
            "grid_template_areas": null,
            "grid_template_columns": null,
            "grid_template_rows": null,
            "height": null,
            "justify_content": null,
            "justify_items": null,
            "left": null,
            "margin": null,
            "max_height": null,
            "max_width": null,
            "min_height": null,
            "min_width": null,
            "object_fit": null,
            "object_position": null,
            "order": null,
            "overflow": null,
            "overflow_x": null,
            "overflow_y": null,
            "padding": null,
            "right": null,
            "top": null,
            "visibility": null,
            "width": null
          }
        },
        "6e6a0fe1bb09452a94a5fed6a6fa2ff3": {
          "model_module": "@jupyter-widgets/output",
          "model_name": "OutputModel",
          "model_module_version": "1.0.0",
          "state": {
            "_dom_classes": [],
            "_model_module": "@jupyter-widgets/output",
            "_model_module_version": "1.0.0",
            "_model_name": "OutputModel",
            "_view_count": null,
            "_view_module": "@jupyter-widgets/output",
            "_view_module_version": "1.0.0",
            "_view_name": "OutputView",
            "layout": "IPY_MODEL_028e56b275c44cc68b6d554322f2da17",
            "msg_id": "",
            "outputs": [
              {
                "output_type": "display_data",
                "data": {
                  "text/plain": "Sampling chain 1, 0 divergences \u001b[32m━━━━━━━━━━━━━━━━━━━━━━━━━━━━━━━━━━━━━━━━\u001b[0m \u001b[35m100%\u001b[0m \u001b[36m0:00:00\u001b[0m / \u001b[33m0:00:17\u001b[0m\n",
                  "text/html": "<pre style=\"white-space:pre;overflow-x:auto;line-height:normal;font-family:Menlo,'DejaVu Sans Mono',consolas,'Courier New',monospace\">Sampling chain 1, 0 divergences <span style=\"color: #008000; text-decoration-color: #008000\">━━━━━━━━━━━━━━━━━━━━━━━━━━━━━━━━━━━━━━━━</span> <span style=\"color: #800080; text-decoration-color: #800080\">100%</span> <span style=\"color: #008080; text-decoration-color: #008080\">0:00:00</span> / <span style=\"color: #808000; text-decoration-color: #808000\">0:00:17</span>\n</pre>\n"
                },
                "metadata": {}
              }
            ]
          }
        },
        "028e56b275c44cc68b6d554322f2da17": {
          "model_module": "@jupyter-widgets/base",
          "model_name": "LayoutModel",
          "model_module_version": "1.2.0",
          "state": {
            "_model_module": "@jupyter-widgets/base",
            "_model_module_version": "1.2.0",
            "_model_name": "LayoutModel",
            "_view_count": null,
            "_view_module": "@jupyter-widgets/base",
            "_view_module_version": "1.2.0",
            "_view_name": "LayoutView",
            "align_content": null,
            "align_items": null,
            "align_self": null,
            "border": null,
            "bottom": null,
            "display": null,
            "flex": null,
            "flex_flow": null,
            "grid_area": null,
            "grid_auto_columns": null,
            "grid_auto_flow": null,
            "grid_auto_rows": null,
            "grid_column": null,
            "grid_gap": null,
            "grid_row": null,
            "grid_template_areas": null,
            "grid_template_columns": null,
            "grid_template_rows": null,
            "height": null,
            "justify_content": null,
            "justify_items": null,
            "left": null,
            "margin": null,
            "max_height": null,
            "max_width": null,
            "min_height": null,
            "min_width": null,
            "object_fit": null,
            "object_position": null,
            "order": null,
            "overflow": null,
            "overflow_x": null,
            "overflow_y": null,
            "padding": null,
            "right": null,
            "top": null,
            "visibility": null,
            "width": null
          }
        },
        "74b499acbd3542c2887f29a962ad8314": {
          "model_module": "@jupyter-widgets/output",
          "model_name": "OutputModel",
          "model_module_version": "1.0.0",
          "state": {
            "_dom_classes": [],
            "_model_module": "@jupyter-widgets/output",
            "_model_module_version": "1.0.0",
            "_model_name": "OutputModel",
            "_view_count": null,
            "_view_module": "@jupyter-widgets/output",
            "_view_module_version": "1.0.0",
            "_view_name": "OutputView",
            "layout": "IPY_MODEL_0e05ef24efa04824bbc7ff668c2b57c3",
            "msg_id": "",
            "outputs": [
              {
                "output_type": "display_data",
                "data": {
                  "text/plain": "Sampling chain 0, 0 divergences \u001b[32m━━━━━━━━━━━━━━━━━━━━━━━━━━━━━━━━━━━━━━━━\u001b[0m \u001b[35m100%\u001b[0m \u001b[36m0:00:00\u001b[0m / \u001b[33m0:00:03\u001b[0m\n",
                  "text/html": "<pre style=\"white-space:pre;overflow-x:auto;line-height:normal;font-family:Menlo,'DejaVu Sans Mono',consolas,'Courier New',monospace\">Sampling chain 0, 0 divergences <span style=\"color: #008000; text-decoration-color: #008000\">━━━━━━━━━━━━━━━━━━━━━━━━━━━━━━━━━━━━━━━━</span> <span style=\"color: #800080; text-decoration-color: #800080\">100%</span> <span style=\"color: #008080; text-decoration-color: #008080\">0:00:00</span> / <span style=\"color: #808000; text-decoration-color: #808000\">0:00:03</span>\n</pre>\n"
                },
                "metadata": {}
              }
            ]
          }
        },
        "0e05ef24efa04824bbc7ff668c2b57c3": {
          "model_module": "@jupyter-widgets/base",
          "model_name": "LayoutModel",
          "model_module_version": "1.2.0",
          "state": {
            "_model_module": "@jupyter-widgets/base",
            "_model_module_version": "1.2.0",
            "_model_name": "LayoutModel",
            "_view_count": null,
            "_view_module": "@jupyter-widgets/base",
            "_view_module_version": "1.2.0",
            "_view_name": "LayoutView",
            "align_content": null,
            "align_items": null,
            "align_self": null,
            "border": null,
            "bottom": null,
            "display": null,
            "flex": null,
            "flex_flow": null,
            "grid_area": null,
            "grid_auto_columns": null,
            "grid_auto_flow": null,
            "grid_auto_rows": null,
            "grid_column": null,
            "grid_gap": null,
            "grid_row": null,
            "grid_template_areas": null,
            "grid_template_columns": null,
            "grid_template_rows": null,
            "height": null,
            "justify_content": null,
            "justify_items": null,
            "left": null,
            "margin": null,
            "max_height": null,
            "max_width": null,
            "min_height": null,
            "min_width": null,
            "object_fit": null,
            "object_position": null,
            "order": null,
            "overflow": null,
            "overflow_x": null,
            "overflow_y": null,
            "padding": null,
            "right": null,
            "top": null,
            "visibility": null,
            "width": null
          }
        },
        "c6037a2ec5aa447f9978863007135d04": {
          "model_module": "@jupyter-widgets/output",
          "model_name": "OutputModel",
          "model_module_version": "1.0.0",
          "state": {
            "_dom_classes": [],
            "_model_module": "@jupyter-widgets/output",
            "_model_module_version": "1.0.0",
            "_model_name": "OutputModel",
            "_view_count": null,
            "_view_module": "@jupyter-widgets/output",
            "_view_module_version": "1.0.0",
            "_view_name": "OutputView",
            "layout": "IPY_MODEL_8132311c48da4eab9238021c2bddc45c",
            "msg_id": "",
            "outputs": [
              {
                "output_type": "display_data",
                "data": {
                  "text/plain": "Sampling chain 1, 0 divergences \u001b[32m━━━━━━━━━━━━━━━━━━━━━━━━━━━━━━━━━━━━━━━━\u001b[0m \u001b[35m100%\u001b[0m \u001b[36m0:00:00\u001b[0m / \u001b[33m0:00:03\u001b[0m\n",
                  "text/html": "<pre style=\"white-space:pre;overflow-x:auto;line-height:normal;font-family:Menlo,'DejaVu Sans Mono',consolas,'Courier New',monospace\">Sampling chain 1, 0 divergences <span style=\"color: #008000; text-decoration-color: #008000\">━━━━━━━━━━━━━━━━━━━━━━━━━━━━━━━━━━━━━━━━</span> <span style=\"color: #800080; text-decoration-color: #800080\">100%</span> <span style=\"color: #008080; text-decoration-color: #008080\">0:00:00</span> / <span style=\"color: #808000; text-decoration-color: #808000\">0:00:03</span>\n</pre>\n"
                },
                "metadata": {}
              }
            ]
          }
        },
        "8132311c48da4eab9238021c2bddc45c": {
          "model_module": "@jupyter-widgets/base",
          "model_name": "LayoutModel",
          "model_module_version": "1.2.0",
          "state": {
            "_model_module": "@jupyter-widgets/base",
            "_model_module_version": "1.2.0",
            "_model_name": "LayoutModel",
            "_view_count": null,
            "_view_module": "@jupyter-widgets/base",
            "_view_module_version": "1.2.0",
            "_view_name": "LayoutView",
            "align_content": null,
            "align_items": null,
            "align_self": null,
            "border": null,
            "bottom": null,
            "display": null,
            "flex": null,
            "flex_flow": null,
            "grid_area": null,
            "grid_auto_columns": null,
            "grid_auto_flow": null,
            "grid_auto_rows": null,
            "grid_column": null,
            "grid_gap": null,
            "grid_row": null,
            "grid_template_areas": null,
            "grid_template_columns": null,
            "grid_template_rows": null,
            "height": null,
            "justify_content": null,
            "justify_items": null,
            "left": null,
            "margin": null,
            "max_height": null,
            "max_width": null,
            "min_height": null,
            "min_width": null,
            "object_fit": null,
            "object_position": null,
            "order": null,
            "overflow": null,
            "overflow_x": null,
            "overflow_y": null,
            "padding": null,
            "right": null,
            "top": null,
            "visibility": null,
            "width": null
          }
        },
        "e03c7967ddab4ec18d0a1a212bfa6977": {
          "model_module": "@jupyter-widgets/output",
          "model_name": "OutputModel",
          "model_module_version": "1.0.0",
          "state": {
            "_dom_classes": [],
            "_model_module": "@jupyter-widgets/output",
            "_model_module_version": "1.0.0",
            "_model_name": "OutputModel",
            "_view_count": null,
            "_view_module": "@jupyter-widgets/output",
            "_view_module_version": "1.0.0",
            "_view_name": "OutputView",
            "layout": "IPY_MODEL_2359c58f49e14db6a00e2d71f5c45021",
            "msg_id": "",
            "outputs": [
              {
                "output_type": "display_data",
                "data": {
                  "text/plain": "Sampling chain 0, 0 divergences \u001b[32m━━━━━━━━━━━━━━━━━━━━━━━━━━━━━━━━━━━━━━━━\u001b[0m \u001b[35m100%\u001b[0m \u001b[36m0:00:00\u001b[0m / \u001b[33m0:02:19\u001b[0m\n",
                  "text/html": "<pre style=\"white-space:pre;overflow-x:auto;line-height:normal;font-family:Menlo,'DejaVu Sans Mono',consolas,'Courier New',monospace\">Sampling chain 0, 0 divergences <span style=\"color: #008000; text-decoration-color: #008000\">━━━━━━━━━━━━━━━━━━━━━━━━━━━━━━━━━━━━━━━━</span> <span style=\"color: #800080; text-decoration-color: #800080\">100%</span> <span style=\"color: #008080; text-decoration-color: #008080\">0:00:00</span> / <span style=\"color: #808000; text-decoration-color: #808000\">0:02:19</span>\n</pre>\n"
                },
                "metadata": {}
              }
            ]
          }
        },
        "2359c58f49e14db6a00e2d71f5c45021": {
          "model_module": "@jupyter-widgets/base",
          "model_name": "LayoutModel",
          "model_module_version": "1.2.0",
          "state": {
            "_model_module": "@jupyter-widgets/base",
            "_model_module_version": "1.2.0",
            "_model_name": "LayoutModel",
            "_view_count": null,
            "_view_module": "@jupyter-widgets/base",
            "_view_module_version": "1.2.0",
            "_view_name": "LayoutView",
            "align_content": null,
            "align_items": null,
            "align_self": null,
            "border": null,
            "bottom": null,
            "display": null,
            "flex": null,
            "flex_flow": null,
            "grid_area": null,
            "grid_auto_columns": null,
            "grid_auto_flow": null,
            "grid_auto_rows": null,
            "grid_column": null,
            "grid_gap": null,
            "grid_row": null,
            "grid_template_areas": null,
            "grid_template_columns": null,
            "grid_template_rows": null,
            "height": null,
            "justify_content": null,
            "justify_items": null,
            "left": null,
            "margin": null,
            "max_height": null,
            "max_width": null,
            "min_height": null,
            "min_width": null,
            "object_fit": null,
            "object_position": null,
            "order": null,
            "overflow": null,
            "overflow_x": null,
            "overflow_y": null,
            "padding": null,
            "right": null,
            "top": null,
            "visibility": null,
            "width": null
          }
        },
        "9d96cc08928b4c679871ae17df5cea50": {
          "model_module": "@jupyter-widgets/output",
          "model_name": "OutputModel",
          "model_module_version": "1.0.0",
          "state": {
            "_dom_classes": [],
            "_model_module": "@jupyter-widgets/output",
            "_model_module_version": "1.0.0",
            "_model_name": "OutputModel",
            "_view_count": null,
            "_view_module": "@jupyter-widgets/output",
            "_view_module_version": "1.0.0",
            "_view_name": "OutputView",
            "layout": "IPY_MODEL_c938b2f50cd54abb91e3c8d576dacfb3",
            "msg_id": "",
            "outputs": [
              {
                "output_type": "display_data",
                "data": {
                  "text/plain": "Sampling chain 1, 0 divergences \u001b[32m━━━━━━━━━━━━━━━━━━━━━━━━━━━━━━━━━━━━━━━━\u001b[0m \u001b[35m100%\u001b[0m \u001b[36m0:00:00\u001b[0m / \u001b[33m0:02:13\u001b[0m\n",
                  "text/html": "<pre style=\"white-space:pre;overflow-x:auto;line-height:normal;font-family:Menlo,'DejaVu Sans Mono',consolas,'Courier New',monospace\">Sampling chain 1, 0 divergences <span style=\"color: #008000; text-decoration-color: #008000\">━━━━━━━━━━━━━━━━━━━━━━━━━━━━━━━━━━━━━━━━</span> <span style=\"color: #800080; text-decoration-color: #800080\">100%</span> <span style=\"color: #008080; text-decoration-color: #008080\">0:00:00</span> / <span style=\"color: #808000; text-decoration-color: #808000\">0:02:13</span>\n</pre>\n"
                },
                "metadata": {}
              }
            ]
          }
        },
        "c938b2f50cd54abb91e3c8d576dacfb3": {
          "model_module": "@jupyter-widgets/base",
          "model_name": "LayoutModel",
          "model_module_version": "1.2.0",
          "state": {
            "_model_module": "@jupyter-widgets/base",
            "_model_module_version": "1.2.0",
            "_model_name": "LayoutModel",
            "_view_count": null,
            "_view_module": "@jupyter-widgets/base",
            "_view_module_version": "1.2.0",
            "_view_name": "LayoutView",
            "align_content": null,
            "align_items": null,
            "align_self": null,
            "border": null,
            "bottom": null,
            "display": null,
            "flex": null,
            "flex_flow": null,
            "grid_area": null,
            "grid_auto_columns": null,
            "grid_auto_flow": null,
            "grid_auto_rows": null,
            "grid_column": null,
            "grid_gap": null,
            "grid_row": null,
            "grid_template_areas": null,
            "grid_template_columns": null,
            "grid_template_rows": null,
            "height": null,
            "justify_content": null,
            "justify_items": null,
            "left": null,
            "margin": null,
            "max_height": null,
            "max_width": null,
            "min_height": null,
            "min_width": null,
            "object_fit": null,
            "object_position": null,
            "order": null,
            "overflow": null,
            "overflow_x": null,
            "overflow_y": null,
            "padding": null,
            "right": null,
            "top": null,
            "visibility": null,
            "width": null
          }
        }
      }
    }
  },
  "cells": [
    {
      "cell_type": "code",
      "source": [
        "#1\n",
        "import pandas as pd\n",
        "import numpy as np\n",
        "import pymc as pm\n",
        "import arviz as az\n",
        "import matplotlib.pyplot as plt\n",
        "\n",
        "data = pd.read_csv(\"date_alegeri_turul2.csv\")\n",
        "\n",
        "varsta = data[\"Varsta\"].values\n",
        "gender = data[\"Sex\"].values\n",
        "educatie = data[\"Educatie\"].values\n",
        "venit = data[\"Venit\"].values\n",
        "y_vot = data[\"Vot\"].values\n",
        "\n",
        "with pm.Model() as model:\n",
        "    beta0 = pm.Normal(\"beta0\", mu=0, sigma=10)\n",
        "    beta1 = pm.Normal(\"beta1\", mu=0, sigma=10)\n",
        "    beta2 = pm.Normal(\"beta2\", mu=0, sigma=10)\n",
        "    beta3 = pm.Normal(\"beta3\", mu=0, sigma=10)\n",
        "    beta4 = pm.Normal(\"beta4\", mu=0, sigma=10)\n",
        "\n",
        "    mu = beta0 + beta1 * varsta + beta2 * gender + beta3 * educatie + beta4 * venit\n",
        "    y_obs = pm.Bernoulli(\"y_obs\", p=pm.math.sigmoid(mu), observed=y_vot)\n",
        "\n",
        "\n",
        "    trace = pm.sample(2000, tune=1000, idata_kwargs={\"log_likelihood\": True})\n",
        "\n",
        "    waic2 = az.waic(trace)\n",
        "    loo2 = az.loo(trace)\n",
        "    print(\"WAIC:\", waic2)\n",
        "    print(\"LOO:\", loo2)\n",
        "\n",
        "    summary = az.summary(trace)\n",
        "    print(summary)\n",
        "\n",
        "    #(b) din summary putem vedea ca media cea mai mare este asociata lui beta1 si beta4, adica varsta si venitul vor variabilele care influenteaza cel mai mult rezultatul"
      ],
      "metadata": {
        "colab": {
          "base_uri": "https://localhost:8080/",
          "height": 612,
          "referenced_widgets": [
            "7ae938f991b34245ac5ea92e7583f5e4",
            "4e1d2596ef3c4406bada62edae6990a9",
            "6e6a0fe1bb09452a94a5fed6a6fa2ff3",
            "028e56b275c44cc68b6d554322f2da17"
          ]
        },
        "id": "KMiCgrJr25ZE",
        "outputId": "6f76f5eb-f2bb-471b-9d71-8e1a705602ab"
      },
      "execution_count": 16,
      "outputs": [
        {
          "output_type": "display_data",
          "data": {
            "text/plain": [
              "Output()"
            ],
            "application/vnd.jupyter.widget-view+json": {
              "version_major": 2,
              "version_minor": 0,
              "model_id": "7ae938f991b34245ac5ea92e7583f5e4"
            }
          },
          "metadata": {}
        },
        {
          "output_type": "display_data",
          "data": {
            "text/plain": [],
            "text/html": [
              "<pre style=\"white-space:pre;overflow-x:auto;line-height:normal;font-family:Menlo,'DejaVu Sans Mono',consolas,'Courier New',monospace\"></pre>\n"
            ]
          },
          "metadata": {}
        },
        {
          "output_type": "display_data",
          "data": {
            "text/plain": [
              "Output()"
            ],
            "application/vnd.jupyter.widget-view+json": {
              "version_major": 2,
              "version_minor": 0,
              "model_id": "6e6a0fe1bb09452a94a5fed6a6fa2ff3"
            }
          },
          "metadata": {}
        },
        {
          "output_type": "display_data",
          "data": {
            "text/plain": [],
            "text/html": [
              "<pre style=\"white-space:pre;overflow-x:auto;line-height:normal;font-family:Menlo,'DejaVu Sans Mono',consolas,'Courier New',monospace\"></pre>\n"
            ]
          },
          "metadata": {}
        },
        {
          "output_type": "stream",
          "name": "stdout",
          "text": [
            "WAIC: Computed from 4000 posterior samples and 500 observations log-likelihood matrix.\n",
            "\n",
            "          Estimate       SE\n",
            "elpd_waic  -211.78    12.76\n",
            "p_waic        4.92        -\n",
            "LOO: Computed from 4000 posterior samples and 500 observations log-likelihood matrix.\n",
            "\n",
            "         Estimate       SE\n",
            "elpd_loo  -211.79    12.77\n",
            "p_loo        4.93        -\n",
            "------\n",
            "\n",
            "Pareto k diagnostic values:\n",
            "                         Count   Pct.\n",
            "(-Inf, 0.70]   (good)      500  100.0%\n",
            "   (0.70, 1]   (bad)         0    0.0%\n",
            "   (1, Inf)   (very bad)    0    0.0%\n",
            "\n",
            "        mean     sd  hdi_3%  hdi_97%  mcse_mean  mcse_sd  ess_bulk  ess_tail  \\\n",
            "beta0 -2.718  0.688  -4.039   -1.443      0.016    0.011    1821.0    2091.0   \n",
            "beta1  0.030  0.013   0.005    0.054      0.000    0.000    2225.0    2230.0   \n",
            "beta2 -0.852  0.251  -1.305   -0.379      0.004    0.003    3702.0    2734.0   \n",
            "beta3  0.617  0.164   0.306    0.917      0.003    0.002    3215.0    2577.0   \n",
            "beta4  0.498  0.071   0.363    0.629      0.001    0.001    2677.0    2415.0   \n",
            "\n",
            "       r_hat  \n",
            "beta0    1.0  \n",
            "beta1    1.0  \n",
            "beta2    1.0  \n",
            "beta3    1.0  \n",
            "beta4    1.0  \n"
          ]
        }
      ]
    },
    {
      "cell_type": "code",
      "source": [
        "#1 (c)\n",
        "import pandas as pd\n",
        "import numpy as np\n",
        "import pymc as pm\n",
        "import arviz as az\n",
        "import matplotlib.pyplot as plt\n",
        "\n",
        "data = pd.read_csv(\"date_alegeri_turul2.csv\")\n",
        "\n",
        "varsta = data[\"Varsta\"].values\n",
        "venit = data[\"Venit\"].values\n",
        "y_vot = data[\"Vot\"].values\n",
        "\n",
        "#vizualizare initiala date\n",
        "plt.scatter(varsta[y_vot==1], varsta[y_vot==1], color='yellow', label='Candidat A')\n",
        "plt.scatter(varsta[y_vot==0], varsta[y_vot==0], color='purple', label='Candidat B')\n",
        "plt.xlabel(\"Varsta\")\n",
        "plt.ylabel(\"Venit\")\n",
        "plt.title(\"Votare\")\n",
        "plt.legend()\n",
        "plt.grid(True)\n",
        "plt.show()\n",
        "\n",
        "#standardizare date\n",
        "medie_varsta_data, std_varsta_data = varsta.mean(axis=0), varsta.std(axis=0)\n",
        "medie_venit_data, std_venit_data = venit.mean(axis=0), venit.std(axis=0)\n",
        "\n",
        "varsta_data_st = (varsta - medie_varsta_data) / std_varsta_data #xi1\n",
        "venit_data_st = (venit - medie_venit_data) / std_venit_data #xi2\n",
        "\n",
        "with pm.Model() as model:\n",
        "    beta0 = pm.Normal(\"beta0\", mu=0, sigma=10)\n",
        "    beta1 = pm.Normal(\"beta1\", mu=0, sigma=10)\n",
        "    beta2 = pm.Normal(\"beta2\", mu=0, sigma=10)\n",
        "\n",
        "    μ = beta0 + beta1 * varsta_data_st + beta2 * venit_data_st\n",
        "    θ = pm.Deterministic('μ', pm.math.sigmoid(μ)) #pi = logistic(β0 + β1xi1 + β2xi2),\n",
        "\n",
        "    y_obs = pm.Bernoulli(\"y_obs\", p=θ, observed=y_vot)\n",
        "    trace2 = pm.sample(2000, tune=1000, target_accept=0.9, idata_kwargs={\"log_likelihood\": True})\n",
        "    idata2 = az.from_pymc(trace2)\n",
        "    waic2 = az.waic(trace2)\n",
        "    loo2 = az.loo(trace2)\n",
        "    print(\"WAIC:\", waic2)\n",
        "    print(\"LOO:\", loo2)\n",
        "\n",
        "# esantioanele posterioare\n",
        "esantion_beta0 = trace2.posterior[\"beta0\"].values.flatten()\n",
        "esantion_beta1 = trace2.posterior[\"beta1\"].values.flatten()\n",
        "esantion_beta2 = trace2.posterior[\"beta2\"].values.flatten()\n",
        "\n",
        "# (b)\n",
        "varsta_values = np.linspace(varsta.min(), varsta.max(), 100)\n",
        "varsta_values_st = (varsta - medie_varsta_data) / std_varsta_data\n",
        "\n",
        "frontiere = []\n",
        "for b0, b1, b2 in zip(esantion_beta0, esantion_beta1, esantion_beta2):\n",
        "    frontiera_venit_st = -(b0 + b1 * varsta_values_st) / b2\n",
        "    frontiera_venit = frontiera_venit_st * std_venit_data + medie_venit_data\n",
        "    frontiere.append(frontiera_venit)\n",
        "frontiere = np.array(frontiere)\n",
        "\n",
        "frontiera_medie = np.mean(frontiere, axis=0)\n",
        "interval_hdi = az.hdi(frontiere, hdi_prob=0.94)\n",
        "\n",
        "\n",
        "plt.scatter(varsta, venit, c=y_vot)\n",
        "plt.plot(varsta, frontiera_medie, color='k')\n",
        "plt.fill_between(varsta, interval_hdi[:, 0], interval_hdi[:, 1], color='k', alpha=0.2)\n",
        "plt.xlabel(\"Varsta\")\n",
        "plt.ylabel(\"Venit\")\n",
        "plt.title(\"Votare\")\n",
        "plt.grid(True)\n",
        "plt.show()\n",
        "\n",
        "idata1 = az.from_pymc(trace)\n",
        "comparison = az.compare({\"Model 1\": idata1, \"Model 2\": idata2}, ic=\"waic\")\n",
        "print(comparison)\n",
        "\n",
        "az.plot_compare(comparison)\n",
        "plt.show()"
      ],
      "metadata": {
        "colab": {
          "base_uri": "https://localhost:8080/",
          "height": 706,
          "referenced_widgets": [
            "74b499acbd3542c2887f29a962ad8314",
            "0e05ef24efa04824bbc7ff668c2b57c3",
            "c6037a2ec5aa447f9978863007135d04",
            "8132311c48da4eab9238021c2bddc45c"
          ]
        },
        "id": "tieichqP6o89",
        "outputId": "a43bf43f-6a1d-4ebe-bf03-c398cb28ceae"
      },
      "execution_count": 20,
      "outputs": [
        {
          "output_type": "display_data",
          "data": {
            "text/plain": [
              "<Figure size 640x480 with 1 Axes>"
            ],
            "image/png": "[encoded data removed]"
          },
          "metadata": {}
        },
        {
          "output_type": "display_data",
          "data": {
            "text/plain": [
              "Output()"
            ],
            "application/vnd.jupyter.widget-view+json": {
              "version_major": 2,
              "version_minor": 0,
              "model_id": "74b499acbd3542c2887f29a962ad8314"
            }
          },
          "metadata": {}
        },
        {
          "output_type": "display_data",
          "data": {
            "text/plain": [],
            "text/html": [
              "<pre style=\"white-space:pre;overflow-x:auto;line-height:normal;font-family:Menlo,'DejaVu Sans Mono',consolas,'Courier New',monospace\"></pre>\n"
            ]
          },
          "metadata": {}
        },
        {
          "output_type": "display_data",
          "data": {
            "text/plain": [
              "Output()"
            ],
            "application/vnd.jupyter.widget-view+json": {
              "version_major": 2,
              "version_minor": 0,
              "model_id": "c6037a2ec5aa447f9978863007135d04"
            }
          },
          "metadata": {}
        },
        {
          "output_type": "display_data",
          "data": {
            "text/plain": [],
            "text/html": [
              "<pre style=\"white-space:pre;overflow-x:auto;line-height:normal;font-family:Menlo,'DejaVu Sans Mono',consolas,'Courier New',monospace\"></pre>\n"
            ]
          },
          "metadata": {}
        },
        {
          "output_type": "error",
          "ename": "AttributeError",
          "evalue": "module 'arviz' has no attribute 'from_pymc'",
          "traceback": [
            "\u001b[0;31m---------------------------------------------------------------------------\u001b[0m",
            "\u001b[0;31mAttributeError\u001b[0m                            Traceback (most recent call last)",
            "\u001b[0;32m<ipython-input-20-9f4d9ad25ea6>\u001b[0m in \u001b[0;36m<cell line: 0>\u001b[0;34m()\u001b[0m\n\u001b[1;32m     39\u001b[0m     \u001b[0my_obs\u001b[0m \u001b[0;34m=\u001b[0m \u001b[0mpm\u001b[0m\u001b[0;34m.\u001b[0m\u001b[0mBernoulli\u001b[0m\u001b[0;34m(\u001b[0m\u001b[0;34m\"y_obs\"\u001b[0m\u001b[0;34m,\u001b[0m \u001b[0mp\u001b[0m\u001b[0;34m=\u001b[0m\u001b[0mθ\u001b[0m\u001b[0;34m,\u001b[0m \u001b[0mobserved\u001b[0m\u001b[0;34m=\u001b[0m\u001b[0my_vot\u001b[0m\u001b[0;34m)\u001b[0m\u001b[0;34m\u001b[0m\u001b[0;34m\u001b[0m\u001b[0m\n\u001b[1;32m     40\u001b[0m     \u001b[0mtrace2\u001b[0m \u001b[0;34m=\u001b[0m \u001b[0mpm\u001b[0m\u001b[0;34m.\u001b[0m\u001b[0msample\u001b[0m\u001b[0;34m(\u001b[0m\u001b[0;36m2000\u001b[0m\u001b[0;34m,\u001b[0m \u001b[0mtune\u001b[0m\u001b[0;34m=\u001b[0m\u001b[0;36m1000\u001b[0m\u001b[0;34m,\u001b[0m \u001b[0mtarget_accept\u001b[0m\u001b[0;34m=\u001b[0m\u001b[0;36m0.9\u001b[0m\u001b[0;34m,\u001b[0m \u001b[0midata_kwargs\u001b[0m\u001b[0;34m=\u001b[0m\u001b[0;34m{\u001b[0m\u001b[0;34m\"log_likelihood\"\u001b[0m\u001b[0;34m:\u001b[0m \u001b[0;32mTrue\u001b[0m\u001b[0;34m}\u001b[0m\u001b[0;34m)\u001b[0m\u001b[0;34m\u001b[0m\u001b[0;34m\u001b[0m\u001b[0m\n\u001b[0;32m---> 41\u001b[0;31m     \u001b[0midata2\u001b[0m \u001b[0;34m=\u001b[0m \u001b[0maz\u001b[0m\u001b[0;34m.\u001b[0m\u001b[0mfrom_pymc\u001b[0m\u001b[0;34m(\u001b[0m\u001b[0mtrace2\u001b[0m\u001b[0;34m)\u001b[0m\u001b[0;34m\u001b[0m\u001b[0;34m\u001b[0m\u001b[0m\n\u001b[0m\u001b[1;32m     42\u001b[0m     \u001b[0mwaic2\u001b[0m \u001b[0;34m=\u001b[0m \u001b[0maz\u001b[0m\u001b[0;34m.\u001b[0m\u001b[0mwaic\u001b[0m\u001b[0;34m(\u001b[0m\u001b[0mtrace2\u001b[0m\u001b[0;34m)\u001b[0m\u001b[0;34m\u001b[0m\u001b[0;34m\u001b[0m\u001b[0m\n\u001b[1;32m     43\u001b[0m     \u001b[0mloo2\u001b[0m \u001b[0;34m=\u001b[0m \u001b[0maz\u001b[0m\u001b[0;34m.\u001b[0m\u001b[0mloo\u001b[0m\u001b[0;34m(\u001b[0m\u001b[0mtrace2\u001b[0m\u001b[0;34m)\u001b[0m\u001b[0;34m\u001b[0m\u001b[0;34m\u001b[0m\u001b[0m\n",
            "\u001b[0;31mAttributeError\u001b[0m: module 'arviz' has no attribute 'from_pymc'"
          ]
        }
      ]
    },
    {
      "cell_type": "code",
      "source": [
        "#2\n",
        "import pymc as pm\n",
        "import numpy as np\n",
        "import pandas as pd\n",
        "\n",
        "data = pd.read_csv(\"iris.csv\")\n",
        "\n",
        "sepal_length = data[\"sepal_length\"].values\n",
        "sepal_width = data[\"sepal_width\"].values\n",
        "petal_length = data[\"petal_length\"].values\n",
        "caracteristici = np.stack([sepal_length, sepal_width, petal_length], axis=1)\n",
        "\n",
        "with pm.Model() as model:\n",
        "\n",
        "    mu = pm.Normal('mu', mu=0, sigma=10, shape=(3, 3))\n",
        "    sigma = pm.HalfNormal('sigma', sigma=10, shape=(3, 3))\n",
        "\n",
        "\n",
        "    cluster = pm.Categorical('cluster', p=np.ones(3)/3, shape=len(caracteristici))\n",
        "\n",
        "\n",
        "    for i, feature_name in enumerate(['sepal_length', 'sepal_width', 'petal_length']):\n",
        "        pm.Normal(f\"{feature_name}_obs\",\n",
        "                  mu=mu[cluster, i],\n",
        "                  sigma=sigma[cluster, i],\n",
        "                  observed=caracteristici[:, i])\n",
        "\n",
        "\n",
        "    trace = pm.sample(2000, tune=1000, return_inferencedata=True)\n",
        "\n",
        "summary = pm.summary(trace)\n",
        "print(summary)\n"
      ],
      "metadata": {
        "colab": {
          "base_uri": "https://localhost:8080/",
          "height": 1000,
          "referenced_widgets": [
            "e03c7967ddab4ec18d0a1a212bfa6977",
            "2359c58f49e14db6a00e2d71f5c45021",
            "9d96cc08928b4c679871ae17df5cea50",
            "c938b2f50cd54abb91e3c8d576dacfb3"
          ]
        },
        "id": "TlHJy7Tf2AYy",
        "outputId": "aba982ca-b9e2-42e1-de2e-75bc52ce92ed"
      },
      "execution_count": 1,
      "outputs": [
        {
          "output_type": "display_data",
          "data": {
            "text/plain": [
              "Output()"
            ],
            "application/vnd.jupyter.widget-view+json": {
              "version_major": 2,
              "version_minor": 0,
              "model_id": "e03c7967ddab4ec18d0a1a212bfa6977"
            }
          },
          "metadata": {}
        },
        {
          "output_type": "display_data",
          "data": {
            "text/plain": [],
            "text/html": [
              "<pre style=\"white-space:pre;overflow-x:auto;line-height:normal;font-family:Menlo,'DejaVu Sans Mono',consolas,'Courier New',monospace\"></pre>\n"
            ]
          },
          "metadata": {}
        },
        {
          "output_type": "display_data",
          "data": {
            "text/plain": [
              "Output()"
            ],
            "application/vnd.jupyter.widget-view+json": {
              "version_major": 2,
              "version_minor": 0,
              "model_id": "9d96cc08928b4c679871ae17df5cea50"
            }
          },
          "metadata": {}
        },
        {
          "output_type": "display_data",
          "data": {
            "text/plain": [],
            "text/html": [
              "<pre style=\"white-space:pre;overflow-x:auto;line-height:normal;font-family:Menlo,'DejaVu Sans Mono',consolas,'Courier New',monospace\"></pre>\n"
            ]
          },
          "metadata": {}
        },
        {
          "output_type": "stream",
          "name": "stderr",
          "text": [
            "/usr/local/lib/python3.11/dist-packages/arviz/stats/diagnostics.py:596: RuntimeWarning: invalid value encountered in scalar divide\n",
            "  (between_chain_variance / within_chain_variance + num_samples - 1) / (num_samples)\n",
            "ERROR:pymc.stats.convergence:The effective sample size per chain is smaller than 100 for some parameters.  A higher number is needed for reliable rhat and ess computation. See https://arxiv.org/abs/1903.08008 for details\n",
            "/usr/local/lib/python3.11/dist-packages/arviz/stats/diagnostics.py:596: RuntimeWarning: invalid value encountered in scalar divide\n",
            "  (between_chain_variance / within_chain_variance + num_samples - 1) / (num_samples)\n",
            "/usr/local/lib/python3.11/dist-packages/arviz/stats/diagnostics.py:596: RuntimeWarning: invalid value encountered in scalar divide\n",
            "  (between_chain_variance / within_chain_variance + num_samples - 1) / (num_samples)\n",
            "/usr/local/lib/python3.11/dist-packages/arviz/stats/diagnostics.py:596: RuntimeWarning: invalid value encountered in scalar divide\n",
            "  (between_chain_variance / within_chain_variance + num_samples - 1) / (num_samples)\n",
            "/usr/local/lib/python3.11/dist-packages/arviz/stats/diagnostics.py:596: RuntimeWarning: invalid value encountered in scalar divide\n",
            "  (between_chain_variance / within_chain_variance + num_samples - 1) / (num_samples)\n",
            "/usr/local/lib/python3.11/dist-packages/arviz/stats/diagnostics.py:596: RuntimeWarning: invalid value encountered in scalar divide\n",
            "  (between_chain_variance / within_chain_variance + num_samples - 1) / (num_samples)\n",
            "/usr/local/lib/python3.11/dist-packages/arviz/stats/diagnostics.py:596: RuntimeWarning: invalid value encountered in scalar divide\n",
            "  (between_chain_variance / within_chain_variance + num_samples - 1) / (num_samples)\n",
            "/usr/local/lib/python3.11/dist-packages/arviz/stats/diagnostics.py:596: RuntimeWarning: invalid value encountered in scalar divide\n",
            "  (between_chain_variance / within_chain_variance + num_samples - 1) / (num_samples)\n",
            "/usr/local/lib/python3.11/dist-packages/arviz/stats/diagnostics.py:596: RuntimeWarning: invalid value encountered in scalar divide\n",
            "  (between_chain_variance / within_chain_variance + num_samples - 1) / (num_samples)\n",
            "/usr/local/lib/python3.11/dist-packages/arviz/stats/diagnostics.py:596: RuntimeWarning: invalid value encountered in scalar divide\n",
            "  (between_chain_variance / within_chain_variance + num_samples - 1) / (num_samples)\n",
            "/usr/local/lib/python3.11/dist-packages/arviz/stats/diagnostics.py:596: RuntimeWarning: invalid value encountered in scalar divide\n",
            "  (between_chain_variance / within_chain_variance + num_samples - 1) / (num_samples)\n",
            "/usr/local/lib/python3.11/dist-packages/arviz/stats/diagnostics.py:596: RuntimeWarning: invalid value encountered in scalar divide\n",
            "  (between_chain_variance / within_chain_variance + num_samples - 1) / (num_samples)\n",
            "/usr/local/lib/python3.11/dist-packages/arviz/stats/diagnostics.py:596: RuntimeWarning: invalid value encountered in scalar divide\n",
            "  (between_chain_variance / within_chain_variance + num_samples - 1) / (num_samples)\n",
            "/usr/local/lib/python3.11/dist-packages/arviz/stats/diagnostics.py:596: RuntimeWarning: invalid value encountered in scalar divide\n",
            "  (between_chain_variance / within_chain_variance + num_samples - 1) / (num_samples)\n",
            "/usr/local/lib/python3.11/dist-packages/arviz/stats/diagnostics.py:596: RuntimeWarning: invalid value encountered in scalar divide\n",
            "  (between_chain_variance / within_chain_variance + num_samples - 1) / (num_samples)\n",
            "/usr/local/lib/python3.11/dist-packages/arviz/stats/diagnostics.py:596: RuntimeWarning: invalid value encountered in scalar divide\n",
            "  (between_chain_variance / within_chain_variance + num_samples - 1) / (num_samples)\n",
            "/usr/local/lib/python3.11/dist-packages/arviz/stats/diagnostics.py:596: RuntimeWarning: invalid value encountered in scalar divide\n",
            "  (between_chain_variance / within_chain_variance + num_samples - 1) / (num_samples)\n",
            "/usr/local/lib/python3.11/dist-packages/arviz/stats/diagnostics.py:596: RuntimeWarning: invalid value encountered in scalar divide\n",
            "  (between_chain_variance / within_chain_variance + num_samples - 1) / (num_samples)\n",
            "/usr/local/lib/python3.11/dist-packages/arviz/stats/diagnostics.py:596: RuntimeWarning: invalid value encountered in scalar divide\n",
            "  (between_chain_variance / within_chain_variance + num_samples - 1) / (num_samples)\n",
            "/usr/local/lib/python3.11/dist-packages/arviz/stats/diagnostics.py:596: RuntimeWarning: invalid value encountered in scalar divide\n",
            "  (between_chain_variance / within_chain_variance + num_samples - 1) / (num_samples)\n",
            "/usr/local/lib/python3.11/dist-packages/arviz/stats/diagnostics.py:596: RuntimeWarning: invalid value encountered in scalar divide\n",
            "  (between_chain_variance / within_chain_variance + num_samples - 1) / (num_samples)\n",
            "/usr/local/lib/python3.11/dist-packages/arviz/stats/diagnostics.py:596: RuntimeWarning: invalid value encountered in scalar divide\n",
            "  (between_chain_variance / within_chain_variance + num_samples - 1) / (num_samples)\n",
            "/usr/local/lib/python3.11/dist-packages/arviz/stats/diagnostics.py:596: RuntimeWarning: invalid value encountered in scalar divide\n",
            "  (between_chain_variance / within_chain_variance + num_samples - 1) / (num_samples)\n",
            "/usr/local/lib/python3.11/dist-packages/arviz/stats/diagnostics.py:596: RuntimeWarning: invalid value encountered in scalar divide\n",
            "  (between_chain_variance / within_chain_variance + num_samples - 1) / (num_samples)\n",
            "/usr/local/lib/python3.11/dist-packages/arviz/stats/diagnostics.py:596: RuntimeWarning: invalid value encountered in scalar divide\n",
            "  (between_chain_variance / within_chain_variance + num_samples - 1) / (num_samples)\n",
            "/usr/local/lib/python3.11/dist-packages/arviz/stats/diagnostics.py:596: RuntimeWarning: invalid value encountered in scalar divide\n",
            "  (between_chain_variance / within_chain_variance + num_samples - 1) / (num_samples)\n",
            "/usr/local/lib/python3.11/dist-packages/arviz/stats/diagnostics.py:596: RuntimeWarning: invalid value encountered in scalar divide\n",
            "  (between_chain_variance / within_chain_variance + num_samples - 1) / (num_samples)\n",
            "/usr/local/lib/python3.11/dist-packages/arviz/stats/diagnostics.py:596: RuntimeWarning: invalid value encountered in scalar divide\n",
            "  (between_chain_variance / within_chain_variance + num_samples - 1) / (num_samples)\n",
            "/usr/local/lib/python3.11/dist-packages/arviz/stats/diagnostics.py:596: RuntimeWarning: invalid value encountered in scalar divide\n",
            "  (between_chain_variance / within_chain_variance + num_samples - 1) / (num_samples)\n",
            "/usr/local/lib/python3.11/dist-packages/arviz/stats/diagnostics.py:596: RuntimeWarning: invalid value encountered in scalar divide\n",
            "  (between_chain_variance / within_chain_variance + num_samples - 1) / (num_samples)\n",
            "/usr/local/lib/python3.11/dist-packages/arviz/stats/diagnostics.py:596: RuntimeWarning: invalid value encountered in scalar divide\n",
            "  (between_chain_variance / within_chain_variance + num_samples - 1) / (num_samples)\n",
            "/usr/local/lib/python3.11/dist-packages/arviz/stats/diagnostics.py:596: RuntimeWarning: invalid value encountered in scalar divide\n",
            "  (between_chain_variance / within_chain_variance + num_samples - 1) / (num_samples)\n",
            "/usr/local/lib/python3.11/dist-packages/arviz/stats/diagnostics.py:596: RuntimeWarning: invalid value encountered in scalar divide\n",
            "  (between_chain_variance / within_chain_variance + num_samples - 1) / (num_samples)\n",
            "/usr/local/lib/python3.11/dist-packages/arviz/stats/diagnostics.py:596: RuntimeWarning: invalid value encountered in scalar divide\n",
            "  (between_chain_variance / within_chain_variance + num_samples - 1) / (num_samples)\n",
            "/usr/local/lib/python3.11/dist-packages/arviz/stats/diagnostics.py:596: RuntimeWarning: invalid value encountered in scalar divide\n",
            "  (between_chain_variance / within_chain_variance + num_samples - 1) / (num_samples)\n",
            "/usr/local/lib/python3.11/dist-packages/arviz/stats/diagnostics.py:596: RuntimeWarning: invalid value encountered in scalar divide\n",
            "  (between_chain_variance / within_chain_variance + num_samples - 1) / (num_samples)\n",
            "/usr/local/lib/python3.11/dist-packages/arviz/stats/diagnostics.py:596: RuntimeWarning: invalid value encountered in scalar divide\n",
            "  (between_chain_variance / within_chain_variance + num_samples - 1) / (num_samples)\n",
            "/usr/local/lib/python3.11/dist-packages/arviz/stats/diagnostics.py:596: RuntimeWarning: invalid value encountered in scalar divide\n",
            "  (between_chain_variance / within_chain_variance + num_samples - 1) / (num_samples)\n",
            "/usr/local/lib/python3.11/dist-packages/arviz/stats/diagnostics.py:596: RuntimeWarning: invalid value encountered in scalar divide\n",
            "  (between_chain_variance / within_chain_variance + num_samples - 1) / (num_samples)\n",
            "/usr/local/lib/python3.11/dist-packages/arviz/stats/diagnostics.py:596: RuntimeWarning: invalid value encountered in scalar divide\n",
            "  (between_chain_variance / within_chain_variance + num_samples - 1) / (num_samples)\n",
            "/usr/local/lib/python3.11/dist-packages/arviz/stats/diagnostics.py:596: RuntimeWarning: invalid value encountered in scalar divide\n",
            "  (between_chain_variance / within_chain_variance + num_samples - 1) / (num_samples)\n",
            "/usr/local/lib/python3.11/dist-packages/arviz/stats/diagnostics.py:596: RuntimeWarning: invalid value encountered in scalar divide\n",
            "  (between_chain_variance / within_chain_variance + num_samples - 1) / (num_samples)\n",
            "/usr/local/lib/python3.11/dist-packages/arviz/stats/diagnostics.py:596: RuntimeWarning: invalid value encountered in scalar divide\n",
            "  (between_chain_variance / within_chain_variance + num_samples - 1) / (num_samples)\n",
            "/usr/local/lib/python3.11/dist-packages/arviz/stats/diagnostics.py:596: RuntimeWarning: invalid value encountered in scalar divide\n",
            "  (between_chain_variance / within_chain_variance + num_samples - 1) / (num_samples)\n",
            "/usr/local/lib/python3.11/dist-packages/arviz/stats/diagnostics.py:596: RuntimeWarning: invalid value encountered in scalar divide\n",
            "  (between_chain_variance / within_chain_variance + num_samples - 1) / (num_samples)\n",
            "/usr/local/lib/python3.11/dist-packages/arviz/stats/diagnostics.py:596: RuntimeWarning: invalid value encountered in scalar divide\n",
            "  (between_chain_variance / within_chain_variance + num_samples - 1) / (num_samples)\n",
            "/usr/local/lib/python3.11/dist-packages/arviz/stats/diagnostics.py:596: RuntimeWarning: invalid value encountered in scalar divide\n",
            "  (between_chain_variance / within_chain_variance + num_samples - 1) / (num_samples)\n",
            "/usr/local/lib/python3.11/dist-packages/arviz/stats/diagnostics.py:596: RuntimeWarning: invalid value encountered in scalar divide\n",
            "  (between_chain_variance / within_chain_variance + num_samples - 1) / (num_samples)\n",
            "/usr/local/lib/python3.11/dist-packages/arviz/stats/diagnostics.py:596: RuntimeWarning: invalid value encountered in scalar divide\n",
            "  (between_chain_variance / within_chain_variance + num_samples - 1) / (num_samples)\n",
            "/usr/local/lib/python3.11/dist-packages/arviz/stats/diagnostics.py:596: RuntimeWarning: invalid value encountered in scalar divide\n",
            "  (between_chain_variance / within_chain_variance + num_samples - 1) / (num_samples)\n",
            "/usr/local/lib/python3.11/dist-packages/arviz/stats/diagnostics.py:596: RuntimeWarning: invalid value encountered in scalar divide\n",
            "  (between_chain_variance / within_chain_variance + num_samples - 1) / (num_samples)\n",
            "/usr/local/lib/python3.11/dist-packages/arviz/stats/diagnostics.py:596: RuntimeWarning: invalid value encountered in scalar divide\n",
            "  (between_chain_variance / within_chain_variance + num_samples - 1) / (num_samples)\n",
            "/usr/local/lib/python3.11/dist-packages/arviz/stats/diagnostics.py:596: RuntimeWarning: invalid value encountered in scalar divide\n",
            "  (between_chain_variance / within_chain_variance + num_samples - 1) / (num_samples)\n",
            "/usr/local/lib/python3.11/dist-packages/arviz/stats/diagnostics.py:596: RuntimeWarning: invalid value encountered in scalar divide\n",
            "  (between_chain_variance / within_chain_variance + num_samples - 1) / (num_samples)\n",
            "/usr/local/lib/python3.11/dist-packages/arviz/stats/diagnostics.py:596: RuntimeWarning: invalid value encountered in scalar divide\n",
            "  (between_chain_variance / within_chain_variance + num_samples - 1) / (num_samples)\n",
            "/usr/local/lib/python3.11/dist-packages/arviz/stats/diagnostics.py:596: RuntimeWarning: invalid value encountered in scalar divide\n",
            "  (between_chain_variance / within_chain_variance + num_samples - 1) / (num_samples)\n",
            "/usr/local/lib/python3.11/dist-packages/arviz/stats/diagnostics.py:596: RuntimeWarning: invalid value encountered in scalar divide\n",
            "  (between_chain_variance / within_chain_variance + num_samples - 1) / (num_samples)\n",
            "/usr/local/lib/python3.11/dist-packages/arviz/stats/diagnostics.py:596: RuntimeWarning: invalid value encountered in scalar divide\n",
            "  (between_chain_variance / within_chain_variance + num_samples - 1) / (num_samples)\n",
            "/usr/local/lib/python3.11/dist-packages/arviz/stats/diagnostics.py:596: RuntimeWarning: invalid value encountered in scalar divide\n",
            "  (between_chain_variance / within_chain_variance + num_samples - 1) / (num_samples)\n",
            "/usr/local/lib/python3.11/dist-packages/arviz/stats/diagnostics.py:596: RuntimeWarning: invalid value encountered in scalar divide\n",
            "  (between_chain_variance / within_chain_variance + num_samples - 1) / (num_samples)\n",
            "/usr/local/lib/python3.11/dist-packages/arviz/stats/diagnostics.py:596: RuntimeWarning: invalid value encountered in scalar divide\n",
            "  (between_chain_variance / within_chain_variance + num_samples - 1) / (num_samples)\n",
            "/usr/local/lib/python3.11/dist-packages/arviz/stats/diagnostics.py:596: RuntimeWarning: invalid value encountered in scalar divide\n",
            "  (between_chain_variance / within_chain_variance + num_samples - 1) / (num_samples)\n",
            "/usr/local/lib/python3.11/dist-packages/arviz/stats/diagnostics.py:596: RuntimeWarning: invalid value encountered in scalar divide\n",
            "  (between_chain_variance / within_chain_variance + num_samples - 1) / (num_samples)\n",
            "/usr/local/lib/python3.11/dist-packages/arviz/stats/diagnostics.py:596: RuntimeWarning: invalid value encountered in scalar divide\n",
            "  (between_chain_variance / within_chain_variance + num_samples - 1) / (num_samples)\n",
            "/usr/local/lib/python3.11/dist-packages/arviz/stats/diagnostics.py:596: RuntimeWarning: invalid value encountered in scalar divide\n",
            "  (between_chain_variance / within_chain_variance + num_samples - 1) / (num_samples)\n",
            "/usr/local/lib/python3.11/dist-packages/arviz/stats/diagnostics.py:596: RuntimeWarning: invalid value encountered in scalar divide\n",
            "  (between_chain_variance / within_chain_variance + num_samples - 1) / (num_samples)\n",
            "/usr/local/lib/python3.11/dist-packages/arviz/stats/diagnostics.py:596: RuntimeWarning: invalid value encountered in scalar divide\n",
            "  (between_chain_variance / within_chain_variance + num_samples - 1) / (num_samples)\n"
          ]
        },
        {
          "output_type": "stream",
          "name": "stdout",
          "text": [
            "              mean     sd  hdi_3%  hdi_97%  mcse_mean  mcse_sd  ess_bulk  \\\n",
            "cluster[0]   1.500  0.500   1.000    2.000      0.353    0.299       2.0   \n",
            "cluster[1]   1.500  0.500   1.000    2.000      0.353    0.299       2.0   \n",
            "cluster[2]   1.500  0.500   1.000    2.000      0.353    0.299       2.0   \n",
            "cluster[3]   1.500  0.500   1.000    2.000      0.353    0.299       2.0   \n",
            "cluster[4]   1.500  0.500   1.000    2.000      0.353    0.299       2.0   \n",
            "...            ...    ...     ...      ...        ...      ...       ...   \n",
            "sigma[1, 1]  0.338  0.063   0.240    0.450      0.038    0.030       3.0   \n",
            "sigma[1, 2]  0.373  0.200   0.143    0.645      0.138    0.116       3.0   \n",
            "sigma[2, 0]  0.438  0.091   0.299    0.589      0.056    0.045       3.0   \n",
            "sigma[2, 1]  0.335  0.065   0.230    0.444      0.040    0.032       3.0   \n",
            "sigma[2, 2]  0.417  0.244   0.146    0.745      0.169    0.142       3.0   \n",
            "\n",
            "             ess_tail       r_hat  \n",
            "cluster[0]        2.0  4876400.29  \n",
            "cluster[1]        2.0  4876400.29  \n",
            "cluster[2]        2.0  4876400.29  \n",
            "cluster[3]        2.0  4876400.29  \n",
            "cluster[4]        2.0  4876400.29  \n",
            "...               ...         ...  \n",
            "sigma[1, 1]      59.0        1.72  \n",
            "sigma[1, 2]      57.0        1.83  \n",
            "sigma[2, 0]      57.0        1.78  \n",
            "sigma[2, 1]      53.0        1.74  \n",
            "sigma[2, 2]      63.0        1.83  \n",
            "\n",
            "[168 rows x 9 columns]\n"
          ]
        }
      ]
    }
  ]
}